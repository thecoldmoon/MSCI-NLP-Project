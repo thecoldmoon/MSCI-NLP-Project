{
 "cells": [
  {
   "cell_type": "markdown",
   "id": "24071e80",
   "metadata": {},
   "source": [
    "# MSCI 598: Custom Project\n",
    "## Medical Abstract Classification\n"
   ]
  },
  {
   "cell_type": "code",
   "execution_count": 4,
   "id": "39c42c20",
   "metadata": {},
   "outputs": [
    {
     "name": "stderr",
     "output_type": "stream",
     "text": [
      "/usr/local/lib/python3.9/site-packages/tqdm/auto.py:22: TqdmWarning: IProgress not found. Please update jupyter and ipywidgets. See https://ipywidgets.readthedocs.io/en/stable/user_install.html\n",
      "  from .autonotebook import tqdm as notebook_tqdm\n"
     ]
    }
   ],
   "source": [
    "import pandas as pd\n",
    "import numpy as np \n",
    "import math\n",
    "import os\n",
    "import re\n",
    "import matplotlib.pyplot as plt\n",
    "from sklearn.preprocessing import OneHotEncoder, LabelEncoder\n",
    "from tensorflow.keras.layers.experimental.preprocessing import TextVectorization\n",
    "import torch\n",
    "import torch.nn as nn\n",
    "import torch.optim as optim\n",
    "from torch.utils.data import Dataset, DataLoader\n",
    "\n",
    "from torch.nn.utils.rnn import pack_padded_sequence, pad_packed_sequence\n",
    "\n",
    "\n",
    "from sklearn.metrics import accuracy_score, classification_report, confusion_matrix\n",
    "import seaborn as sns"
   ]
  },
  {
   "cell_type": "code",
   "execution_count": 5,
   "id": "eff30fb3",
   "metadata": {},
   "outputs": [
    {
     "name": "stdout",
     "output_type": "stream",
     "text": [
      "False\n",
      "cpu\n"
     ]
    }
   ],
   "source": [
    "ngpu = 1\n",
    "device = torch.device(\"cuda:0\" if (torch.cuda.is_available() and ngpu > 0) else \"cpu\")\n",
    "print(torch.cuda.is_available() )\n",
    "print(device)"
   ]
  },
  {
   "cell_type": "code",
   "execution_count": 6,
   "id": "255a48ab",
   "metadata": {},
   "outputs": [],
   "source": [
    "# SOURCE for preprocessing functions: \n",
    "# Abstract Segmentation NLP notebook (https://www.kaggle.com/anshulmehtakaggl/abstract-segmentation-nlp)\n",
    "\n",
    "# Creating a function to read the txt Files\n",
    "# This function returns all the lines in the txt file as a list\n",
    "def get_lines(filename):\n",
    "    with open(filename,\"r\") as f:\n",
    "        return f.readlines()\n",
    "\n",
    "# Creating a function to read the txt Files\n",
    "# This function returns all the lines in the txt file as a list\n",
    "def get_lines(filename):\n",
    "    with open(filename,\"r\") as f:\n",
    "        return f.readlines()\n",
    "\n",
    "#Preprocessing Functions\n",
    "# Returns a list of dictionaries of abstract's lines\n",
    "# Dict Format --> {'TARGET':'Background/Results/Objetive/Concludion','Text':'The actual statement'}\n",
    "def preprocess_data(filename):\n",
    "    input_lines=get_lines(filename)\n",
    "    #This will be used to separte the abstracts from  one another using String mets\n",
    "    abstract_lines=\"\"\n",
    "    # Empty list of abstracts        \n",
    "    abstract_samples=[]\n",
    "    for line in input_lines:\n",
    "        # Check for a new abstract\n",
    "        if line.startswith(\"###\"):\n",
    "            abstract_id=line\n",
    "            # And since we are in a new abstract we will Reset the abstract_lines\n",
    "            abstract_lines=\"\"\n",
    "        # Check for a new line \\n escape seq\n",
    "        elif line.isspace():\n",
    "            # Split the Lines of the abstract and will return a list of one abstract\n",
    "            abstract_line_split=abstract_lines.splitlines()\n",
    "            # Now we have to iterate through this singular abstract\n",
    "            for abstract_line_number, abstract_line in enumerate(abstract_line_split):\n",
    "                #  Enumerate() method adds a counter to an iterable and returns it in a form of enumerating object.\n",
    "                # Create a empty Dict per line\n",
    "                line_data={}\n",
    "                # Split on the tab \\t esc seq\n",
    "                target_text_split=abstract_line.split(\"\\t\")\n",
    "                # Get the Label of the sentence as the Label\n",
    "                line_data[\"target\"]=target_text_split[0]\n",
    "                # Get the Text of the Lien as the Text Key\n",
    "                line_data[\"text\"]=target_text_split[1].lower()\n",
    "                # Also adding the Line Nnumber as it will also aid the model\n",
    "                line_data[\"line_number\"]=abstract_line_number\n",
    "                # Number of Lines in that particular abstract\n",
    "                line_data[\"total_lines\"]=len(abstract_line_split)-1\n",
    "                # Now we have to append them to the absract_samples list\n",
    "                abstract_samples.append(line_data)\n",
    "        # So if both the cases are not there then the line is a labelled sentence\n",
    "        else:\n",
    "            abstract_lines+=line\n",
    "    return abstract_samples\n"
   ]
  },
  {
   "cell_type": "code",
   "execution_count": 7,
   "id": "daff2f43",
   "metadata": {},
   "outputs": [
    {
     "name": "stdout",
     "output_type": "stream",
     "text": [
      "['./results/PubMed_20k_RCT_numbers_replaced_with_at_sign/dev.txt', './results/PubMed_20k_RCT_numbers_replaced_with_at_sign/train.txt', './results/PubMed_20k_RCT_numbers_replaced_with_at_sign/test.txt']\n"
     ]
    }
   ],
   "source": [
    "# Reading in and preprocessing data\n",
    "data_dir = \"./results/PubMed_20k_RCT_numbers_replaced_with_at_sign/\"\n",
    "filenames=[data_dir + filename for filename in os.listdir(data_dir)]\n",
    "print(filenames)\n",
    "\n",
    "train_samples=preprocess_data(data_dir+\"train.txt\")\n",
    "val_samples=preprocess_data(data_dir+\"dev.txt\")\n",
    "test_samples=preprocess_data(data_dir+\"test.txt\")        \n"
   ]
  },
  {
   "cell_type": "code",
   "execution_count": 8,
   "id": "c72bda87",
   "metadata": {},
   "outputs": [],
   "source": [
    "# Converting data to df\n",
    "train_df=pd.DataFrame(train_samples)\n",
    "test_df=pd.DataFrame(test_samples)\n",
    "val_df=pd.DataFrame(val_samples)\n",
    "\n",
    "# Data distribution\n",
    "train_df.target.value_counts()\n",
    "\n",
    "# Isolating the sentences\n",
    "train_sentences=train_df[\"text\"].tolist()\n",
    "test_sentences=test_df[\"text\"].tolist()\n",
    "val_sentences=val_df[\"text\"].tolist()"
   ]
  },
  {
   "cell_type": "code",
   "execution_count": 30,
   "id": "67418dd4",
   "metadata": {},
   "outputs": [
    {
     "name": "stdout",
     "output_type": "stream",
     "text": [
      "<class 'str'> <class 'str'>\n"
     ]
    }
   ],
   "source": [
    "print(type(train_samples[0][\"target\"]) , type(train_samples[0][\"text\"]))"
   ]
  },
  {
   "cell_type": "code",
   "execution_count": 9,
   "id": "00aa19bb",
   "metadata": {},
   "outputs": [
    {
     "data": {
      "text/plain": [
       "(5,\n",
       " array(['BACKGROUND', 'CONCLUSIONS', 'METHODS', 'OBJECTIVE', 'RESULTS'],\n",
       "       dtype=object))"
      ]
     },
     "execution_count": 9,
     "metadata": {},
     "output_type": "execute_result"
    }
   ],
   "source": [
    "# Turning the target Labels into Numeric Data\n",
    "# We have 5 main labels -> Background, Objective,Methods, Results, Conclusion\n",
    "# We'll encode them both 1HEC and Simple Numerical\n",
    "\n",
    "# Tensorflow is incompatible with sparse matrices\n",
    "one_hot_encoder=OneHotEncoder(sparse=False)\n",
    "# You should reshape your X to be a 2D array not 1D array. Fitting a model requires requires a 2D array. i.e (n_samples, n_features)\n",
    "train_labels_one_hot=one_hot_encoder.fit_transform(train_df[\"target\"].to_numpy().reshape(-1,1))\n",
    "val_labels_one_hot=one_hot_encoder.fit_transform(val_df[\"target\"].to_numpy().reshape(-1,1))\n",
    "test_labels_one_hot=one_hot_encoder.fit_transform(test_df[\"target\"].to_numpy().reshape(-1,1))\n",
    "train_labels_one_hot,val_labels_one_hot,test_labels_one_hot\n",
    "\n",
    "le=LabelEncoder()\n",
    "train_labels_encoded=le.fit_transform(train_df[\"target\"])\n",
    "test_labels_encoded=le.fit_transform(test_df[\"target\"])\n",
    "val_labels_encoded=le.fit_transform(val_df[\"target\"])\n",
    "\n",
    "train_labels_onehot = nn.functional.one_hot(torch.from_numpy(train_labels_encoded).to(torch.int64), num_classes=- 1)\n",
    "val_labels_onehot = nn.functional.one_hot(torch.from_numpy(val_labels_encoded).to(torch.int64), num_classes=- 1)\n",
    "test_labels_onehot = nn.functional.one_hot(torch.from_numpy(test_labels_encoded).to(torch.int64), num_classes=- 1)\n",
    "\n",
    "\n",
    "# Retieving classes \n",
    "num_classes=len(le.classes_)\n",
    "class_names=le.classes_\n",
    "num_classes,class_names"
   ]
  },
  {
   "cell_type": "code",
   "execution_count": 35,
   "id": "ea1f03eb",
   "metadata": {},
   "outputs": [
    {
     "data": {
      "text/plain": [
       "str"
      ]
     },
     "execution_count": 35,
     "metadata": {},
     "output_type": "execute_result"
    }
   ],
   "source": [
    "type(train_sentences[0])"
   ]
  },
  {
   "cell_type": "code",
   "execution_count": null,
   "id": "f453e6b3",
   "metadata": {},
   "outputs": [],
   "source": []
  },
  {
   "cell_type": "code",
   "execution_count": 10,
   "id": "ce57dc84",
   "metadata": {},
   "outputs": [
    {
     "name": "stderr",
     "output_type": "stream",
     "text": [
      "2022-04-02 18:21:33.707475: I tensorflow/core/platform/cpu_feature_guard.cc:151] This TensorFlow binary is optimized with oneAPI Deep Neural Network Library (oneDNN) to use the following CPU instructions in performance-critical operations:  AVX2 FMA\n",
      "To enable them in other operations, rebuild TensorFlow with the appropriate compiler flags.\n"
     ]
    }
   ],
   "source": [
    "# Vectorize the text and then create Embeddings\n",
    "\n",
    "# How long is each sentence on average\n",
    "sent_lens=[len(sentence.split()) for sentence in train_sentences]\n",
    "avg_sent_lens=np.mean(sent_lens)\n",
    "avg_sent_lens\n",
    "# sent_lens\n",
    "#  So we will need Padding and Truncating as the input shapes must be maintained\n",
    "\n",
    "# Calculate the percentile of length of sentences\n",
    "output_seq_len=int(np.percentile(sent_lens,95))\n",
    "output_seq_len\n",
    "# So 95% sentences are in length of 55\n",
    "\n",
    "# Creating a text Vectorization Layer\n",
    "# Mapping our text from words to Numbers\n",
    "# An embedding is a relatively low-dimensional space into which you can translate high-dimensional vectors. \n",
    "# Vocabulary size in the Research Paper is 68000\n",
    "max_tokens=68000\n",
    "\n",
    "text_vectorizer=TextVectorization(max_tokens=max_tokens,output_sequence_length=output_seq_len)\n",
    "\n",
    "# Adapt the Text Vectorizer to the Training Data\n",
    "# We have to adapt it to only the training data so that val and test data are not seen\n",
    "# Later it can be fitted to the two latter\n",
    "text_vectorizer.adapt(train_sentences)"
   ]
  },
  {
   "cell_type": "code",
   "execution_count": 11,
   "id": "652c2a2c",
   "metadata": {},
   "outputs": [
    {
     "name": "stdout",
     "output_type": "stream",
     "text": [
      "64841\n",
      "['', '[UNK]', 'the', 'and', 'of']\n",
      "['aainduced', 'aaigroup', 'aachener', 'aachen', 'aaacp']\n"
     ]
    },
    {
     "data": {
      "text/plain": [
       "{'name': 'text_vectorization',\n",
       " 'trainable': True,\n",
       " 'batch_input_shape': (None,),\n",
       " 'dtype': 'string',\n",
       " 'max_tokens': 68000,\n",
       " 'standardize': 'lower_and_strip_punctuation',\n",
       " 'split': 'whitespace',\n",
       " 'ngrams': None,\n",
       " 'output_mode': 'int',\n",
       " 'output_sequence_length': 55,\n",
       " 'pad_to_max_tokens': False,\n",
       " 'sparse': False,\n",
       " 'ragged': False,\n",
       " 'vocabulary': None,\n",
       " 'idf_weights': None}"
      ]
     },
     "execution_count": 11,
     "metadata": {},
     "output_type": "execute_result"
    }
   ],
   "source": [
    "# Finding out how many words are there  in the training vocabulary and which are  most common\n",
    "# Also text vectorizer works pretty straightforwardly, 1 to most common word, 2 to 2nd most common word and so on\n",
    "train_vocab=text_vectorizer.get_vocabulary()\n",
    "# Size of Vocab\n",
    "print(len(train_vocab))\n",
    "# 5 Most Common Words in the Vocab\n",
    "print(train_vocab[:5])\n",
    "# Least common 5 words in the vocab\n",
    "print(train_vocab[-5:])\n",
    "\n",
    "# Get the config of our Text Vectorizer\n",
    "text_vectorizer.get_config()"
   ]
  },
  {
   "cell_type": "code",
   "execution_count": 12,
   "id": "7abdfa89",
   "metadata": {},
   "outputs": [],
   "source": [
    "# Create an Embedding Layer\n",
    "# More output dims , more emmbedding, more parameters to train\n",
    "# Masking the 0 considering them as padding\n",
    "    \n",
    "#token_embed=layers.Embedding(input_dim=len(train_vocab),output_dim=128,mask_zero=True,name=\"token_embedding\")\n",
    "\n",
    "token_embed_py = torch.nn.Embedding(num_embeddings=len(train_vocab), embedding_dim=128, padding_idx=0)\n"
   ]
  },
  {
   "cell_type": "code",
   "execution_count": 13,
   "id": "e5a739be",
   "metadata": {},
   "outputs": [],
   "source": [
    "# Dataset class for vectorized sentences\n",
    "class CustomTextDataset(Dataset):\n",
    "    def __init__(self, data, labels):\n",
    "        self.labels = labels\n",
    "        self.data = data\n",
    "\n",
    "    def __len__(self):\n",
    "        return len(self.labels)\n",
    "\n",
    "    def __getitem__(self, idx):\n",
    "        data = self.data[idx]\n",
    "        label = self.labels[idx]\n",
    "        return data, label\n",
    "\n",
    "train_dataset = CustomTextDataset(train_sentences, train_labels_one_hot)\n",
    "val_dataset = CustomTextDataset(val_sentences, val_labels_one_hot)\n",
    "test_dataset = CustomTextDataset(test_sentences, test_labels_one_hot)\n",
    "\n",
    "train_loader = DataLoader(train_dataset, batch_size=28, shuffle=True)\n",
    "val_loader = DataLoader(val_dataset, batch_size=28, shuffle=True)\n",
    "test_loader = DataLoader(test_dataset, batch_size=28, shuffle=True)\n",
    "\n",
    "# <TensorSliceDataset shapes: ((), (5,)), types: (tf.string, tf.float64)>\n",
    "# Which indicates one Text Sample in first tuple, next tuple is (0,0,0,0,1) -> 1hc "
   ]
  },
  {
   "cell_type": "code",
   "execution_count": 39,
   "id": "efd3c8f4",
   "metadata": {},
   "outputs": [
    {
     "data": {
      "text/plain": [
       "('to investigate the efficacy of @ weeks of daily low-dose oral prednisolone in improving pain , mobility , and systemic low-grade inflammation in the short term and whether the effect would be sustained at @ weeks in older adults with moderate to severe knee osteoarthritis ( oa ) .',\n",
       " array([0., 0., 0., 1., 0.]))"
      ]
     },
     "execution_count": 39,
     "metadata": {},
     "output_type": "execute_result"
    }
   ],
   "source": [
    "train_dataset[0]"
   ]
  },
  {
   "cell_type": "code",
   "execution_count": 24,
   "id": "e98e1460",
   "metadata": {},
   "outputs": [
    {
     "name": "stdout",
     "output_type": "stream",
     "text": [
      "<class 'tuple'> <class 'torch.Tensor'>\n"
     ]
    }
   ],
   "source": [
    "for data, label in train_loader:\n",
    "    print(type(data),type(label))\n",
    "    break"
   ]
  },
  {
   "cell_type": "markdown",
   "id": "c3cef43e",
   "metadata": {},
   "source": [
    "# LSTM\n",
    "https://towardsdatascience.com/lstm-text-classification-using-pytorch-2c6c657f8fc0"
   ]
  },
  {
   "cell_type": "code",
   "execution_count": 14,
   "id": "4c1cb451",
   "metadata": {},
   "outputs": [],
   "source": [
    "class LSTM(nn.Module):\n",
    "\n",
    "    def __init__(self, dimension=128):\n",
    "        super(LSTM, self).__init__()\n",
    "\n",
    "        self.embedding = nn.Embedding(len(train_vocab), 300, padding_idx=0)\n",
    "        self.dimension = dimension\n",
    "        self.lstm = nn.LSTM(input_size=300,\n",
    "                            hidden_size=dimension,\n",
    "                            num_layers=1,\n",
    "                            batch_first=True,\n",
    "                            bidirectional=True)\n",
    "        self.drop = nn.Dropout(p=0.5)\n",
    "\n",
    "        self.fc = nn.Linear(2*dimension, 5)\n",
    "\n",
    "    def forward(self, text, text_len):\n",
    "\n",
    "        text_emb = self.embedding(text)\n",
    "\n",
    "        #packed_input = pack_padded_sequence(text_emb, text_len, batch_first=True, enforce_sorted=False)\n",
    "        packed_input = text_emb\n",
    "        packed_output, _ = self.lstm(packed_input)\n",
    "        #output, _ = pad_packed_sequence(packed_output, batch_first=True)\n",
    "        output = packed_output\n",
    "        \n",
    "        out_forward = output[range(len(output)), text_len - 1, :self.dimension]\n",
    "        out_reverse = output[:, 0, self.dimension:]\n",
    "        out_reduced = torch.cat((out_forward, out_reverse), 1)\n",
    "        text_fea = self.drop(out_reduced)\n",
    "\n",
    "        text_fea = self.fc(text_fea)\n",
    "        text_fea = torch.squeeze(text_fea, 1)\n",
    "        text_out = torch.sigmoid(text_fea)\n",
    "\n",
    "        return text_out"
   ]
  },
  {
   "cell_type": "code",
   "execution_count": 15,
   "id": "35b613cd",
   "metadata": {},
   "outputs": [],
   "source": [
    "# Save and Load Functions\n",
    "\n",
    "def save_checkpoint(save_path, model, optimizer, valid_loss):\n",
    "\n",
    "    if save_path == None:\n",
    "        return\n",
    "    \n",
    "    state_dict = {'model_state_dict': model.state_dict(),\n",
    "                  'optimizer_state_dict': optimizer.state_dict(),\n",
    "                  'valid_loss': valid_loss}\n",
    "    \n",
    "    torch.save(state_dict, save_path)\n",
    "    print(f'Model saved to ==> {save_path}')\n",
    "\n",
    "\n",
    "def load_checkpoint(load_path, model, optimizer):\n",
    "\n",
    "    if load_path==None:\n",
    "        return\n",
    "    \n",
    "    state_dict = torch.load(load_path, map_location=device)\n",
    "    print(f'Model loaded from <== {load_path}')\n",
    "    \n",
    "    model.load_state_dict(state_dict['model_state_dict'])\n",
    "    optimizer.load_state_dict(state_dict['optimizer_state_dict'])\n",
    "    \n",
    "    return state_dict['valid_loss']\n",
    "\n",
    "\n",
    "def save_metrics(save_path, train_loss_list, valid_loss_list, global_steps_list):\n",
    "\n",
    "    if save_path == None:\n",
    "        return\n",
    "    \n",
    "    state_dict = {'train_loss_list': train_loss_list,\n",
    "                  'valid_loss_list': valid_loss_list,\n",
    "                  'global_steps_list': global_steps_list}\n",
    "    \n",
    "    torch.save(state_dict, save_path)\n",
    "    print(f'Model saved to ==> {save_path}')\n",
    "\n",
    "\n",
    "def load_metrics(load_path):\n",
    "\n",
    "    if load_path==None:\n",
    "        return\n",
    "    \n",
    "    state_dict = torch.load(load_path, map_location=device)\n",
    "    print(f'Model loaded from <== {load_path}')\n",
    "    \n",
    "    return state_dict['train_loss_list'], state_dict['valid_loss_list'], state_dict['global_steps_list']\n"
   ]
  },
  {
   "cell_type": "code",
   "execution_count": 16,
   "id": "573a2d04",
   "metadata": {},
   "outputs": [
    {
     "name": "stderr",
     "output_type": "stream",
     "text": [
      "/var/folders/4d/jvnc9_4j09d7jr9pbgj7t8080000gn/T/ipykernel_4469/2274186237.py:29: UserWarning: To copy construct from a tensor, it is recommended to use sourceTensor.clone().detach() or sourceTensor.clone().detach().requires_grad_(True), rather than torch.tensor(sourceTensor).\n",
      "  data, labels = torch.tensor(data).to(device), torch.tensor(labels).to(device)\n"
     ]
    },
    {
     "ename": "KeyboardInterrupt",
     "evalue": "",
     "output_type": "error",
     "traceback": [
      "\u001b[0;31m---------------------------------------------------------------------------\u001b[0m",
      "\u001b[0;31mKeyboardInterrupt\u001b[0m                         Traceback (most recent call last)",
      "Input \u001b[0;32mIn [16]\u001b[0m, in \u001b[0;36m<cell line: 91>\u001b[0;34m()\u001b[0m\n\u001b[1;32m     88\u001b[0m optimizer \u001b[38;5;241m=\u001b[39m optim\u001b[38;5;241m.\u001b[39mAdam(model\u001b[38;5;241m.\u001b[39mparameters(), lr\u001b[38;5;241m=\u001b[39m\u001b[38;5;241m0.001\u001b[39m)\n\u001b[1;32m     89\u001b[0m scheduler \u001b[38;5;241m=\u001b[39m optim\u001b[38;5;241m.\u001b[39mlr_scheduler\u001b[38;5;241m.\u001b[39mCosineAnnealingLR(optimizer, num_epochs)\n\u001b[0;32m---> 91\u001b[0m \u001b[43mtrain\u001b[49m\u001b[43m(\u001b[49m\u001b[43mmodel\u001b[49m\u001b[38;5;241;43m=\u001b[39;49m\u001b[43mmodel\u001b[49m\u001b[43m,\u001b[49m\u001b[43m \u001b[49m\u001b[43moptimizer\u001b[49m\u001b[38;5;241;43m=\u001b[39;49m\u001b[43moptimizer\u001b[49m\u001b[43m,\u001b[49m\u001b[43m \u001b[49m\u001b[43mscheduler\u001b[49m\u001b[38;5;241;43m=\u001b[39;49m\u001b[43mscheduler\u001b[49m\u001b[43m,\u001b[49m\u001b[43m \u001b[49m\u001b[43mnum_epochs\u001b[49m\u001b[38;5;241;43m=\u001b[39;49m\u001b[43mnum_epochs\u001b[49m\u001b[43m)\u001b[49m\n",
      "Input \u001b[0;32mIn [16]\u001b[0m, in \u001b[0;36mtrain\u001b[0;34m(model, optimizer, scheduler, criterion, train_loader, valid_loader, num_epochs, eval_every, file_path, best_valid_loss)\u001b[0m\n\u001b[1;32m     33\u001b[0m loss \u001b[38;5;241m=\u001b[39m criterion(output, labels\u001b[38;5;241m.\u001b[39mto(torch\u001b[38;5;241m.\u001b[39mfloat32))\n\u001b[1;32m     34\u001b[0m optimizer\u001b[38;5;241m.\u001b[39mzero_grad()\n\u001b[0;32m---> 35\u001b[0m \u001b[43mloss\u001b[49m\u001b[38;5;241;43m.\u001b[39;49m\u001b[43mbackward\u001b[49m\u001b[43m(\u001b[49m\u001b[43m)\u001b[49m\n\u001b[1;32m     36\u001b[0m optimizer\u001b[38;5;241m.\u001b[39mstep()\n\u001b[1;32m     37\u001b[0m scheduler\u001b[38;5;241m.\u001b[39mstep()\n",
      "File \u001b[0;32m/usr/local/lib/python3.9/site-packages/torch/_tensor.py:363\u001b[0m, in \u001b[0;36mTensor.backward\u001b[0;34m(self, gradient, retain_graph, create_graph, inputs)\u001b[0m\n\u001b[1;32m    354\u001b[0m \u001b[38;5;28;01mif\u001b[39;00m has_torch_function_unary(\u001b[38;5;28mself\u001b[39m):\n\u001b[1;32m    355\u001b[0m     \u001b[38;5;28;01mreturn\u001b[39;00m handle_torch_function(\n\u001b[1;32m    356\u001b[0m         Tensor\u001b[38;5;241m.\u001b[39mbackward,\n\u001b[1;32m    357\u001b[0m         (\u001b[38;5;28mself\u001b[39m,),\n\u001b[0;32m   (...)\u001b[0m\n\u001b[1;32m    361\u001b[0m         create_graph\u001b[38;5;241m=\u001b[39mcreate_graph,\n\u001b[1;32m    362\u001b[0m         inputs\u001b[38;5;241m=\u001b[39minputs)\n\u001b[0;32m--> 363\u001b[0m \u001b[43mtorch\u001b[49m\u001b[38;5;241;43m.\u001b[39;49m\u001b[43mautograd\u001b[49m\u001b[38;5;241;43m.\u001b[39;49m\u001b[43mbackward\u001b[49m\u001b[43m(\u001b[49m\u001b[38;5;28;43mself\u001b[39;49m\u001b[43m,\u001b[49m\u001b[43m \u001b[49m\u001b[43mgradient\u001b[49m\u001b[43m,\u001b[49m\u001b[43m \u001b[49m\u001b[43mretain_graph\u001b[49m\u001b[43m,\u001b[49m\u001b[43m \u001b[49m\u001b[43mcreate_graph\u001b[49m\u001b[43m,\u001b[49m\u001b[43m \u001b[49m\u001b[43minputs\u001b[49m\u001b[38;5;241;43m=\u001b[39;49m\u001b[43minputs\u001b[49m\u001b[43m)\u001b[49m\n",
      "File \u001b[0;32m/usr/local/lib/python3.9/site-packages/torch/autograd/__init__.py:173\u001b[0m, in \u001b[0;36mbackward\u001b[0;34m(tensors, grad_tensors, retain_graph, create_graph, grad_variables, inputs)\u001b[0m\n\u001b[1;32m    168\u001b[0m     retain_graph \u001b[38;5;241m=\u001b[39m create_graph\n\u001b[1;32m    170\u001b[0m \u001b[38;5;66;03m# The reason we repeat same the comment below is that\u001b[39;00m\n\u001b[1;32m    171\u001b[0m \u001b[38;5;66;03m# some Python versions print out the first line of a multi-line function\u001b[39;00m\n\u001b[1;32m    172\u001b[0m \u001b[38;5;66;03m# calls in the traceback and some print out the last line\u001b[39;00m\n\u001b[0;32m--> 173\u001b[0m \u001b[43mVariable\u001b[49m\u001b[38;5;241;43m.\u001b[39;49m\u001b[43m_execution_engine\u001b[49m\u001b[38;5;241;43m.\u001b[39;49m\u001b[43mrun_backward\u001b[49m\u001b[43m(\u001b[49m\u001b[43m  \u001b[49m\u001b[38;5;66;43;03m# Calls into the C++ engine to run the backward pass\u001b[39;49;00m\n\u001b[1;32m    174\u001b[0m \u001b[43m    \u001b[49m\u001b[43mtensors\u001b[49m\u001b[43m,\u001b[49m\u001b[43m \u001b[49m\u001b[43mgrad_tensors_\u001b[49m\u001b[43m,\u001b[49m\u001b[43m \u001b[49m\u001b[43mretain_graph\u001b[49m\u001b[43m,\u001b[49m\u001b[43m \u001b[49m\u001b[43mcreate_graph\u001b[49m\u001b[43m,\u001b[49m\u001b[43m \u001b[49m\u001b[43minputs\u001b[49m\u001b[43m,\u001b[49m\n\u001b[1;32m    175\u001b[0m \u001b[43m    \u001b[49m\u001b[43mallow_unreachable\u001b[49m\u001b[38;5;241;43m=\u001b[39;49m\u001b[38;5;28;43;01mTrue\u001b[39;49;00m\u001b[43m,\u001b[49m\u001b[43m \u001b[49m\u001b[43maccumulate_grad\u001b[49m\u001b[38;5;241;43m=\u001b[39;49m\u001b[38;5;28;43;01mTrue\u001b[39;49;00m\u001b[43m)\u001b[49m\n",
      "\u001b[0;31mKeyboardInterrupt\u001b[0m: "
     ]
    }
   ],
   "source": [
    "destination_folder = \"./models\"\n",
    "\n",
    "# Training Function\n",
    "\n",
    "def train(model,\n",
    "          optimizer,\n",
    "          scheduler,\n",
    "          criterion = nn.BCELoss(),\n",
    "          train_loader = train_loader,\n",
    "          valid_loader = val_loader,\n",
    "          num_epochs = 5,\n",
    "          eval_every = len(train_loader) // 2,\n",
    "          file_path = destination_folder,\n",
    "          best_valid_loss = float(\"Inf\")):\n",
    "    \n",
    "    # initialize running values\n",
    "    running_loss = 0.0\n",
    "    valid_running_loss = 0.0\n",
    "    global_step = 0\n",
    "    train_loss_list = []\n",
    "    valid_loss_list = []\n",
    "    global_steps_list = []\n",
    "\n",
    "    # training loop\n",
    "    model.train()\n",
    "    for epoch in range(num_epochs):\n",
    "        for data, labels in train_loader:   \n",
    "            data = text_vectorizer(data).numpy()\n",
    "            data, labels = torch.tensor(data).to(device), torch.tensor(labels).to(device)\n",
    "\n",
    "            output = model(data, output_seq_len)\n",
    "\n",
    "            loss = criterion(output, labels.to(torch.float32))\n",
    "            optimizer.zero_grad()\n",
    "            loss.backward()\n",
    "            optimizer.step()\n",
    "            scheduler.step()\n",
    "            \n",
    "            \n",
    "            # update running values\n",
    "            running_loss += loss.item()\n",
    "            global_step += 1\n",
    "\n",
    "            \n",
    "            \n",
    "            # evaluation step\n",
    "            if global_step % eval_every == 0:\n",
    "                model.eval()\n",
    "                with torch.no_grad():                    \n",
    "                  # validation loop\n",
    "                  for data, labels in valid_loader:\n",
    "                        data = text_vectorizer(data).numpy()\n",
    "                        data, labels = torch.tensor(data).to(device), torch.tensor(labels).to(device)\n",
    "                        output = model(data, output_seq_len)\n",
    "\n",
    "                        loss = criterion(output, labels.to(torch.float32))\n",
    "                        valid_running_loss += loss.item()\n",
    "\n",
    "                # evaluation\n",
    "                average_train_loss = running_loss / eval_every\n",
    "                average_valid_loss = valid_running_loss / len(valid_loader)\n",
    "                train_loss_list.append(average_train_loss)\n",
    "                valid_loss_list.append(average_valid_loss)\n",
    "                global_steps_list.append(global_step)\n",
    "\n",
    "                # resetting running values\n",
    "                running_loss = 0.0                \n",
    "                valid_running_loss = 0.0\n",
    "                model.train()\n",
    "\n",
    "                # print progress\n",
    "                print('Epoch [{}/{}], Step [{}/{}], Train Loss: {:.4f}, Valid Loss: {:.4f}'\n",
    "                      .format(epoch+1, num_epochs, global_step, num_epochs*len(train_loader),\n",
    "                              average_train_loss, average_valid_loss))\n",
    "                \n",
    "                # checkpoint\n",
    "                if best_valid_loss > average_valid_loss:\n",
    "                    best_valid_loss = average_valid_loss\n",
    "                    save_checkpoint(file_path + '/model.pt', model, optimizer, best_valid_loss)\n",
    "                    save_metrics(file_path + '/metrics.pt', train_loss_list, valid_loss_list, global_steps_list)\n",
    "    \n",
    "    save_metrics(file_path + '/metrics.pt', train_loss_list, valid_loss_list, global_steps_list)\n",
    "    print('Finished Training!')\n",
    "    \n",
    "\n",
    "num_epochs = 10\n",
    "model = LSTM().to(device)\n",
    "optimizer = optim.Adam(model.parameters(), lr=0.001)\n",
    "scheduler = optim.lr_scheduler.CosineAnnealingLR(optimizer, num_epochs)\n",
    "\n",
    "train(model=model, optimizer=optimizer, scheduler=scheduler, num_epochs=num_epochs)"
   ]
  },
  {
   "cell_type": "code",
   "execution_count": 25,
   "id": "10079644",
   "metadata": {},
   "outputs": [
    {
     "name": "stdout",
     "output_type": "stream",
     "text": [
      "Model loaded from <== ./models/metrics.pt\n"
     ]
    },
    {
     "data": {
      "image/png": "[encoded data removed]",
      "text/plain": [
       "<Figure size 432x288 with 1 Axes>"
      ]
     },
     "metadata": {
      "needs_background": "light"
     },
     "output_type": "display_data"
    }
   ],
   "source": [
    "train_loss_list, valid_loss_list, global_steps_list = load_metrics(destination_folder + '/metrics.pt')\n",
    "plt.plot(global_steps_list, train_loss_list, label='Train')\n",
    "plt.plot(global_steps_list, valid_loss_list, label='Valid')\n",
    "plt.xlabel('Global Steps')\n",
    "plt.ylabel('Loss')\n",
    "plt.legend()\n",
    "plt.show() "
   ]
  },
  {
   "cell_type": "code",
   "execution_count": 26,
   "id": "56e56687",
   "metadata": {},
   "outputs": [
    {
     "name": "stdout",
     "output_type": "stream",
     "text": [
      "Model loaded from <== ./models/model.pt\n"
     ]
    },
    {
     "name": "stderr",
     "output_type": "stream",
     "text": [
      "<ipython-input-26-d111a5ee9b86>:13: UserWarning: To copy construct from a tensor, it is recommended to use sourceTensor.clone().detach() or sourceTensor.clone().detach().requires_grad_(True), rather than torch.tensor(sourceTensor).\n",
      "  data, labels = torch.tensor(data).to(device), torch.tensor(labels).to(device)\n"
     ]
    },
    {
     "name": "stdout",
     "output_type": "stream",
     "text": [
      "Classification Report:\n",
      "              precision    recall  f1-score   support\n",
      "\n",
      "  BACKGROUND     0.6772    0.6164    0.6454      3621\n",
      " CONCLUSIONS     0.7840    0.7005    0.7399      4571\n",
      "     METHODS     0.8968    0.8943    0.8956      9897\n",
      "   OBJECTIVE     0.7864    0.4702    0.5885      2333\n",
      "     RESULTS     0.8876    0.8689    0.8782      9713\n",
      "\n",
      "   micro avg     0.8462    0.7905    0.8174     30135\n",
      "   macro avg     0.8064    0.7101    0.7495     30135\n",
      "weighted avg     0.8418    0.7905    0.8125     30135\n",
      " samples avg     0.7885    0.7905    0.7891     30135\n",
      "\n",
      "[[7.85694560e-01 8.92018779e-02 4.83291908e-02 7.12510356e-02\n",
      "  5.52333610e-03]\n",
      " [1.73266244e-01 7.00065631e-01 1.68453292e-02 8.75082039e-04\n",
      "  1.08947714e-01]\n",
      " [4.73880974e-02 5.45619885e-03 8.93907245e-01 2.93018086e-03\n",
      "  5.03182783e-02]\n",
      " [4.35919417e-01 4.07201029e-02 5.22931847e-02 4.66352336e-01\n",
      "  4.71495928e-03]\n",
      " [2.88273448e-02 4.19026048e-02 6.61999382e-02 3.08864409e-04\n",
      "  8.62761248e-01]]\n"
     ]
    },
    {
     "name": "stderr",
     "output_type": "stream",
     "text": [
      "C:\\Users\\Tia\\Anaconda3\\lib\\site-packages\\sklearn\\metrics\\_classification.py:1318: UndefinedMetricWarning: Precision and F-score are ill-defined and being set to 0.0 in samples with no predicted labels. Use `zero_division` parameter to control this behavior.\n",
      "  _warn_prf(average, modifier, msg_start, len(result))\n"
     ]
    },
    {
     "data": {
      "image/png": "[encoded data removed]",
      "text/plain": [
       "<Figure size 432x288 with 2 Axes>"
      ]
     },
     "metadata": {
      "needs_background": "light"
     },
     "output_type": "display_data"
    }
   ],
   "source": [
    "# Evaluation Function\n",
    "word_labels = np.unique(train_df[\"target\"])\n",
    "word_labels_short = [word_labels[i][:4] for i in np.arange(len(word_labels))]\n",
    "\n",
    "def evaluate(model, test_loader, version='title', threshold=0.5):\n",
    "    y_pred = []\n",
    "    y_true = []\n",
    "\n",
    "    model.eval()\n",
    "    with torch.no_grad():\n",
    "        for data, labels in test_loader:\n",
    "            data = text_vectorizer(data).numpy()\n",
    "            data, labels = torch.tensor(data).to(device), torch.tensor(labels).to(device)\n",
    "            output = model(data, output_seq_len)\n",
    "\n",
    "            output = (output > threshold).int()\n",
    "            y_pred.extend(output.tolist())\n",
    "            y_true.extend(labels.tolist())\n",
    "    \n",
    "    print('Classification Report:')\n",
    "    print(classification_report(y_true, y_pred, labels=[0,1,2,3,4], target_names=word_labels, digits=4))\n",
    "    \n",
    "    cm = confusion_matrix(np.array(y_true).argmax(axis=1), np.array(y_pred).argmax(axis=1), labels=[0,1,2,3,4], normalize='true')\n",
    "    print(cm)\n",
    "    ax= plt.subplot()\n",
    "    sns.heatmap(cm, annot=True, ax = ax, cmap='Blues')\n",
    "\n",
    "    ax.set_title('Confusion Matrix')\n",
    "\n",
    "    ax.set_xlabel('Predicted Labels')\n",
    "    ax.set_ylabel('True Labels')\n",
    "\n",
    "    ax.xaxis.set_ticklabels(word_labels_short)\n",
    "    ax.yaxis.set_ticklabels(word_labels_short)\n",
    "    \n",
    "    \n",
    "best_model = LSTM().to(device)\n",
    "optimizer = optim.Adam(best_model.parameters(), lr=0.001)\n",
    "\n",
    "load_checkpoint(destination_folder + '/model.pt', best_model, optimizer)\n",
    "evaluate(best_model, test_loader)"
   ]
  },
  {
   "cell_type": "code",
   "execution_count": 27,
   "id": "11495f05",
   "metadata": {},
   "outputs": [
    {
     "name": "stdout",
     "output_type": "stream",
     "text": [
      "[LSTM(\n",
      "  (embedding): Embedding(64841, 300, padding_idx=0)\n",
      "  (lstm): LSTM(300, 128, batch_first=True, bidirectional=True)\n",
      "  (drop): Dropout(p=0.5, inplace=False)\n",
      "  (fc): Linear(in_features=256, out_features=5, bias=True)\n",
      "), Embedding(64841, 300, padding_idx=0), LSTM(300, 128, batch_first=True, bidirectional=True), Dropout(p=0.5, inplace=False), Linear(in_features=256, out_features=5, bias=True)]\n"
     ]
    }
   ],
   "source": [
    "l = [module for module in model.modules() if not isinstance(module, nn.Sequential)]\n",
    "print(l)"
   ]
  },
  {
   "cell_type": "code",
   "execution_count": null,
   "id": "39129691",
   "metadata": {},
   "outputs": [],
   "source": []
  }
 ],
 "metadata": {
  "kernelspec": {
   "display_name": "Python 3 (ipykernel)",
   "language": "python",
   "name": "python3"
  },
  "language_info": {
   "codemirror_mode": {
    "name": "ipython",
    "version": 3
   },
   "file_extension": ".py",
   "mimetype": "text/x-python",
   "name": "python",
   "nbconvert_exporter": "python",
   "pygments_lexer": "ipython3",
   "version": "3.9.12"
  }
 },
 "nbformat": 4,
 "nbformat_minor": 5
}
