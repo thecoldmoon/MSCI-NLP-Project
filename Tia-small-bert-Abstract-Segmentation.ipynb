{
 "cells": [
  {
   "cell_type": "markdown",
   "id": "24071e80",
   "metadata": {},
   "source": [
    "# MSCI 598: Custom Project\n",
    "## Medical Abstract Classification\n"
   ]
  },
  {
   "cell_type": "code",
   "execution_count": 1,
   "id": "39c42c20",
   "metadata": {
    "scrolled": false
   },
   "outputs": [
    {
     "name": "stdout",
     "output_type": "stream",
     "text": [
      "2.8.0\n"
     ]
    }
   ],
   "source": [
    "import pandas as pd\n",
    "import numpy as np \n",
    "import random\n",
    "import math\n",
    "import tensorflow as tf\n",
    "print(tf.__version__)\n",
    "import os\n",
    "import re\n",
    "import shutil\n",
    "import matplotlib.pyplot as plt\n",
    "from sklearn.preprocessing import OneHotEncoder, LabelEncoder\n",
    "from tensorflow.keras import layers\n",
    "from tensorflow.keras.layers.experimental.preprocessing import TextVectorization\n",
    "from tensorflow_estimator.python.estimator.canned.dnn import dnn_logit_fn_builder\n",
    "\n",
    "import tensorflow_hub as hub\n",
    "import tensorflow_text as text"
   ]
  },
  {
   "cell_type": "code",
   "execution_count": 2,
   "id": "eff30fb3",
   "metadata": {},
   "outputs": [
    {
     "name": "stdout",
     "output_type": "stream",
     "text": [
      "\n"
     ]
    },
    {
     "data": {
      "text/plain": [
       "[]"
      ]
     },
     "execution_count": 2,
     "metadata": {},
     "output_type": "execute_result"
    }
   ],
   "source": [
    "print(tf.test.gpu_device_name())\n",
    "tf.config.experimental.list_physical_devices('GPU')\n",
    "\n",
    "#shutil.rmtree('C:/Users/Tia/AppData/Local/Temp/tfhub_modules/f5e3261f68125d7957e226012645cbc2b1c16575')"
   ]
  },
  {
   "cell_type": "code",
   "execution_count": 3,
   "id": "255a48ab",
   "metadata": {},
   "outputs": [],
   "source": [
    "# SOURCE for preprocessing functions: \n",
    "# Abstract Segmentation NLP notebook (https://www.kaggle.com/anshulmehtakaggl/abstract-segmentation-nlp)\n",
    "\n",
    "# Creating a function to read the txt Files\n",
    "# This function returns all the lines in the txt file as a list\n",
    "def get_lines(filename):\n",
    "    with open(filename,\"r\") as f:\n",
    "        return f.readlines()\n",
    "\n",
    "# Creating a function to read the txt Files\n",
    "# This function returns all the lines in the txt file as a list\n",
    "def get_lines(filename):\n",
    "    with open(filename,\"r\") as f:\n",
    "        return f.readlines()\n",
    "\n",
    "#Preprocessing Functions\n",
    "# Returns a list of dictionaries of abstract's lines\n",
    "# Dict Format --> {'TARGET':'Background/Results/Objetive/Concludion','Text':'The actual statement'}\n",
    "def preprocess_data(filename):\n",
    "    input_lines=get_lines(filename)\n",
    "    #This will be used to separte the abstracts from  one another using String mets\n",
    "    abstract_lines=\"\"\n",
    "    # Empty list of abstracts        \n",
    "    abstract_samples=[]\n",
    "    for line in input_lines:\n",
    "        # Check for a new abstract\n",
    "        if line.startswith(\"###\"):\n",
    "            abstract_id=line\n",
    "            # And since we are in a new abstract we will Reset the abstract_lines\n",
    "            abstract_lines=\"\"\n",
    "        # Check for a new line \\n escape seq\n",
    "        elif line.isspace():\n",
    "            # Split the Lines of the abstract and will return a list of one abstract\n",
    "            abstract_line_split=abstract_lines.splitlines()\n",
    "            # Now we have to iterate through this singular abstract\n",
    "            for abstract_line_number, abstract_line in enumerate(abstract_line_split):\n",
    "                #  Enumerate() method adds a counter to an iterable and returns it in a form of enumerating object.\n",
    "                # Create a empty Dict per line\n",
    "                line_data={}\n",
    "                # Split on the tab \\t esc seq\n",
    "                target_text_split=abstract_line.split(\"\\t\")\n",
    "                # Get the Label of the sentence as the Label\n",
    "                line_data[\"target\"]=target_text_split[0]\n",
    "                # Get the Text of the Lien as the Text Key\n",
    "                line_data[\"text\"]=target_text_split[1].lower()\n",
    "                # Also adding the Line Nnumber as it will also aid the model\n",
    "                line_data[\"line_number\"]=abstract_line_number\n",
    "                # Number of Lines in that particular abstract\n",
    "                line_data[\"total_lines\"]=len(abstract_line_split)-1\n",
    "                # Now we have to append them to the absract_samples list\n",
    "                abstract_samples.append(line_data)\n",
    "        # So if both the cases are not there then the line is a labelled sentence\n",
    "        else:\n",
    "            abstract_lines+=line\n",
    "    return abstract_samples\n"
   ]
  },
  {
   "cell_type": "code",
   "execution_count": 4,
   "id": "daff2f43",
   "metadata": {},
   "outputs": [
    {
     "name": "stdout",
     "output_type": "stream",
     "text": [
      "['D:/med_abstracts/20k_abstracts_numbers_with_@/dev.txt', 'D:/med_abstracts/20k_abstracts_numbers_with_@/test.txt', 'D:/med_abstracts/20k_abstracts_numbers_with_@/train.txt']\n"
     ]
    }
   ],
   "source": [
    "# Reading in and preprocessing data\n",
    "data_dir = \"D:/med_abstracts/20k_abstracts_numbers_with_@/\"\n",
    "filenames=[data_dir + filename for filename in os.listdir(data_dir)]\n",
    "print(filenames)\n",
    "\n",
    "train_samples=preprocess_data(data_dir+\"train.txt\")\n",
    "val_samples=preprocess_data(data_dir+\"dev.txt\")\n",
    "test_samples=preprocess_data(data_dir+\"test.txt\")        \n"
   ]
  },
  {
   "cell_type": "code",
   "execution_count": 5,
   "id": "c72bda87",
   "metadata": {},
   "outputs": [],
   "source": [
    "# Converting data to df\n",
    "train_df=pd.DataFrame(train_samples)\n",
    "test_df=pd.DataFrame(test_samples)\n",
    "val_df=pd.DataFrame(val_samples)\n",
    "\n",
    "# Data distribution\n",
    "train_df.target.value_counts()\n",
    "\n",
    "# Isolating the sentences\n",
    "train_sentences=train_df[\"text\"].tolist()\n",
    "test_sentences=test_df[\"text\"].tolist()\n",
    "val_sentences=val_df[\"text\"].tolist()"
   ]
  },
  {
   "cell_type": "code",
   "execution_count": 6,
   "id": "00aa19bb",
   "metadata": {},
   "outputs": [
    {
     "data": {
      "text/plain": [
       "(5,\n",
       " array(['BACKGROUND', 'CONCLUSIONS', 'METHODS', 'OBJECTIVE', 'RESULTS'],\n",
       "       dtype=object))"
      ]
     },
     "execution_count": 6,
     "metadata": {},
     "output_type": "execute_result"
    }
   ],
   "source": [
    "# Turning the target Labels into Numeric Data\n",
    "# We have 5 main labels -> Background, Objective,Methods, Results, Conclusion\n",
    "# We'll encode them both 1HEC and Simple Numerical\n",
    "\n",
    "# Tensorflow is incompatible with sparse matrices\n",
    "one_hot_encoder=OneHotEncoder(sparse=False)\n",
    "# You should reshape your X to be a 2D array not 1D array. Fitting a model requires requires a 2D array. i.e (n_samples, n_features)\n",
    "train_labels_one_hot=one_hot_encoder.fit_transform(train_df[\"target\"].to_numpy().reshape(-1,1))\n",
    "val_labels_one_hot=one_hot_encoder.fit_transform(val_df[\"target\"].to_numpy().reshape(-1,1))\n",
    "test_labels_one_hot=one_hot_encoder.fit_transform(test_df[\"target\"].to_numpy().reshape(-1,1))\n",
    "train_labels_one_hot,val_labels_one_hot,test_labels_one_hot\n",
    "\n",
    "le=LabelEncoder()\n",
    "train_labels_encoded=le.fit_transform(train_df[\"target\"])\n",
    "test_labels_encoded=le.fit_transform(test_df[\"target\"])\n",
    "val_labels_encoded=le.fit_transform(val_df[\"target\"])\n",
    "\n",
    "# Retieving classes \n",
    "num_classes=len(le.classes_)\n",
    "class_names=le.classes_\n",
    "num_classes,class_names"
   ]
  },
  {
   "cell_type": "code",
   "execution_count": 7,
   "id": "ce57dc84",
   "metadata": {},
   "outputs": [],
   "source": [
    "# Vectorize the text and then create Embeddings\n",
    "\n",
    "# How long is each sentence on average\n",
    "sent_lens=[len(sentence.split()) for sentence in train_sentences]\n",
    "avg_sent_lens=np.mean(sent_lens)\n",
    "avg_sent_lens\n",
    "# sent_lens\n",
    "#  So we will need Padding and Truncating as the input shapes must be maintained\n",
    "\n",
    "# Calculate the percentile of length of sentences\n",
    "output_seq_len=int(np.percentile(sent_lens,95))\n",
    "output_seq_len\n",
    "# So 95% sentences are in length of 55\n",
    "\n",
    "# Creating a text Vectorization Layer\n",
    "# Mapping our text from words to Numbers\n",
    "# An embedding is a relatively low-dimensional space into which you can translate high-dimensional vectors. \n",
    "# Vocabulary size in the Research Paper is 68000\n",
    "max_tokens=68000\n",
    "\n",
    "text_vectorizer=TextVectorization(max_tokens=max_tokens,output_sequence_length=output_seq_len)\n",
    "\n",
    "# Adapt the Text Vectorizer to the Training Data\n",
    "# We have to adapt it to only the training data so that val and test data are not seen\n",
    "# Later it can be fitted to the two latter\n",
    "text_vectorizer.adapt(train_sentences)"
   ]
  },
  {
   "cell_type": "code",
   "execution_count": 8,
   "id": "652c2a2c",
   "metadata": {},
   "outputs": [
    {
     "name": "stdout",
     "output_type": "stream",
     "text": [
      "64841\n",
      "['', '[UNK]', 'the', 'and', 'of']\n",
      "['aainduced', 'aaigroup', 'aachener', 'aachen', 'aaacp']\n"
     ]
    },
    {
     "data": {
      "text/plain": [
       "{'name': 'text_vectorization',\n",
       " 'trainable': True,\n",
       " 'batch_input_shape': (None,),\n",
       " 'dtype': 'string',\n",
       " 'max_tokens': 68000,\n",
       " 'standardize': 'lower_and_strip_punctuation',\n",
       " 'split': 'whitespace',\n",
       " 'ngrams': None,\n",
       " 'output_mode': 'int',\n",
       " 'output_sequence_length': 55,\n",
       " 'pad_to_max_tokens': False,\n",
       " 'sparse': False,\n",
       " 'ragged': False,\n",
       " 'vocabulary': None,\n",
       " 'idf_weights': None}"
      ]
     },
     "execution_count": 8,
     "metadata": {},
     "output_type": "execute_result"
    }
   ],
   "source": [
    "# Finding out how many words are there  in the training vocabulary and which are  most common\n",
    "# Also text vectorizer works pretty straightforwardly, 1 to most common word, 2 to 2nd most common word and so on\n",
    "train_vocab=text_vectorizer.get_vocabulary()\n",
    "# Size of Vocab\n",
    "print(len(train_vocab))\n",
    "# 5 Most Common Words in the Vocab\n",
    "print(train_vocab[:5])\n",
    "# Least common 5 words in the vocab\n",
    "print(train_vocab[-5:])\n",
    "\n",
    "# Get the config of our Text Vectorizer\n",
    "text_vectorizer.get_config()"
   ]
  },
  {
   "cell_type": "code",
   "execution_count": 9,
   "id": "7abdfa89",
   "metadata": {},
   "outputs": [],
   "source": [
    "# Create an Embedding Layer\n",
    "# More output dims , more emmbedding, more parameters to train\n",
    "# Masking the 0 considering them as padding\n",
    "token_embed=layers.Embedding(input_dim=len(train_vocab),output_dim=128,mask_zero=True,name=\"token_embedding\")"
   ]
  },
  {
   "cell_type": "code",
   "execution_count": 10,
   "id": "e5a739be",
   "metadata": {},
   "outputs": [
    {
     "data": {
      "text/plain": [
       "<TensorSliceDataset element_spec=(TensorSpec(shape=(), dtype=tf.string, name=None), TensorSpec(shape=(5,), dtype=tf.float64, name=None))>"
      ]
     },
     "execution_count": 10,
     "metadata": {},
     "output_type": "execute_result"
    }
   ],
   "source": [
    "# Creating a Fast Loadinng Dataset with tf data API\n",
    "# https://www.tensorflow.org/guide/data_performance\n",
    "# https://www.tensorflow.org/guide/data\n",
    "# Turn our data into Tensorflow datasets\n",
    "train_dataset=tf.data.Dataset.from_tensor_slices((train_sentences,train_labels_one_hot))\n",
    "val_dataset=tf.data.Dataset.from_tensor_slices((val_sentences,val_labels_one_hot))\n",
    "test_dataset=tf.data.Dataset.from_tensor_slices((test_sentences,test_labels_one_hot))\n",
    "train_dataset\n",
    "# <TensorSliceDataset shapes: ((), (5,)), types: (tf.string, tf.float64)>\n",
    "# Which indicates one Text Sample in first tuple, next tuple is (0,0,0,0,1) -> 1hc "
   ]
  },
  {
   "cell_type": "code",
   "execution_count": 11,
   "id": "0ed95c6c",
   "metadata": {},
   "outputs": [
    {
     "data": {
      "text/plain": [
       "<PrefetchDataset element_spec=(TensorSpec(shape=(None,), dtype=tf.string, name=None), TensorSpec(shape=(None, 5), dtype=tf.float64, name=None))>"
      ]
     },
     "execution_count": 11,
     "metadata": {},
     "output_type": "execute_result"
    }
   ],
   "source": [
    "# Pre fetching the data and making them into batches\n",
    "# Pre fetching reduces the Preparation time of Data taken by CPU\n",
    "# Pref-fetching in a Multi-threaded way Reduces time and Increases the amount of data as all cores can be utilized to Prepare the Data\n",
    "# The GPU will do the Computation\n",
    "train_dataset=train_dataset.batch(32).prefetch(tf.data.experimental.AUTOTUNE)\n",
    "val_dataset=val_dataset.batch(32).prefetch(tf.data.experimental.AUTOTUNE)\n",
    "test_dataset=test_dataset.batch(32).prefetch(tf.data.experimental.AUTOTUNE)\n",
    "train_dataset\n",
    "# Run the Previous steps as well this otherwie the Shapes will not be fixed\n",
    "# PrefetchDataset shapes: ((None,), (None, 5)), types: (tf.string, tf.float64)"
   ]
  },
  {
   "cell_type": "markdown",
   "id": "0061eb81",
   "metadata": {},
   "source": [
    "# Small BERT"
   ]
  },
  {
   "cell_type": "code",
   "execution_count": 13,
   "id": "6055dbff",
   "metadata": {
    "scrolled": true
   },
   "outputs": [],
   "source": [
    "# PubMed model\n",
    "tfhub_handle_encoder = 'https://tfhub.dev/google/experts/bert/pubmed/2'\n",
    "tfhub_handle_preprocess = 'https://tfhub.dev/tensorflow/bert_en_uncased_preprocess/3'\n",
    "\n",
    "# Base model\n",
    "tfhub_handle_encoder = 'https://tfhub.dev/tensorflow/bert_en_uncased_L-12_H-768_A-12/3'\n",
    "tfhub_handle_preprocess = 'https://tfhub.dev/tensorflow/bert_en_uncased_preprocess/3'\n",
    "\n",
    "# Small model (L=2, H-128)\n",
    "tfhub_handle_encoder = 'https://tfhub.dev/tensorflow/small_bert/bert_en_uncased_L-2_H-128_A-2/1'\n",
    "tfhub_handle_preprocess = 'https://tfhub.dev/tensorflow/bert_en_uncased_preprocess/3'\n",
    "\n",
    "\n",
    "bert_preprocess_model = hub.KerasLayer(tfhub_handle_preprocess)"
   ]
  },
  {
   "cell_type": "code",
   "execution_count": 14,
   "id": "3e81a2a9",
   "metadata": {},
   "outputs": [],
   "source": [
    "# Sequence length from data notebook\n",
    "SEQ_LENGTH = 128\n",
    "def make_bert_preprocess_model(sentence_features, seq_length=128):\n",
    "    \"\"\"Returns Model mapping string features to BERT inputs.\n",
    "\n",
    "    Args:\n",
    "    sentence_features: a list with the names of string-valued features.\n",
    "    seq_length: an integer that defines the sequence length of BERT inputs.\n",
    "\n",
    "    Returns:\n",
    "    A Keras Model that can be called on a list or dict of string Tensors\n",
    "    (with the order or names, resp., given by sentence_features) and\n",
    "    returns a dict of tensors for input to BERT.\n",
    "    \"\"\"\n",
    "\n",
    "    input_segments = [\n",
    "      tf.keras.layers.Input(shape=(), dtype=tf.string, name=ft)\n",
    "      for ft in sentence_features]\n",
    "\n",
    "    # Tokenize the text to word pieces.\n",
    "    bert_preprocess = hub.load(tfhub_handle_preprocess)\n",
    "    tokenizer = hub.KerasLayer(bert_preprocess.tokenize, name='tokenizer')\n",
    "    segments = [tokenizer(s) for s in input_segments]\n",
    "\n",
    "    # Optional: Trim segments in a smart way to fit seq_length.\n",
    "    # Simple cases (like this example) can skip this step and let\n",
    "    # the next step apply a default truncation to approximately equal lengths.\n",
    "    truncated_segments = segments\n",
    "\n",
    "    # Pack inputs. The details (start/end token ids, dict of output tensors)\n",
    "    # are model-dependent, so this gets loaded from the SavedModel.\n",
    "    packer = hub.KerasLayer(bert_preprocess.bert_pack_inputs,\n",
    "                          arguments=dict(seq_length=seq_length),\n",
    "                          name='packer')\n",
    "    model_inputs = packer(truncated_segments)\n",
    "    return tf.keras.Model(input_segments, model_inputs)"
   ]
  },
  {
   "cell_type": "code",
   "execution_count": 15,
   "id": "437f50ad",
   "metadata": {},
   "outputs": [
    {
     "name": "stdout",
     "output_type": "stream",
     "text": [
      "Keys       : ['input_type_ids', 'input_mask', 'input_word_ids']\n",
      "Shape      : (1, 128)\n",
      "Word Ids   : [ 101 2023 2003 2107 2019 6429 3185  999  102    0    0    0]\n",
      "Input Mask : [1 1 1 1 1 1 1 1 1 0 0 0]\n",
      "Type Ids   : [0 0 0 0 0 0 0 0 0 0 0 0]\n"
     ]
    }
   ],
   "source": [
    "text_test = ['this is such an amazing movie!']\n",
    "text_preprocessed = bert_preprocess_model(text_test) \n",
    "\n",
    "print(f'Keys       : {list(text_preprocessed.keys())}')\n",
    "print(f'Shape      : {text_preprocessed[\"input_word_ids\"].shape}')\n",
    "print(f'Word Ids   : {text_preprocessed[\"input_word_ids\"][0, :12]}')\n",
    "print(f'Input Mask : {text_preprocessed[\"input_mask\"][0, :12]}')\n",
    "print(f'Type Ids   : {text_preprocessed[\"input_type_ids\"][0, :12]}')"
   ]
  },
  {
   "cell_type": "code",
   "execution_count": 16,
   "id": "5d68284b",
   "metadata": {},
   "outputs": [
    {
     "name": "stdout",
     "output_type": "stream",
     "text": [
      "Loaded BERT: https://tfhub.dev/tensorflow/small_bert/bert_en_uncased_L-2_H-128_A-2/1\n",
      "Pooled Outputs Shape:(1, 128)\n",
      "Pooled Outputs Values:[-0.9999946   0.14341967 -0.9989779   0.9951447  -0.9997457   0.91312915\n",
      " -0.996158   -0.970975    0.09740018  0.01907056 -0.8488174  -0.09385558]\n",
      "Sequence Outputs Shape:(1, 128, 128)\n",
      "Sequence Outputs Values:[[-0.43723777 -1.0138294  -2.3744736  ... -0.75897074 -2.0910308\n",
      "  -0.25810003]\n",
      " [-1.3369725  -0.36880285  0.57868814 ... -2.1810155  -1.7530916\n",
      "  -0.09555084]\n",
      " [-1.0607057  -0.30371094  0.34461197 ... -1.2898581  -1.9519899\n",
      "  -0.1223034 ]\n",
      " ...\n",
      " [-0.8602276  -0.54406136  0.6583733  ... -1.4765685  -1.7518615\n",
      "   1.1197373 ]\n",
      " [-0.46869028 -0.57152355  0.6725654  ... -1.7302345  -1.9740773\n",
      "   0.9747925 ]\n",
      " [ 0.02036603 -0.7551192   0.5948237  ... -1.9656781  -1.905142\n",
      "   0.4897015 ]]\n"
     ]
    }
   ],
   "source": [
    "bert_model = hub.KerasLayer(tfhub_handle_encoder)\n",
    "\n",
    "bert_results = bert_model(text_preprocessed)\n",
    "\n",
    "print(f'Loaded BERT: {tfhub_handle_encoder}')\n",
    "print(f'Pooled Outputs Shape:{bert_results[\"pooled_output\"].shape}')\n",
    "print(f'Pooled Outputs Values:{bert_results[\"pooled_output\"][0, :12]}')\n",
    "print(f'Sequence Outputs Shape:{bert_results[\"sequence_output\"].shape}')\n",
    "print(f'Sequence Outputs Values:{bert_results[\"sequence_output\"][0, :12]}')"
   ]
  },
  {
   "cell_type": "code",
   "execution_count": 17,
   "id": "c38f0a8c",
   "metadata": {},
   "outputs": [
    {
     "name": "stdout",
     "output_type": "stream",
     "text": [
      "tf.Tensor([[0.5036261  0.54588753 0.6568271  0.5065808  0.53143746]], shape=(1, 5), dtype=float32)\n"
     ]
    }
   ],
   "source": [
    "def build_classifier_model():\n",
    "    text_input = tf.keras.layers.Input(shape=(), dtype=tf.string, name='text')\n",
    "    preprocessing_layer = hub.KerasLayer(tfhub_handle_preprocess, name='preprocessing')\n",
    "    encoder_inputs = preprocessing_layer(text_input)\n",
    "    encoder = hub.KerasLayer(tfhub_handle_encoder, trainable=True, name='BERT_encoder')\n",
    "    a,b = encoder.get_weights()[0].shape\n",
    "    \n",
    "    weights_list = []\n",
    "    for weight in encoder.get_weights():\n",
    "\n",
    "        if len(weight.shape) > 2:\n",
    "            rand_weight = np.random.randn(weight.shape[0], weight.shape[1], weight.shape[2])\n",
    "        elif len(weight.shape) > 1:\n",
    "            rand_weight = np.random.randn(weight.shape[0], weight.shape[1])\n",
    "        elif len(weight.shape) > 0:\n",
    "            rand_weight = np.random.randn(weight.shape[0])\n",
    "        else:\n",
    "            rand_weight = []\n",
    "        \n",
    "        for rnd in rand_weight:\n",
    "            rnd = random.gauss(0, 1/math.sqrt(weight.shape[0]))\n",
    "        weights_list.append(rand_weight)\n",
    "    \n",
    "    weights_list[39] = encoder.get_weights()[39]\n",
    "\n",
    "    encoder.set_weights(weights_list)\n",
    "    outputs = encoder(encoder_inputs)\n",
    "    net = outputs['pooled_output']\n",
    "    net = tf.keras.layers.Dropout(0.1)(net)\n",
    "    #net = tf.keras.layers.Dense(1, activation=None, name='classifier')(net)\n",
    "    net=tf.keras.layers.Dense(num_classes,activation=\"softmax\")(net)\n",
    "    return tf.keras.Model(text_input, net)\n",
    "\n",
    "\n",
    "classifier_model = build_classifier_model()\n",
    "bert_raw_result = classifier_model(tf.constant(text_test))\n",
    "print(tf.sigmoid(bert_raw_result))"
   ]
  },
  {
   "cell_type": "code",
   "execution_count": 18,
   "id": "03d91890",
   "metadata": {},
   "outputs": [],
   "source": [
    "# Include the epoch in the file name (uses `str.format`)\n",
    "checkpoint_path = \"D:/med_abstracts/models/smallbert/\"\n",
    "checkpoint_dir = os.path.dirname(checkpoint_path)\n",
    "\n",
    "#batch_size = 32\n",
    "# Create a callback that saves the model's weights every 5 epochs\n",
    "cp_callback = tf.keras.callbacks.ModelCheckpoint(\n",
    "    filepath=checkpoint_path, \n",
    "    save_freq='epoch')\n",
    "\n",
    "\n",
    "# Save the weights using the `checkpoint_path` format\n",
    "#classifier_model.load_weights(\"training/cp-0001.ckpt.index\")\n",
    "classifier_model.save_weights(checkpoint_path.format(epoch=0))\n",
    "\n",
    "\n",
    "epochs = 5\n",
    "steps_per_epoch = tf.data.experimental.cardinality(train_dataset).numpy()\n",
    "num_train_steps = steps_per_epoch * epochs\n",
    "num_warmup_steps = int(0.1*num_train_steps)\n",
    "\n",
    "init_lr = 3e-5\n",
    "\n",
    "classifier_model.compile(loss=\"categorical_crossentropy\",optimizer=tf.keras.optimizers.Adam(),metrics=[tf.metrics.Accuracy(), tf.metrics.CategoricalAccuracy(), tf.metrics.CategoricalCrossentropy()])"
   ]
  },
  {
   "cell_type": "code",
   "execution_count": 19,
   "id": "70db1930",
   "metadata": {},
   "outputs": [
    {
     "name": "stdout",
     "output_type": "stream",
     "text": [
      "Training model with https://tfhub.dev/tensorflow/small_bert/bert_en_uncased_L-2_H-128_A-2/1\n",
      "Epoch 1/5\n",
      "5627/5627 [==============================] - ETA: 0s - loss: 1.5056 - accuracy: 0.0000e+00 - categorical_accuracy: 0.3249 - categorical_crossentropy: 1.5056"
     ]
    },
    {
     "name": "stderr",
     "output_type": "stream",
     "text": [
      "WARNING:absl:Found untraced functions such as restored_function_body, restored_function_body, restored_function_body, restored_function_body, restored_function_body while saving (showing 5 of 64). These functions will not be directly callable after loading.\n"
     ]
    },
    {
     "name": "stdout",
     "output_type": "stream",
     "text": [
      "INFO:tensorflow:Assets written to: D:/med_abstracts/models/smallbert\\assets\n"
     ]
    },
    {
     "name": "stderr",
     "output_type": "stream",
     "text": [
      "INFO:tensorflow:Assets written to: D:/med_abstracts/models/smallbert\\assets\n"
     ]
    },
    {
     "name": "stdout",
     "output_type": "stream",
     "text": [
      "5627/5627 [==============================] - 3165s 561ms/step - loss: 1.5056 - accuracy: 0.0000e+00 - categorical_accuracy: 0.3249 - categorical_crossentropy: 1.5056 - val_loss: 1.4657 - val_accuracy: 0.0000e+00 - val_categorical_accuracy: 0.3664 - val_categorical_crossentropy: 1.4657\n",
      "Epoch 2/5\n",
      "5627/5627 [==============================] - ETA: 0s - loss: 1.4025 - accuracy: 0.0000e+00 - categorical_accuracy: 0.3741 - categorical_crossentropy: 1.4025"
     ]
    },
    {
     "name": "stderr",
     "output_type": "stream",
     "text": [
      "WARNING:absl:Found untraced functions such as restored_function_body, restored_function_body, restored_function_body, restored_function_body, restored_function_body while saving (showing 5 of 64). These functions will not be directly callable after loading.\n"
     ]
    },
    {
     "name": "stdout",
     "output_type": "stream",
     "text": [
      "INFO:tensorflow:Assets written to: D:/med_abstracts/models/smallbert\\assets\n"
     ]
    },
    {
     "name": "stderr",
     "output_type": "stream",
     "text": [
      "INFO:tensorflow:Assets written to: D:/med_abstracts/models/smallbert\\assets\n"
     ]
    },
    {
     "name": "stdout",
     "output_type": "stream",
     "text": [
      "5627/5627 [==============================] - 2814s 500ms/step - loss: 1.4025 - accuracy: 0.0000e+00 - categorical_accuracy: 0.3741 - categorical_crossentropy: 1.4025 - val_loss: 1.3636 - val_accuracy: 0.0000e+00 - val_categorical_accuracy: 0.4020 - val_categorical_crossentropy: 1.3636\n",
      "Epoch 3/5\n",
      "5627/5627 [==============================] - ETA: 0s - loss: 1.3794 - accuracy: 0.0000e+00 - categorical_accuracy: 0.3853 - categorical_crossentropy: 1.3794"
     ]
    },
    {
     "name": "stderr",
     "output_type": "stream",
     "text": [
      "WARNING:absl:Found untraced functions such as restored_function_body, restored_function_body, restored_function_body, restored_function_body, restored_function_body while saving (showing 5 of 64). These functions will not be directly callable after loading.\n"
     ]
    },
    {
     "name": "stdout",
     "output_type": "stream",
     "text": [
      "INFO:tensorflow:Assets written to: D:/med_abstracts/models/smallbert\\assets\n"
     ]
    },
    {
     "name": "stderr",
     "output_type": "stream",
     "text": [
      "INFO:tensorflow:Assets written to: D:/med_abstracts/models/smallbert\\assets\n"
     ]
    },
    {
     "name": "stdout",
     "output_type": "stream",
     "text": [
      "5627/5627 [==============================] - 2596s 461ms/step - loss: 1.3794 - accuracy: 0.0000e+00 - categorical_accuracy: 0.3853 - categorical_crossentropy: 1.3794 - val_loss: 1.2976 - val_accuracy: 0.0000e+00 - val_categorical_accuracy: 0.4502 - val_categorical_crossentropy: 1.2976\n",
      "Epoch 4/5\n",
      "5627/5627 [==============================] - ETA: 0s - loss: 1.3027 - accuracy: 0.0000e+00 - categorical_accuracy: 0.4245 - categorical_crossentropy: 1.3027"
     ]
    },
    {
     "name": "stderr",
     "output_type": "stream",
     "text": [
      "WARNING:absl:Found untraced functions such as restored_function_body, restored_function_body, restored_function_body, restored_function_body, restored_function_body while saving (showing 5 of 64). These functions will not be directly callable after loading.\n"
     ]
    },
    {
     "name": "stdout",
     "output_type": "stream",
     "text": [
      "INFO:tensorflow:Assets written to: D:/med_abstracts/models/smallbert\\assets\n"
     ]
    },
    {
     "name": "stderr",
     "output_type": "stream",
     "text": [
      "INFO:tensorflow:Assets written to: D:/med_abstracts/models/smallbert\\assets\n"
     ]
    },
    {
     "name": "stdout",
     "output_type": "stream",
     "text": [
      "5627/5627 [==============================] - 2623s 466ms/step - loss: 1.3027 - accuracy: 0.0000e+00 - categorical_accuracy: 0.4245 - categorical_crossentropy: 1.3027 - val_loss: 1.2420 - val_accuracy: 0.0000e+00 - val_categorical_accuracy: 0.4519 - val_categorical_crossentropy: 1.2420\n",
      "Epoch 5/5\n",
      "5627/5627 [==============================] - ETA: 0s - loss: 1.2422 - accuracy: 0.0000e+00 - categorical_accuracy: 0.4544 - categorical_crossentropy: 1.2422"
     ]
    },
    {
     "name": "stderr",
     "output_type": "stream",
     "text": [
      "WARNING:absl:Found untraced functions such as restored_function_body, restored_function_body, restored_function_body, restored_function_body, restored_function_body while saving (showing 5 of 64). These functions will not be directly callable after loading.\n"
     ]
    },
    {
     "name": "stdout",
     "output_type": "stream",
     "text": [
      "INFO:tensorflow:Assets written to: D:/med_abstracts/models/smallbert\\assets\n"
     ]
    },
    {
     "name": "stderr",
     "output_type": "stream",
     "text": [
      "INFO:tensorflow:Assets written to: D:/med_abstracts/models/smallbert\\assets\n"
     ]
    },
    {
     "name": "stdout",
     "output_type": "stream",
     "text": [
      "\b\b\b\b\b\b\b\b\b\b\b\b\b\b\b\b\b\b\b\b\b\b\b\b\b\b\b\b\b\b\b\b\b\b\b\b\b\b\b\b\b\b\b\b\b\b\b\b\b\b\b\b\b\b\b\b\b\b\b\b\b\b\b\b\b\b\b\b\b\b\b\b\b\b\b\b\b\b\b\b\b\b\b\b\b\b\b\b\b\b\b\b\b\b\b\b\b\b\b\b\b\b\b\b\b\b\b\b\b\b\b\b\b\b\b\b\b\b\b\b\b\b\b\b\b\b\b\b\b\b\b\b\b\b\b\b\b\b\b\b\b\b\b\b\b\b\b\b\b\b\b\b\b\b\b\b\r",
      "5627/5627 [==============================] - 2909s 517ms/step - loss: 1.2422 - accuracy: 0.0000e+00 - categorical_accuracy: 0.4544 - categorical_crossentropy: 1.2422 - val_loss: 1.1523 - val_accuracy: 0.0000e+00 - val_categorical_accuracy: 0.5053 - val_categorical_crossentropy: 1.1523\n"
     ]
    }
   ],
   "source": [
    "batch_size = 32\n",
    "seed = 42\n",
    "epochs = 5\n",
    "\n",
    "print(f'Training model with {tfhub_handle_encoder}')\n",
    "history = classifier_model.fit(x=train_dataset,\n",
    "                               validation_data=val_dataset,\n",
    "                               callbacks=[cp_callback],\n",
    "                               #steps_per_epoch = int(0.1*len(train_sentences)//batch_size),\n",
    "                               epochs=epochs)"
   ]
  },
  {
   "cell_type": "code",
   "execution_count": 20,
   "id": "c6698268",
   "metadata": {},
   "outputs": [
    {
     "name": "stderr",
     "output_type": "stream",
     "text": [
      "WARNING:absl:Found untraced functions such as restored_function_body, restored_function_body, restored_function_body, restored_function_body, restored_function_body while saving (showing 5 of 64). These functions will not be directly callable after loading.\n"
     ]
    },
    {
     "name": "stdout",
     "output_type": "stream",
     "text": [
      "INFO:tensorflow:Assets written to: D:/med_abstracts/models/smallbert/small_BERT_model\\assets\n"
     ]
    },
    {
     "name": "stderr",
     "output_type": "stream",
     "text": [
      "INFO:tensorflow:Assets written to: D:/med_abstracts/models/smallbert/small_BERT_model\\assets\n"
     ]
    }
   ],
   "source": [
    "#model.save('models/small_BERT_model')\n",
    "classifier_model.save('D:/med_abstracts/models/smallbert/small_BERT_model')"
   ]
  },
  {
   "cell_type": "code",
   "execution_count": 21,
   "id": "4d9228a1",
   "metadata": {},
   "outputs": [
    {
     "name": "stdout",
     "output_type": "stream",
     "text": [
      "942/942 [==============================] - 170s 180ms/step - loss: 1.1595 - accuracy: 0.0000e+00 - categorical_accuracy: 0.5047 - categorical_crossentropy: 1.1595\n"
     ]
    }
   ],
   "source": [
    "results = classifier_model.evaluate(test_dataset, batch_size=128)"
   ]
  },
  {
   "cell_type": "code",
   "execution_count": 22,
   "id": "c57011c4",
   "metadata": {
    "scrolled": false
   },
   "outputs": [],
   "source": [
    "predictions = classifier_model.predict(test_dataset)"
   ]
  },
  {
   "cell_type": "code",
   "execution_count": 23,
   "id": "397e7326",
   "metadata": {},
   "outputs": [
    {
     "name": "stdout",
     "output_type": "stream",
     "text": [
      "[1 1 2 ... 2 2 2]\n",
      "[0 4 4 ... 4 4 1]\n",
      "Classification Report:\n",
      "              precision    recall  f1-score   support\n",
      "\n",
      "  BACKGROUND     0.3659    0.1281    0.1898      3621\n",
      " CONCLUSIONS     0.3536    0.4907    0.4110      4571\n",
      "     METHODS     0.4670    0.8434    0.6011      9897\n",
      "   OBJECTIVE     0.8109    0.3180    0.4569      2333\n",
      "     RESULTS     0.9138    0.3513    0.5075      9713\n",
      "\n",
      "    accuracy                         0.5047     30135\n",
      "   macro avg     0.5822    0.4263    0.4333     30135\n",
      "weighted avg     0.6083    0.5047    0.4815     30135\n",
      "\n"
     ]
    },
    {
     "data": {
      "image/png": "[encoded data removed]",
      "text/plain": [
       "<Figure size 576x576 with 2 Axes>"
      ]
     },
     "metadata": {
      "needs_background": "light"
     },
     "output_type": "display_data"
    }
   ],
   "source": [
    "from sklearn.metrics import confusion_matrix, classification_report\n",
    "import matplotlib.pyplot as plt\n",
    "import seaborn as sns\n",
    "\n",
    "y_test = test_labels_one_hot\n",
    "\n",
    "word_labels = np.unique(train_df[\"target\"])\n",
    "word_labels_short = [word_labels[i][:4] for i in np.arange(len(word_labels))]\n",
    "\n",
    "Y_pred_classes = np.argmax(predictions,axis = 1) \n",
    "# Convert validation observations to one hot vectors\n",
    "print(Y_pred_classes)\n",
    "Y_true = np.argmax(y_test,axis = 1)\n",
    "print(Y_true)\n",
    "\n",
    "print('Classification Report:')\n",
    "print(classification_report(Y_true, Y_pred_classes, labels=[0,1,2,3,4], target_names=word_labels, digits=4))\n",
    "\n",
    "# compute the confusion matrix\n",
    "confusion_mtx = confusion_matrix(Y_true, Y_pred_classes, normalize='true') \n",
    "# plot the confusion matrix\n",
    "f,ax = plt.subplots(figsize=(8, 8))\n",
    "sns.heatmap(confusion_mtx, annot=True, linewidths=0.01,cmap=\"Greens\",linecolor=\"gray\", fmt= '.1f',ax=ax)\n",
    "plt.xlabel(\"Predicted Label\")\n",
    "plt.xlabel(\"Predicted Label\")\n",
    "plt.ylabel(\"True Label\")\n",
    "plt.title(\"Confusion Matrix\")\n",
    "ax.yaxis.set_ticklabels(word_labels_short)\n",
    "ax.xaxis.set_ticklabels(word_labels_short)\n",
    "plt.show()\n"
   ]
  },
  {
   "cell_type": "code",
   "execution_count": 47,
   "id": "929b2c07",
   "metadata": {},
   "outputs": [],
   "source": [
    "reloaded_model = tf.saved_model.load('D:/med_abstracts/models/smallbert/small_BERT_model')"
   ]
  },
  {
   "cell_type": "code",
   "execution_count": 18,
   "id": "2528f967",
   "metadata": {},
   "outputs": [
    {
     "data": {
      "image/png": "[encoded data removed]",
      "text/plain": [
       "<IPython.core.display.Image object>"
      ]
     },
     "execution_count": 18,
     "metadata": {},
     "output_type": "execute_result"
    }
   ],
   "source": [
    "tf.keras.utils.plot_model(classifier_model)"
   ]
  },
  {
   "cell_type": "code",
   "execution_count": null,
   "id": "3cdbb3ee",
   "metadata": {},
   "outputs": [],
   "source": []
  }
 ],
 "metadata": {
  "kernelspec": {
   "display_name": "Python 3",
   "language": "python",
   "name": "python3"
  },
  "language_info": {
   "codemirror_mode": {
    "name": "ipython",
    "version": 3
   },
   "file_extension": ".py",
   "mimetype": "text/x-python",
   "name": "python",
   "nbconvert_exporter": "python",
   "pygments_lexer": "ipython3",
   "version": "3.8.8"
  }
 },
 "nbformat": 4,
 "nbformat_minor": 5
}
