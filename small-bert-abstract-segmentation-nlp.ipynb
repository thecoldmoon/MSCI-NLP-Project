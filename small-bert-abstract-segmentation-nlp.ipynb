{
 "cells": [
  {
   "cell_type": "markdown",
   "id": "18bfb51f",
   "metadata": {
    "papermill": {
     "duration": 0.066657,
     "end_time": "2022-01-20T05:51:38.368299",
     "exception": false,
     "start_time": "2022-01-20T05:51:38.301642",
     "status": "completed"
    },
    "tags": []
   },
   "source": [
    "This is the Project that I've been working on while taking this [Course](https://www.udemy.com/course/tensorflow-developer-certificate-machine-learning-zero-to-mastery/learn/)"
   ]
  },
  {
   "cell_type": "code",
   "execution_count": 1,
   "id": "9b03133a",
   "metadata": {
    "_cell_guid": "b1076dfc-b9ad-4769-8c92-a6c4dae69d19",
    "_uuid": "8f2839f25d086af736a60e9eeb907d3b93b6e0e5",
    "execution": {
     "iopub.execute_input": "2022-01-20T05:51:38.511392Z",
     "iopub.status.busy": "2022-01-20T05:51:38.510639Z",
     "iopub.status.idle": "2022-01-20T05:51:38.538983Z",
     "shell.execute_reply": "2022-01-20T05:51:38.538101Z",
     "shell.execute_reply.started": "2022-01-19T03:43:03.361282Z"
    },
    "papermill": {
     "duration": 0.105859,
     "end_time": "2022-01-20T05:51:38.539134",
     "exception": false,
     "start_time": "2022-01-20T05:51:38.433275",
     "status": "completed"
    },
    "tags": []
   },
   "outputs": [],
   "source": [
    "# This Python 3 environment comes with many helpful analytics libraries installed\n",
    "# It is defined by the kaggle/python Docker image: https://github.com/kaggle/docker-python\n",
    "# For example, here's several helpful packages to load\n",
    "\n",
    "import numpy as np # linear algebra\n",
    "import pandas as pd # data processing, CSV file I/O (e.g. pd.read_csv)\n",
    "\n",
    "# Input data files are available in the read-only \"../input/\" directory\n",
    "# For example, running this (by clicking run or pressing Shift+Enter) will list all files under the input directory\n",
    "\n",
    "import os\n",
    "for dirname, _, filenames in os.walk('/results'):\n",
    "    for filename in filenames:\n",
    "        print(os.path.join(dirname, filename))\n",
    "\n",
    "# You can write up to 20GB to the current directory (/kaggle/working/) that gets preserved as output when you create a version using \"Save & Run All\" \n",
    "# You can also write temporary files to /kaggle/temp/, but they won't be saved outside of the current session"
   ]
  },
  {
   "cell_type": "code",
   "execution_count": 5,
   "id": "12f936a1",
   "metadata": {
    "execution": {
     "iopub.execute_input": "2022-01-20T05:51:38.673209Z",
     "iopub.status.busy": "2022-01-20T05:51:38.672583Z",
     "iopub.status.idle": "2022-01-20T05:51:43.466392Z",
     "shell.execute_reply": "2022-01-20T05:51:43.465659Z",
     "shell.execute_reply.started": "2022-01-18T17:14:26.948643Z"
    },
    "papermill": {
     "duration": 4.861964,
     "end_time": "2022-01-20T05:51:43.466536",
     "exception": false,
     "start_time": "2022-01-20T05:51:38.604572",
     "status": "completed"
    },
    "tags": []
   },
   "outputs": [
    {
     "name": "stdout",
     "output_type": "stream",
     "text": [
      "Requirement already satisfied: tensorflow-text in /opt/anaconda3/lib/python3.7/site-packages (2.6.0)\n",
      "Requirement already satisfied: tensorflow<2.7,>=2.6.0 in /opt/anaconda3/lib/python3.7/site-packages (from tensorflow-text) (2.6.2)\n",
      "Requirement already satisfied: tensorflow-hub>=0.8.0 in /opt/anaconda3/lib/python3.7/site-packages (from tensorflow-text) (0.12.0)\n",
      "Requirement already satisfied: opt-einsum~=3.3.0 in /opt/anaconda3/lib/python3.7/site-packages (from tensorflow<2.7,>=2.6.0->tensorflow-text) (3.3.0)\n",
      "Requirement already satisfied: protobuf>=3.9.2 in /opt/anaconda3/lib/python3.7/site-packages (from tensorflow<2.7,>=2.6.0->tensorflow-text) (3.19.4)\n",
      "Requirement already satisfied: numpy~=1.19.2 in /opt/anaconda3/lib/python3.7/site-packages (from tensorflow<2.7,>=2.6.0->tensorflow-text) (1.19.5)\n",
      "Requirement already satisfied: keras<2.7,>=2.6.0 in /opt/anaconda3/lib/python3.7/site-packages (from tensorflow<2.7,>=2.6.0->tensorflow-text) (2.6.0)\n",
      "Requirement already satisfied: keras-preprocessing~=1.1.2 in /opt/anaconda3/lib/python3.7/site-packages (from tensorflow<2.7,>=2.6.0->tensorflow-text) (1.1.2)\n",
      "Requirement already satisfied: flatbuffers~=1.12.0 in /opt/anaconda3/lib/python3.7/site-packages (from tensorflow<2.7,>=2.6.0->tensorflow-text) (1.12)\n",
      "Requirement already satisfied: wheel~=0.35 in /opt/anaconda3/lib/python3.7/site-packages (from tensorflow<2.7,>=2.6.0->tensorflow-text) (0.37.1)\n",
      "Requirement already satisfied: typing-extensions~=3.7.4 in /opt/anaconda3/lib/python3.7/site-packages (from tensorflow<2.7,>=2.6.0->tensorflow-text) (3.7.4.3)\n",
      "Requirement already satisfied: tensorflow-estimator<2.7,>=2.6.0 in /opt/anaconda3/lib/python3.7/site-packages (from tensorflow<2.7,>=2.6.0->tensorflow-text) (2.6.0)\n",
      "Requirement already satisfied: absl-py~=0.10 in /opt/anaconda3/lib/python3.7/site-packages (from tensorflow<2.7,>=2.6.0->tensorflow-text) (0.15.0)\n",
      "Requirement already satisfied: wrapt~=1.12.1 in /opt/anaconda3/lib/python3.7/site-packages (from tensorflow<2.7,>=2.6.0->tensorflow-text) (1.12.1)\n",
      "Requirement already satisfied: six~=1.15.0 in /opt/anaconda3/lib/python3.7/site-packages (from tensorflow<2.7,>=2.6.0->tensorflow-text) (1.15.0)\n",
      "Requirement already satisfied: termcolor~=1.1.0 in /opt/anaconda3/lib/python3.7/site-packages (from tensorflow<2.7,>=2.6.0->tensorflow-text) (1.1.0)\n",
      "Requirement already satisfied: grpcio<2.0,>=1.37.0 in /opt/anaconda3/lib/python3.7/site-packages (from tensorflow<2.7,>=2.6.0->tensorflow-text) (1.44.0)\n",
      "Requirement already satisfied: clang~=5.0 in /opt/anaconda3/lib/python3.7/site-packages (from tensorflow<2.7,>=2.6.0->tensorflow-text) (5.0)\n",
      "Requirement already satisfied: gast==0.4.0 in /opt/anaconda3/lib/python3.7/site-packages (from tensorflow<2.7,>=2.6.0->tensorflow-text) (0.4.0)\n",
      "Requirement already satisfied: tensorboard<2.7,>=2.6.0 in /opt/anaconda3/lib/python3.7/site-packages (from tensorflow<2.7,>=2.6.0->tensorflow-text) (2.6.0)\n",
      "Requirement already satisfied: astunparse~=1.6.3 in /opt/anaconda3/lib/python3.7/site-packages (from tensorflow<2.7,>=2.6.0->tensorflow-text) (1.6.3)\n",
      "Requirement already satisfied: h5py~=3.1.0 in /opt/anaconda3/lib/python3.7/site-packages (from tensorflow<2.7,>=2.6.0->tensorflow-text) (3.1.0)\n",
      "Requirement already satisfied: google-pasta~=0.2 in /opt/anaconda3/lib/python3.7/site-packages (from tensorflow<2.7,>=2.6.0->tensorflow-text) (0.2.0)\n",
      "Requirement already satisfied: cached-property in /opt/anaconda3/lib/python3.7/site-packages (from h5py~=3.1.0->tensorflow<2.7,>=2.6.0->tensorflow-text) (1.5.2)\n",
      "Requirement already satisfied: tensorboard-data-server<0.7.0,>=0.6.0 in /opt/anaconda3/lib/python3.7/site-packages (from tensorboard<2.7,>=2.6.0->tensorflow<2.7,>=2.6.0->tensorflow-text) (0.6.1)\n",
      "Requirement already satisfied: tensorboard-plugin-wit>=1.6.0 in /opt/anaconda3/lib/python3.7/site-packages (from tensorboard<2.7,>=2.6.0->tensorflow<2.7,>=2.6.0->tensorflow-text) (1.8.1)\n",
      "Requirement already satisfied: setuptools>=41.0.0 in /opt/anaconda3/lib/python3.7/site-packages (from tensorboard<2.7,>=2.6.0->tensorflow<2.7,>=2.6.0->tensorflow-text) (41.4.0)\n",
      "Requirement already satisfied: google-auth<2,>=1.6.3 in /opt/anaconda3/lib/python3.7/site-packages (from tensorboard<2.7,>=2.6.0->tensorflow<2.7,>=2.6.0->tensorflow-text) (1.35.0)\n",
      "Requirement already satisfied: google-auth-oauthlib<0.5,>=0.4.1 in /opt/anaconda3/lib/python3.7/site-packages (from tensorboard<2.7,>=2.6.0->tensorflow<2.7,>=2.6.0->tensorflow-text) (0.4.6)\n",
      "Requirement already satisfied: requests<3,>=2.21.0 in /opt/anaconda3/lib/python3.7/site-packages (from tensorboard<2.7,>=2.6.0->tensorflow<2.7,>=2.6.0->tensorflow-text) (2.22.0)\n",
      "Requirement already satisfied: markdown>=2.6.8 in /opt/anaconda3/lib/python3.7/site-packages (from tensorboard<2.7,>=2.6.0->tensorflow<2.7,>=2.6.0->tensorflow-text) (3.3.6)\n",
      "Requirement already satisfied: werkzeug>=0.11.15 in /opt/anaconda3/lib/python3.7/site-packages (from tensorboard<2.7,>=2.6.0->tensorflow<2.7,>=2.6.0->tensorflow-text) (0.16.0)\n",
      "Requirement already satisfied: cachetools<5.0,>=2.0.0 in /opt/anaconda3/lib/python3.7/site-packages (from google-auth<2,>=1.6.3->tensorboard<2.7,>=2.6.0->tensorflow<2.7,>=2.6.0->tensorflow-text) (4.2.4)\n",
      "Requirement already satisfied: rsa<5,>=3.1.4 in /opt/anaconda3/lib/python3.7/site-packages (from google-auth<2,>=1.6.3->tensorboard<2.7,>=2.6.0->tensorflow<2.7,>=2.6.0->tensorflow-text) (4.8)\n",
      "Requirement already satisfied: pyasn1-modules>=0.2.1 in /opt/anaconda3/lib/python3.7/site-packages (from google-auth<2,>=1.6.3->tensorboard<2.7,>=2.6.0->tensorflow<2.7,>=2.6.0->tensorflow-text) (0.2.8)\n",
      "Requirement already satisfied: requests-oauthlib>=0.7.0 in /opt/anaconda3/lib/python3.7/site-packages (from google-auth-oauthlib<0.5,>=0.4.1->tensorboard<2.7,>=2.6.0->tensorflow<2.7,>=2.6.0->tensorflow-text) (1.3.1)\n",
      "Requirement already satisfied: importlib-metadata>=4.4 in /opt/anaconda3/lib/python3.7/site-packages (from markdown>=2.6.8->tensorboard<2.7,>=2.6.0->tensorflow<2.7,>=2.6.0->tensorflow-text) (4.10.1)\n",
      "Requirement already satisfied: urllib3!=1.25.0,!=1.25.1,<1.26,>=1.21.1 in /opt/anaconda3/lib/python3.7/site-packages (from requests<3,>=2.21.0->tensorboard<2.7,>=2.6.0->tensorflow<2.7,>=2.6.0->tensorflow-text) (1.24.2)\n",
      "Requirement already satisfied: idna<2.9,>=2.5 in /opt/anaconda3/lib/python3.7/site-packages (from requests<3,>=2.21.0->tensorboard<2.7,>=2.6.0->tensorflow<2.7,>=2.6.0->tensorflow-text) (2.8)\n",
      "Requirement already satisfied: chardet<3.1.0,>=3.0.2 in /opt/anaconda3/lib/python3.7/site-packages (from requests<3,>=2.21.0->tensorboard<2.7,>=2.6.0->tensorflow<2.7,>=2.6.0->tensorflow-text) (3.0.4)\n",
      "Requirement already satisfied: certifi>=2017.4.17 in /opt/anaconda3/lib/python3.7/site-packages (from requests<3,>=2.21.0->tensorboard<2.7,>=2.6.0->tensorflow<2.7,>=2.6.0->tensorflow-text) (2019.9.11)\n",
      "Requirement already satisfied: zipp>=0.5 in /opt/anaconda3/lib/python3.7/site-packages (from importlib-metadata>=4.4->markdown>=2.6.8->tensorboard<2.7,>=2.6.0->tensorflow<2.7,>=2.6.0->tensorflow-text) (0.6.0)\n",
      "Requirement already satisfied: pyasn1<0.5.0,>=0.4.6 in /opt/anaconda3/lib/python3.7/site-packages (from pyasn1-modules>=0.2.1->google-auth<2,>=1.6.3->tensorboard<2.7,>=2.6.0->tensorflow<2.7,>=2.6.0->tensorflow-text) (0.4.8)\n",
      "Requirement already satisfied: oauthlib>=3.0.0 in /opt/anaconda3/lib/python3.7/site-packages (from requests-oauthlib>=0.7.0->google-auth-oauthlib<0.5,>=0.4.1->tensorboard<2.7,>=2.6.0->tensorflow<2.7,>=2.6.0->tensorflow-text) (3.2.0)\n",
      "Requirement already satisfied: more-itertools in /opt/anaconda3/lib/python3.7/site-packages (from zipp>=0.5->importlib-metadata>=4.4->markdown>=2.6.8->tensorboard<2.7,>=2.6.0->tensorflow<2.7,>=2.6.0->tensorflow-text) (7.2.0)\n"
     ]
    },
    {
     "ename": "NotFoundError",
     "evalue": "dlopen(/opt/anaconda3/lib/python3.7/site-packages/tensorflow_text/python/ops/_normalize_ops.dylib, 6): Symbol not found: ____chkstk_darwin\n  Referenced from: /opt/anaconda3/lib/python3.7/site-packages/tensorflow_text/python/ops/_normalize_ops.dylib\n  Expected in: /usr/lib/libSystem.B.dylib\n in /opt/anaconda3/lib/python3.7/site-packages/tensorflow_text/python/ops/_normalize_ops.dylib",
     "output_type": "error",
     "traceback": [
      "\u001b[0;31m---------------------------------------------------------------------------\u001b[0m",
      "\u001b[0;31mNotFoundError\u001b[0m                             Traceback (most recent call last)",
      "\u001b[0;32m<ipython-input-5-2b612f4e6fdc>\u001b[0m in \u001b[0;36m<module>\u001b[0;34m\u001b[0m\n\u001b[1;32m      7\u001b[0m \u001b[0;32mimport\u001b[0m \u001b[0mseaborn\u001b[0m \u001b[0;32mas\u001b[0m \u001b[0msns\u001b[0m\u001b[0;34m\u001b[0m\u001b[0;34m\u001b[0m\u001b[0m\n\u001b[1;32m      8\u001b[0m \u001b[0mget_ipython\u001b[0m\u001b[0;34m(\u001b[0m\u001b[0;34m)\u001b[0m\u001b[0;34m.\u001b[0m\u001b[0msystem\u001b[0m\u001b[0;34m(\u001b[0m\u001b[0;34m'pip install tensorflow-text'\u001b[0m\u001b[0;34m)\u001b[0m\u001b[0;34m\u001b[0m\u001b[0;34m\u001b[0m\u001b[0m\n\u001b[0;32m----> 9\u001b[0;31m \u001b[0;32mimport\u001b[0m \u001b[0mtensorflow_text\u001b[0m \u001b[0;32mas\u001b[0m \u001b[0mtext\u001b[0m\u001b[0;34m\u001b[0m\u001b[0;34m\u001b[0m\u001b[0m\n\u001b[0m",
      "\u001b[0;32m/opt/anaconda3/lib/python3.7/site-packages/tensorflow_text/__init__.py\u001b[0m in \u001b[0;36m<module>\u001b[0;34m\u001b[0m\n\u001b[1;32m     20\u001b[0m \u001b[0;32mfrom\u001b[0m \u001b[0mtensorflow_text\u001b[0m\u001b[0;34m.\u001b[0m\u001b[0mpython\u001b[0m \u001b[0;32mimport\u001b[0m \u001b[0mkeras\u001b[0m\u001b[0;34m\u001b[0m\u001b[0;34m\u001b[0m\u001b[0m\n\u001b[1;32m     21\u001b[0m \u001b[0;32mfrom\u001b[0m \u001b[0mtensorflow_text\u001b[0m\u001b[0;34m.\u001b[0m\u001b[0mpython\u001b[0m \u001b[0;32mimport\u001b[0m \u001b[0mmetrics\u001b[0m\u001b[0;34m\u001b[0m\u001b[0;34m\u001b[0m\u001b[0m\n\u001b[0;32m---> 22\u001b[0;31m \u001b[0;32mfrom\u001b[0m \u001b[0mtensorflow_text\u001b[0m\u001b[0;34m.\u001b[0m\u001b[0mpython\u001b[0m\u001b[0;34m.\u001b[0m\u001b[0mops\u001b[0m \u001b[0;32mimport\u001b[0m \u001b[0;34m*\u001b[0m\u001b[0;34m\u001b[0m\u001b[0;34m\u001b[0m\u001b[0m\n\u001b[0m\u001b[1;32m     23\u001b[0m \u001b[0;34m\u001b[0m\u001b[0m\n\u001b[1;32m     24\u001b[0m \u001b[0;34m\u001b[0m\u001b[0m\n",
      "\u001b[0;32m/opt/anaconda3/lib/python3.7/site-packages/tensorflow_text/python/ops/__init__.py\u001b[0m in \u001b[0;36m<module>\u001b[0;34m\u001b[0m\n\u001b[1;32m     21\u001b[0m \u001b[0;32mexcept\u001b[0m \u001b[0mImportError\u001b[0m\u001b[0;34m:\u001b[0m\u001b[0;34m\u001b[0m\u001b[0;34m\u001b[0m\u001b[0m\n\u001b[1;32m     22\u001b[0m   \u001b[0;32mpass\u001b[0m\u001b[0;34m\u001b[0m\u001b[0;34m\u001b[0m\u001b[0m\n\u001b[0;32m---> 23\u001b[0;31m \u001b[0;32mfrom\u001b[0m \u001b[0mtensorflow_text\u001b[0m\u001b[0;34m.\u001b[0m\u001b[0mpython\u001b[0m\u001b[0;34m.\u001b[0m\u001b[0mops\u001b[0m\u001b[0;34m.\u001b[0m\u001b[0mbert_tokenizer\u001b[0m \u001b[0;32mimport\u001b[0m \u001b[0mBertTokenizer\u001b[0m\u001b[0;34m\u001b[0m\u001b[0;34m\u001b[0m\u001b[0m\n\u001b[0m\u001b[1;32m     24\u001b[0m \u001b[0;32mfrom\u001b[0m \u001b[0mtensorflow_text\u001b[0m\u001b[0;34m.\u001b[0m\u001b[0mpython\u001b[0m\u001b[0;34m.\u001b[0m\u001b[0mops\u001b[0m\u001b[0;34m.\u001b[0m\u001b[0mcreate_feature_bitmask_op\u001b[0m \u001b[0;32mimport\u001b[0m \u001b[0mcreate_feature_bitmask\u001b[0m\u001b[0;34m\u001b[0m\u001b[0;34m\u001b[0m\u001b[0m\n\u001b[1;32m     25\u001b[0m \u001b[0;32mfrom\u001b[0m \u001b[0mtensorflow_text\u001b[0m\u001b[0;34m.\u001b[0m\u001b[0mpython\u001b[0m\u001b[0;34m.\u001b[0m\u001b[0mops\u001b[0m\u001b[0;34m.\u001b[0m\u001b[0mgreedy_constrained_sequence_op\u001b[0m \u001b[0;32mimport\u001b[0m \u001b[0mgreedy_constrained_sequence\u001b[0m\u001b[0;34m\u001b[0m\u001b[0;34m\u001b[0m\u001b[0m\n",
      "\u001b[0;32m/opt/anaconda3/lib/python3.7/site-packages/tensorflow_text/python/ops/bert_tokenizer.py\u001b[0m in \u001b[0;36m<module>\u001b[0;34m\u001b[0m\n\u001b[1;32m     27\u001b[0m \u001b[0;32mfrom\u001b[0m \u001b[0mtensorflow\u001b[0m\u001b[0;34m.\u001b[0m\u001b[0mpython\u001b[0m\u001b[0;34m.\u001b[0m\u001b[0mops\u001b[0m \u001b[0;32mimport\u001b[0m \u001b[0mstring_ops\u001b[0m\u001b[0;34m\u001b[0m\u001b[0;34m\u001b[0m\u001b[0m\n\u001b[1;32m     28\u001b[0m \u001b[0;32mfrom\u001b[0m \u001b[0mtensorflow_text\u001b[0m\u001b[0;34m.\u001b[0m\u001b[0mpython\u001b[0m\u001b[0;34m.\u001b[0m\u001b[0mops\u001b[0m \u001b[0;32mimport\u001b[0m \u001b[0mregex_split_ops\u001b[0m\u001b[0;34m\u001b[0m\u001b[0;34m\u001b[0m\u001b[0m\n\u001b[0;32m---> 29\u001b[0;31m \u001b[0;32mfrom\u001b[0m \u001b[0mtensorflow_text\u001b[0m\u001b[0;34m.\u001b[0m\u001b[0mpython\u001b[0m\u001b[0;34m.\u001b[0m\u001b[0mops\u001b[0m\u001b[0;34m.\u001b[0m\u001b[0mnormalize_ops\u001b[0m \u001b[0;32mimport\u001b[0m \u001b[0mcase_fold_utf8\u001b[0m\u001b[0;34m\u001b[0m\u001b[0;34m\u001b[0m\u001b[0m\n\u001b[0m\u001b[1;32m     30\u001b[0m \u001b[0;32mfrom\u001b[0m \u001b[0mtensorflow_text\u001b[0m\u001b[0;34m.\u001b[0m\u001b[0mpython\u001b[0m\u001b[0;34m.\u001b[0m\u001b[0mops\u001b[0m\u001b[0;34m.\u001b[0m\u001b[0mnormalize_ops\u001b[0m \u001b[0;32mimport\u001b[0m \u001b[0mnormalize_utf8\u001b[0m\u001b[0;34m\u001b[0m\u001b[0;34m\u001b[0m\u001b[0m\n\u001b[1;32m     31\u001b[0m \u001b[0;32mfrom\u001b[0m \u001b[0mtensorflow_text\u001b[0m\u001b[0;34m.\u001b[0m\u001b[0mpython\u001b[0m\u001b[0;34m.\u001b[0m\u001b[0mops\u001b[0m\u001b[0;34m.\u001b[0m\u001b[0mtokenization\u001b[0m \u001b[0;32mimport\u001b[0m \u001b[0mDetokenizer\u001b[0m\u001b[0;34m\u001b[0m\u001b[0;34m\u001b[0m\u001b[0m\n",
      "\u001b[0;32m/opt/anaconda3/lib/python3.7/site-packages/tensorflow_text/python/ops/normalize_ops.py\u001b[0m in \u001b[0;36m<module>\u001b[0;34m\u001b[0m\n\u001b[1;32m     29\u001b[0m \u001b[0;32mfrom\u001b[0m \u001b[0mtensorflow\u001b[0m\u001b[0;34m.\u001b[0m\u001b[0mpython\u001b[0m\u001b[0;34m.\u001b[0m\u001b[0mframework\u001b[0m \u001b[0;32mimport\u001b[0m \u001b[0mload_library\u001b[0m\u001b[0;34m\u001b[0m\u001b[0;34m\u001b[0m\u001b[0m\n\u001b[1;32m     30\u001b[0m \u001b[0;32mfrom\u001b[0m \u001b[0mtensorflow\u001b[0m\u001b[0;34m.\u001b[0m\u001b[0mpython\u001b[0m\u001b[0;34m.\u001b[0m\u001b[0mplatform\u001b[0m \u001b[0;32mimport\u001b[0m \u001b[0mresource_loader\u001b[0m\u001b[0;34m\u001b[0m\u001b[0;34m\u001b[0m\u001b[0m\n\u001b[0;32m---> 31\u001b[0;31m \u001b[0mgen_normalize_ops\u001b[0m \u001b[0;34m=\u001b[0m \u001b[0mload_library\u001b[0m\u001b[0;34m.\u001b[0m\u001b[0mload_op_library\u001b[0m\u001b[0;34m(\u001b[0m\u001b[0mresource_loader\u001b[0m\u001b[0;34m.\u001b[0m\u001b[0mget_path_to_datafile\u001b[0m\u001b[0;34m(\u001b[0m\u001b[0;34m'_normalize_ops.dylib'\u001b[0m\u001b[0;34m)\u001b[0m\u001b[0;34m)\u001b[0m\u001b[0;34m\u001b[0m\u001b[0;34m\u001b[0m\u001b[0m\n\u001b[0m\u001b[1;32m     32\u001b[0m \u001b[0;34m\u001b[0m\u001b[0m\n\u001b[1;32m     33\u001b[0m \u001b[0;34m\u001b[0m\u001b[0m\n",
      "\u001b[0;32m/opt/anaconda3/lib/python3.7/site-packages/tensorflow/python/framework/load_library.py\u001b[0m in \u001b[0;36mload_op_library\u001b[0;34m(library_filename)\u001b[0m\n\u001b[1;32m     56\u001b[0m     \u001b[0mRuntimeError\u001b[0m\u001b[0;34m:\u001b[0m \u001b[0mwhen\u001b[0m \u001b[0munable\u001b[0m \u001b[0mto\u001b[0m \u001b[0mload\u001b[0m \u001b[0mthe\u001b[0m \u001b[0mlibrary\u001b[0m \u001b[0;32mor\u001b[0m \u001b[0mget\u001b[0m \u001b[0mthe\u001b[0m \u001b[0mpython\u001b[0m \u001b[0mwrappers\u001b[0m\u001b[0;34m.\u001b[0m\u001b[0;34m\u001b[0m\u001b[0;34m\u001b[0m\u001b[0m\n\u001b[1;32m     57\u001b[0m   \"\"\"\n\u001b[0;32m---> 58\u001b[0;31m   \u001b[0mlib_handle\u001b[0m \u001b[0;34m=\u001b[0m \u001b[0mpy_tf\u001b[0m\u001b[0;34m.\u001b[0m\u001b[0mTF_LoadLibrary\u001b[0m\u001b[0;34m(\u001b[0m\u001b[0mlibrary_filename\u001b[0m\u001b[0;34m)\u001b[0m\u001b[0;34m\u001b[0m\u001b[0;34m\u001b[0m\u001b[0m\n\u001b[0m\u001b[1;32m     59\u001b[0m   \u001b[0;32mtry\u001b[0m\u001b[0;34m:\u001b[0m\u001b[0;34m\u001b[0m\u001b[0;34m\u001b[0m\u001b[0m\n\u001b[1;32m     60\u001b[0m     wrappers = _pywrap_python_op_gen.GetPythonWrappers(\n",
      "\u001b[0;31mNotFoundError\u001b[0m: dlopen(/opt/anaconda3/lib/python3.7/site-packages/tensorflow_text/python/ops/_normalize_ops.dylib, 6): Symbol not found: ____chkstk_darwin\n  Referenced from: /opt/anaconda3/lib/python3.7/site-packages/tensorflow_text/python/ops/_normalize_ops.dylib\n  Expected in: /usr/lib/libSystem.B.dylib\n in /opt/anaconda3/lib/python3.7/site-packages/tensorflow_text/python/ops/_normalize_ops.dylib"
     ]
    }
   ],
   "source": [
    "import pandas as pd\n",
    "import numpy as np \n",
    "import tensorflow as tf\n",
    "import os\n",
    "import re\n",
    "import matplotlib.pyplot as plt\n",
    "import seaborn as sns\n",
    "!pip install tensorflow-text\n",
    "import tensorflow_text as text"
   ]
  },
  {
   "cell_type": "code",
   "execution_count": 3,
   "id": "bb606ade",
   "metadata": {
    "execution": {
     "iopub.execute_input": "2022-01-20T05:51:43.598354Z",
     "iopub.status.busy": "2022-01-20T05:51:43.597536Z",
     "iopub.status.idle": "2022-01-20T05:51:43.599319Z",
     "shell.execute_reply": "2022-01-20T05:51:43.599739Z",
     "shell.execute_reply.started": "2022-01-18T17:14:26.960589Z"
    },
    "papermill": {
     "duration": 0.069601,
     "end_time": "2022-01-20T05:51:43.599870",
     "exception": false,
     "start_time": "2022-01-20T05:51:43.530269",
     "status": "completed"
    },
    "tags": []
   },
   "outputs": [],
   "source": [
    "data_dir='./results/PubMed_20k_RCT_numbers_replaced_with_at_sign/'\n"
   ]
  },
  {
   "cell_type": "code",
   "execution_count": 10,
   "id": "1f9f3abe",
   "metadata": {
    "execution": {
     "iopub.execute_input": "2022-01-20T05:51:43.731155Z",
     "iopub.status.busy": "2022-01-20T05:51:43.730346Z",
     "iopub.status.idle": "2022-01-20T05:51:43.737393Z",
     "shell.execute_reply": "2022-01-20T05:51:43.737834Z",
     "shell.execute_reply.started": "2022-01-18T17:14:26.983861Z"
    },
    "papermill": {
     "duration": 0.074487,
     "end_time": "2022-01-20T05:51:43.737993",
     "exception": false,
     "start_time": "2022-01-20T05:51:43.663506",
     "status": "completed"
    },
    "tags": []
   },
   "outputs": [
    {
     "data": {
      "text/plain": [
       "['./results/PubMed_20k_RCT_numbers_replaced_with_at_sign/dev.txt',\n",
       " './results/PubMed_20k_RCT_numbers_replaced_with_at_sign/test.txt',\n",
       " './results/PubMed_20k_RCT_numbers_replaced_with_at_sign/train.txt']"
      ]
     },
     "execution_count": 10,
     "metadata": {},
     "output_type": "execute_result"
    }
   ],
   "source": [
    "filenames=[data_dir + filename for filename in os.listdir(data_dir)]\n",
    "filenames"
   ]
  },
  {
   "cell_type": "markdown",
   "id": "4f5f587e",
   "metadata": {
    "papermill": {
     "duration": 0.067652,
     "end_time": "2022-01-20T05:51:43.869255",
     "exception": false,
     "start_time": "2022-01-20T05:51:43.801603",
     "status": "completed"
    },
    "tags": []
   },
   "source": [
    "<h3>Preprocessing the Data"
   ]
  },
  {
   "cell_type": "code",
   "execution_count": 11,
   "id": "bed1404f",
   "metadata": {
    "execution": {
     "iopub.execute_input": "2022-01-20T05:51:44.000974Z",
     "iopub.status.busy": "2022-01-20T05:51:44.000117Z",
     "iopub.status.idle": "2022-01-20T05:51:44.001861Z",
     "shell.execute_reply": "2022-01-20T05:51:44.002282Z",
     "shell.execute_reply.started": "2022-01-18T17:14:27.008672Z"
    },
    "papermill": {
     "duration": 0.069992,
     "end_time": "2022-01-20T05:51:44.002421",
     "exception": false,
     "start_time": "2022-01-20T05:51:43.932429",
     "status": "completed"
    },
    "tags": []
   },
   "outputs": [],
   "source": [
    "# Creating a function to read the txt Files\n",
    "# This function returns all the lines in the txt file as a list\n",
    "def get_lines(filename):\n",
    "    with open(filename,\"r\") as f:\n",
    "        return f.readlines()"
   ]
  },
  {
   "cell_type": "code",
   "execution_count": 12,
   "id": "bd656ab8",
   "metadata": {
    "execution": {
     "iopub.execute_input": "2022-01-20T05:51:44.135207Z",
     "iopub.status.busy": "2022-01-20T05:51:44.134671Z",
     "iopub.status.idle": "2022-01-20T05:51:44.524242Z",
     "shell.execute_reply": "2022-01-20T05:51:44.523740Z",
     "shell.execute_reply.started": "2022-01-18T17:14:27.016125Z"
    },
    "papermill": {
     "duration": 0.45739,
     "end_time": "2022-01-20T05:51:44.524380",
     "exception": false,
     "start_time": "2022-01-20T05:51:44.066990",
     "status": "completed"
    },
    "tags": []
   },
   "outputs": [],
   "source": [
    "# Read the Lines in the Training Set\n",
    "train_data_lines=get_lines(data_dir+\"train.txt\")\n",
    "# train_data_lines[:20]"
   ]
  },
  {
   "cell_type": "markdown",
   "id": "d3b23d75",
   "metadata": {
    "papermill": {
     "duration": 0.063396,
     "end_time": "2022-01-20T05:51:44.651796",
     "exception": false,
     "start_time": "2022-01-20T05:51:44.588400",
     "status": "completed"
    },
    "tags": []
   },
   "source": [
    " <h4>\n",
    " Pre-processing the Data <br>\n",
    " List of dictionaries <br>\n",
    " Each line needs to be converted into a dictionary <br>\n",
    " Dictionary items are ordered, changeable, and does not allow duplicates.<br>\n",
    " Objectives, Methods, Results, Conclusins will all be Values to the 'TARGET' KEY<br>\n",
    " And the Text corresponding to them will be Values to the Key 'TEXT'<br>\n",
    " So each abstract would have about roughly 10-12 dicts for each statement<br>"
   ]
  },
  {
   "cell_type": "code",
   "execution_count": 13,
   "id": "4d0ef93c",
   "metadata": {
    "execution": {
     "iopub.execute_input": "2022-01-20T05:51:44.795115Z",
     "iopub.status.busy": "2022-01-20T05:51:44.793456Z",
     "iopub.status.idle": "2022-01-20T05:51:44.795669Z",
     "shell.execute_reply": "2022-01-20T05:51:44.796096Z",
     "shell.execute_reply.started": "2022-01-18T17:14:27.204668Z"
    },
    "papermill": {
     "duration": 0.081262,
     "end_time": "2022-01-20T05:51:44.796245",
     "exception": false,
     "start_time": "2022-01-20T05:51:44.714983",
     "status": "completed"
    },
    "tags": []
   },
   "outputs": [],
   "source": [
    "# Preprocessing Functions\n",
    "# Returns a list of dictionaries of abstract's lines\n",
    "# Dict Format --> {'TARGET':'Background/Results/Objetive/Concludion','Text':'The actual statement'}\n",
    "def preprocess_data(filename):\n",
    "    input_lines=get_lines(filename)\n",
    "    #This will be used to separte the abstracts from  one another using String mets\n",
    "    abstract_lines=\"\"\n",
    "    # Empty list of abstracts\n",
    "    abstract_samples=[]\n",
    "    for line in input_lines:\n",
    "        # Check for a new abstract\n",
    "        if line.startswith(\"###\"):\n",
    "            abstract_id=line\n",
    "            # And since we are in a new abstract we will Reset the abstract_lines\n",
    "            abstract_lines=\"\"\n",
    "        # Check for a new line \\n escape seq\n",
    "        elif line.isspace():\n",
    "            # Split the Lines of the abstract and will return a list of one abstract\n",
    "            abstract_line_split=abstract_lines.splitlines()\n",
    "            # Now we have to iterate through this singular abstract\n",
    "            for abstract_line_number, abstract_line in enumerate(abstract_line_split):\n",
    "                #  Enumerate() method adds a counter to an iterable and returns it in a form of enumerating object.\n",
    "                # Create a empty Dict per line\n",
    "                line_data={}\n",
    "                # Split on the tab \\t esc seq\n",
    "                target_text_split=abstract_line.split(\"\\t\")\n",
    "                # Get the Label of the sentence as the Label\n",
    "                line_data[\"target\"]=target_text_split[0]\n",
    "                # Get the Text of the Lien as the Text Key\n",
    "                line_data[\"text\"]=target_text_split[1].lower()\n",
    "                # Also adding the Line Nnumber as it will also aid the model\n",
    "                line_data[\"line_number\"]=abstract_line_number\n",
    "                # Number of Lines in that particular abstract\n",
    "                line_data[\"total_lines\"]=len(abstract_line_split)-1\n",
    "                # Now we have to append them to the absract_samples list\n",
    "                abstract_samples.append(line_data)\n",
    "        # So if both the cases are not there then the line is a labelled sentence\n",
    "        else:\n",
    "            abstract_lines+=line\n",
    "    return abstract_samples\n",
    "                \n",
    "            \n",
    "            "
   ]
  },
  {
   "cell_type": "code",
   "execution_count": 14,
   "id": "a8d787f5",
   "metadata": {
    "execution": {
     "iopub.execute_input": "2022-01-20T05:51:44.929525Z",
     "iopub.status.busy": "2022-01-20T05:51:44.928657Z",
     "iopub.status.idle": "2022-01-20T05:51:45.616505Z",
     "shell.execute_reply": "2022-01-20T05:51:45.617208Z",
     "shell.execute_reply.started": "2022-01-18T17:14:27.243281Z"
    },
    "papermill": {
     "duration": 0.757107,
     "end_time": "2022-01-20T05:51:45.617375",
     "exception": false,
     "start_time": "2022-01-20T05:51:44.860268",
     "status": "completed"
    },
    "tags": []
   },
   "outputs": [
    {
     "name": "stdout",
     "output_type": "stream",
     "text": [
      "CPU times: user 485 ms, sys: 82.3 ms, total: 567 ms\n",
      "Wall time: 597 ms\n"
     ]
    }
   ],
   "source": [
    "%%time\n",
    "# Get the data and preprocess it\n",
    "train_samples=preprocess_data(data_dir+\"train.txt\")\n",
    "val_samples=preprocess_data(data_dir+\"dev.txt\")\n",
    "test_samples=preprocess_data(data_dir+\"test.txt\")"
   ]
  },
  {
   "cell_type": "code",
   "execution_count": 15,
   "id": "7d27efe7",
   "metadata": {
    "execution": {
     "iopub.execute_input": "2022-01-20T05:51:45.751741Z",
     "iopub.status.busy": "2022-01-20T05:51:45.750571Z",
     "iopub.status.idle": "2022-01-20T05:51:45.754140Z",
     "shell.execute_reply": "2022-01-20T05:51:45.753680Z",
     "shell.execute_reply.started": "2022-01-18T17:14:28.504531Z"
    },
    "papermill": {
     "duration": 0.07271,
     "end_time": "2022-01-20T05:51:45.754259",
     "exception": false,
     "start_time": "2022-01-20T05:51:45.681549",
     "status": "completed"
    },
    "tags": []
   },
   "outputs": [
    {
     "data": {
      "text/plain": [
       "(180040, 30212, 30135)"
      ]
     },
     "execution_count": 15,
     "metadata": {},
     "output_type": "execute_result"
    }
   ],
   "source": [
    "len(train_samples),len(val_samples),len(test_samples)"
   ]
  },
  {
   "cell_type": "code",
   "execution_count": 25,
   "id": "a24aeb0f",
   "metadata": {
    "execution": {
     "iopub.execute_input": "2022-01-20T05:51:45.894109Z",
     "iopub.status.busy": "2022-01-20T05:51:45.893420Z",
     "iopub.status.idle": "2022-01-20T05:51:45.896432Z",
     "shell.execute_reply": "2022-01-20T05:51:45.896821Z",
     "shell.execute_reply.started": "2022-01-18T17:14:28.519851Z"
    },
    "papermill": {
     "duration": 0.075829,
     "end_time": "2022-01-20T05:51:45.896978",
     "exception": false,
     "start_time": "2022-01-20T05:51:45.821149",
     "status": "completed"
    },
    "tags": []
   },
   "outputs": [
    {
     "data": {
      "text/plain": [
       "[{'target': 'OBJECTIVE',\n",
       "  'text': 'to investigate the efficacy of @ weeks of daily low-dose oral prednisolone in improving pain , mobility , and systemic low-grade inflammation in the short term and whether the effect would be sustained at @ weeks in older adults with moderate to severe knee osteoarthritis ( oa ) .',\n",
       "  'line_number': 0,\n",
       "  'total_lines': 11},\n",
       " {'target': 'METHODS',\n",
       "  'text': 'a total of @ patients with primary knee oa were randomized @:@ ; @ received @ mg/day of prednisolone and @ received placebo for @ weeks .',\n",
       "  'line_number': 1,\n",
       "  'total_lines': 11}]"
      ]
     },
     "execution_count": 25,
     "metadata": {},
     "output_type": "execute_result"
    }
   ],
   "source": [
    "# Visualizing the Data\n",
    "train_samples[:2]"
   ]
  },
  {
   "cell_type": "code",
   "execution_count": 26,
   "id": "6800df87",
   "metadata": {
    "execution": {
     "iopub.execute_input": "2022-01-20T05:51:46.065158Z",
     "iopub.status.busy": "2022-01-20T05:51:46.060010Z",
     "iopub.status.idle": "2022-01-20T05:51:46.383753Z",
     "shell.execute_reply": "2022-01-20T05:51:46.382811Z",
     "shell.execute_reply.started": "2022-01-18T17:14:28.538222Z"
    },
    "papermill": {
     "duration": 0.42162,
     "end_time": "2022-01-20T05:51:46.383901",
     "exception": false,
     "start_time": "2022-01-20T05:51:45.962281",
     "status": "completed"
    },
    "tags": []
   },
   "outputs": [],
   "source": [
    "# Now we have to turn this data into a df\n",
    "train_df=pd.DataFrame(train_samples)\n",
    "test_df=pd.DataFrame(test_samples)\n",
    "val_df=pd.DataFrame(val_samples)"
   ]
  },
  {
   "cell_type": "code",
   "execution_count": 27,
   "id": "a61124fa",
   "metadata": {
    "execution": {
     "iopub.execute_input": "2022-01-20T05:51:46.521814Z",
     "iopub.status.busy": "2022-01-20T05:51:46.521118Z",
     "iopub.status.idle": "2022-01-20T05:51:46.532090Z",
     "shell.execute_reply": "2022-01-20T05:51:46.532501Z",
     "shell.execute_reply.started": "2022-01-18T17:14:29.005997Z"
    },
    "papermill": {
     "duration": 0.08338,
     "end_time": "2022-01-20T05:51:46.532646",
     "exception": false,
     "start_time": "2022-01-20T05:51:46.449266",
     "status": "completed"
    },
    "tags": []
   },
   "outputs": [
    {
     "data": {
      "text/html": [
       "<div>\n",
       "<style scoped>\n",
       "    .dataframe tbody tr th:only-of-type {\n",
       "        vertical-align: middle;\n",
       "    }\n",
       "\n",
       "    .dataframe tbody tr th {\n",
       "        vertical-align: top;\n",
       "    }\n",
       "\n",
       "    .dataframe thead th {\n",
       "        text-align: right;\n",
       "    }\n",
       "</style>\n",
       "<table border=\"1\" class=\"dataframe\">\n",
       "  <thead>\n",
       "    <tr style=\"text-align: right;\">\n",
       "      <th></th>\n",
       "      <th>target</th>\n",
       "      <th>text</th>\n",
       "      <th>line_number</th>\n",
       "      <th>total_lines</th>\n",
       "    </tr>\n",
       "  </thead>\n",
       "  <tbody>\n",
       "    <tr>\n",
       "      <td>0</td>\n",
       "      <td>OBJECTIVE</td>\n",
       "      <td>to investigate the efficacy of @ weeks of dail...</td>\n",
       "      <td>0</td>\n",
       "      <td>11</td>\n",
       "    </tr>\n",
       "    <tr>\n",
       "      <td>1</td>\n",
       "      <td>METHODS</td>\n",
       "      <td>a total of @ patients with primary knee oa wer...</td>\n",
       "      <td>1</td>\n",
       "      <td>11</td>\n",
       "    </tr>\n",
       "    <tr>\n",
       "      <td>2</td>\n",
       "      <td>METHODS</td>\n",
       "      <td>outcome measures included pain reduction and i...</td>\n",
       "      <td>2</td>\n",
       "      <td>11</td>\n",
       "    </tr>\n",
       "    <tr>\n",
       "      <td>3</td>\n",
       "      <td>METHODS</td>\n",
       "      <td>pain was assessed using the visual analog pain...</td>\n",
       "      <td>3</td>\n",
       "      <td>11</td>\n",
       "    </tr>\n",
       "    <tr>\n",
       "      <td>4</td>\n",
       "      <td>METHODS</td>\n",
       "      <td>secondary outcome measures included the wester...</td>\n",
       "      <td>4</td>\n",
       "      <td>11</td>\n",
       "    </tr>\n",
       "    <tr>\n",
       "      <td>5</td>\n",
       "      <td>METHODS</td>\n",
       "      <td>serum levels of interleukin @ ( il-@ ) , il-@ ...</td>\n",
       "      <td>5</td>\n",
       "      <td>11</td>\n",
       "    </tr>\n",
       "    <tr>\n",
       "      <td>6</td>\n",
       "      <td>RESULTS</td>\n",
       "      <td>there was a clinically relevant reduction in t...</td>\n",
       "      <td>6</td>\n",
       "      <td>11</td>\n",
       "    </tr>\n",
       "    <tr>\n",
       "      <td>7</td>\n",
       "      <td>RESULTS</td>\n",
       "      <td>the mean difference between treatment arms ( @...</td>\n",
       "      <td>7</td>\n",
       "      <td>11</td>\n",
       "    </tr>\n",
       "    <tr>\n",
       "      <td>8</td>\n",
       "      <td>RESULTS</td>\n",
       "      <td>further , there was a clinically relevant redu...</td>\n",
       "      <td>8</td>\n",
       "      <td>11</td>\n",
       "    </tr>\n",
       "    <tr>\n",
       "      <td>9</td>\n",
       "      <td>RESULTS</td>\n",
       "      <td>these differences remained significant at @ we...</td>\n",
       "      <td>9</td>\n",
       "      <td>11</td>\n",
       "    </tr>\n",
       "    <tr>\n",
       "      <td>10</td>\n",
       "      <td>RESULTS</td>\n",
       "      <td>the outcome measures in rheumatology clinical ...</td>\n",
       "      <td>10</td>\n",
       "      <td>11</td>\n",
       "    </tr>\n",
       "  </tbody>\n",
       "</table>\n",
       "</div>"
      ],
      "text/plain": [
       "       target                                               text  line_number  \\\n",
       "0   OBJECTIVE  to investigate the efficacy of @ weeks of dail...            0   \n",
       "1     METHODS  a total of @ patients with primary knee oa wer...            1   \n",
       "2     METHODS  outcome measures included pain reduction and i...            2   \n",
       "3     METHODS  pain was assessed using the visual analog pain...            3   \n",
       "4     METHODS  secondary outcome measures included the wester...            4   \n",
       "5     METHODS  serum levels of interleukin @ ( il-@ ) , il-@ ...            5   \n",
       "6     RESULTS  there was a clinically relevant reduction in t...            6   \n",
       "7     RESULTS  the mean difference between treatment arms ( @...            7   \n",
       "8     RESULTS  further , there was a clinically relevant redu...            8   \n",
       "9     RESULTS  these differences remained significant at @ we...            9   \n",
       "10    RESULTS  the outcome measures in rheumatology clinical ...           10   \n",
       "\n",
       "    total_lines  \n",
       "0            11  \n",
       "1            11  \n",
       "2            11  \n",
       "3            11  \n",
       "4            11  \n",
       "5            11  \n",
       "6            11  \n",
       "7            11  \n",
       "8            11  \n",
       "9            11  \n",
       "10           11  "
      ]
     },
     "execution_count": 27,
     "metadata": {},
     "output_type": "execute_result"
    }
   ],
   "source": [
    "train_df.head(11)"
   ]
  },
  {
   "cell_type": "code",
   "execution_count": 28,
   "id": "11ee712c",
   "metadata": {
    "execution": {
     "iopub.execute_input": "2022-01-20T05:51:46.703519Z",
     "iopub.status.busy": "2022-01-20T05:51:46.702832Z",
     "iopub.status.idle": "2022-01-20T05:51:46.705583Z",
     "shell.execute_reply": "2022-01-20T05:51:46.706055Z",
     "shell.execute_reply.started": "2022-01-18T17:14:29.024288Z"
    },
    "papermill": {
     "duration": 0.108405,
     "end_time": "2022-01-20T05:51:46.706219",
     "exception": false,
     "start_time": "2022-01-20T05:51:46.597814",
     "status": "completed"
    },
    "tags": []
   },
   "outputs": [
    {
     "data": {
      "text/plain": [
       "METHODS        59353\n",
       "RESULTS        57953\n",
       "CONCLUSIONS    27168\n",
       "BACKGROUND     21727\n",
       "OBJECTIVE      13839\n",
       "Name: target, dtype: int64"
      ]
     },
     "execution_count": 28,
     "metadata": {},
     "output_type": "execute_result"
    }
   ],
   "source": [
    "# Checking the Spread of Data\n",
    "train_df.target.value_counts()"
   ]
  },
  {
   "cell_type": "code",
   "execution_count": 29,
   "id": "49649687",
   "metadata": {
    "execution": {
     "iopub.execute_input": "2022-01-20T05:51:46.842900Z",
     "iopub.status.busy": "2022-01-20T05:51:46.842163Z",
     "iopub.status.idle": "2022-01-20T05:51:47.119368Z",
     "shell.execute_reply": "2022-01-20T05:51:47.119743Z",
     "shell.execute_reply.started": "2022-01-18T17:14:29.07712Z"
    },
    "papermill": {
     "duration": 0.348279,
     "end_time": "2022-01-20T05:51:47.119908",
     "exception": false,
     "start_time": "2022-01-20T05:51:46.771629",
     "status": "completed"
    },
    "tags": []
   },
   "outputs": [
    {
     "data": {
      "text/plain": [
       "<matplotlib.axes._subplots.AxesSubplot at 0x1a581622d0>"
      ]
     },
     "execution_count": 29,
     "metadata": {},
     "output_type": "execute_result"
    },
    {
     "data": {
      "image/png": "[encoded data removed]",
      "text/plain": [
       "<Figure size 432x288 with 1 Axes>"
      ]
     },
     "metadata": {
      "needs_background": "light"
     },
     "output_type": "display_data"
    }
   ],
   "source": [
    "# Checking the Length of Lines\n",
    "train_df.total_lines.plot.hist()"
   ]
  },
  {
   "cell_type": "code",
   "execution_count": 30,
   "id": "ea6d377f",
   "metadata": {
    "execution": {
     "iopub.execute_input": "2022-01-20T05:51:47.267999Z",
     "iopub.status.busy": "2022-01-20T05:51:47.267388Z",
     "iopub.status.idle": "2022-01-20T05:51:47.270695Z",
     "shell.execute_reply": "2022-01-20T05:51:47.271075Z",
     "shell.execute_reply.started": "2022-01-18T17:14:29.388319Z"
    },
    "papermill": {
     "duration": 0.084242,
     "end_time": "2022-01-20T05:51:47.271229",
     "exception": false,
     "start_time": "2022-01-20T05:51:47.186987",
     "status": "completed"
    },
    "tags": []
   },
   "outputs": [],
   "source": [
    "# Get the list of just the text Columns\n",
    "train_sentences=train_df[\"text\"].tolist()\n",
    "test_sentences=test_df[\"text\"].tolist()\n",
    "val_sentences=val_df[\"text\"].tolist()"
   ]
  },
  {
   "cell_type": "code",
   "execution_count": 31,
   "id": "0da5cb8e",
   "metadata": {
    "execution": {
     "iopub.execute_input": "2022-01-20T05:51:47.413851Z",
     "iopub.status.busy": "2022-01-20T05:51:47.413256Z",
     "iopub.status.idle": "2022-01-20T05:51:47.416016Z",
     "shell.execute_reply": "2022-01-20T05:51:47.416416Z",
     "shell.execute_reply.started": "2022-01-18T17:14:29.416907Z"
    },
    "papermill": {
     "duration": 0.075735,
     "end_time": "2022-01-20T05:51:47.416555",
     "exception": false,
     "start_time": "2022-01-20T05:51:47.340820",
     "status": "completed"
    },
    "tags": []
   },
   "outputs": [
    {
     "data": {
      "text/plain": [
       "(180040, 30135, 30212)"
      ]
     },
     "execution_count": 31,
     "metadata": {},
     "output_type": "execute_result"
    }
   ],
   "source": [
    "len(train_sentences),len(test_sentences),len(val_sentences)"
   ]
  },
  {
   "cell_type": "code",
   "execution_count": 32,
   "id": "2f4ca6fb",
   "metadata": {
    "execution": {
     "iopub.execute_input": "2022-01-20T05:51:47.568443Z",
     "iopub.status.busy": "2022-01-20T05:51:47.567708Z",
     "iopub.status.idle": "2022-01-20T05:51:47.807026Z",
     "shell.execute_reply": "2022-01-20T05:51:47.807464Z",
     "shell.execute_reply.started": "2022-01-18T17:14:29.42748Z"
    },
    "papermill": {
     "duration": 0.312258,
     "end_time": "2022-01-20T05:51:47.807610",
     "exception": false,
     "start_time": "2022-01-20T05:51:47.495352",
     "status": "completed"
    },
    "tags": []
   },
   "outputs": [
    {
     "data": {
      "text/plain": [
       "(array([[0., 0., 0., 1., 0.],\n",
       "        [0., 0., 1., 0., 0.],\n",
       "        [0., 0., 1., 0., 0.],\n",
       "        ...,\n",
       "        [0., 0., 0., 0., 1.],\n",
       "        [0., 1., 0., 0., 0.],\n",
       "        [0., 1., 0., 0., 0.]]), array([[1., 0., 0., 0., 0.],\n",
       "        [1., 0., 0., 0., 0.],\n",
       "        [0., 0., 0., 1., 0.],\n",
       "        ...,\n",
       "        [0., 0., 0., 0., 1.],\n",
       "        [0., 1., 0., 0., 0.],\n",
       "        [0., 1., 0., 0., 0.]]), array([[1., 0., 0., 0., 0.],\n",
       "        [0., 0., 0., 0., 1.],\n",
       "        [0., 0., 0., 0., 1.],\n",
       "        ...,\n",
       "        [0., 0., 0., 0., 1.],\n",
       "        [0., 0., 0., 0., 1.],\n",
       "        [0., 1., 0., 0., 0.]]))"
      ]
     },
     "execution_count": 32,
     "metadata": {},
     "output_type": "execute_result"
    }
   ],
   "source": [
    "# Turning the target Labels into Numeric Data\n",
    "# We have 5 main labels -> Backgroun, Objective,Methods, Results, Conclusion\n",
    "# We'll encode them both 1HEC and Simple Nuemrical\n",
    "from sklearn.preprocessing import OneHotEncoder\n",
    "# Tensorflow is incompaible with sparse matrices\n",
    "one_hot_encoder=OneHotEncoder(sparse=False)\n",
    "# You should reshape your X to be a 2D array not 1D array. Fitting a model requires requires a 2D array. i.e (n_samples, n_features)\n",
    "train_labels_one_hot=one_hot_encoder.fit_transform(train_df[\"target\"].to_numpy().reshape(-1,1))\n",
    "val_labels_one_hot=one_hot_encoder.fit_transform(val_df[\"target\"].to_numpy().reshape(-1,1))\n",
    "test_labels_one_hot=one_hot_encoder.fit_transform(test_df[\"target\"].to_numpy().reshape(-1,1))\n",
    "train_labels_one_hot,val_labels_one_hot,test_labels_one_hot"
   ]
  },
  {
   "cell_type": "code",
   "execution_count": 33,
   "id": "62c16a51",
   "metadata": {
    "execution": {
     "iopub.execute_input": "2022-01-20T05:51:48.029441Z",
     "iopub.status.busy": "2022-01-20T05:51:48.028564Z",
     "iopub.status.idle": "2022-01-20T05:51:48.031578Z",
     "shell.execute_reply": "2022-01-20T05:51:48.031993Z",
     "shell.execute_reply.started": "2022-01-18T17:14:29.575031Z"
    },
    "papermill": {
     "duration": 0.154118,
     "end_time": "2022-01-20T05:51:48.032142",
     "exception": false,
     "start_time": "2022-01-20T05:51:47.878024",
     "status": "completed"
    },
    "tags": []
   },
   "outputs": [
    {
     "data": {
      "text/plain": [
       "(array([3, 2, 2, ..., 4, 1, 1]),\n",
       " array([0, 4, 4, ..., 4, 4, 1]),\n",
       " array([0, 0, 3, ..., 4, 1, 1]))"
      ]
     },
     "execution_count": 33,
     "metadata": {},
     "output_type": "execute_result"
    }
   ],
   "source": [
    "# Label Encoding also for Baseline Model\n",
    "from sklearn.preprocessing import LabelEncoder\n",
    "le=LabelEncoder()\n",
    "train_labels_encoded=le.fit_transform(train_df[\"target\"])\n",
    "test_labels_encoded=le.fit_transform(test_df[\"target\"])\n",
    "val_labels_encoded=le.fit_transform(val_df[\"target\"])\n",
    "train_labels_encoded, test_labels_encoded,val_labels_encoded"
   ]
  },
  {
   "cell_type": "code",
   "execution_count": 34,
   "id": "00ebd8cb",
   "metadata": {
    "execution": {
     "iopub.execute_input": "2022-01-20T05:51:48.173420Z",
     "iopub.status.busy": "2022-01-20T05:51:48.172781Z",
     "iopub.status.idle": "2022-01-20T05:51:48.175389Z",
     "shell.execute_reply": "2022-01-20T05:51:48.175776Z",
     "shell.execute_reply.started": "2022-01-18T17:14:29.675333Z"
    },
    "papermill": {
     "duration": 0.076508,
     "end_time": "2022-01-20T05:51:48.175945",
     "exception": false,
     "start_time": "2022-01-20T05:51:48.099437",
     "status": "completed"
    },
    "tags": []
   },
   "outputs": [
    {
     "data": {
      "text/plain": [
       "(5, array(['BACKGROUND', 'CONCLUSIONS', 'METHODS', 'OBJECTIVE', 'RESULTS'],\n",
       "       dtype=object))"
      ]
     },
     "execution_count": 34,
     "metadata": {},
     "output_type": "execute_result"
    }
   ],
   "source": [
    "# Retieving classes \n",
    "num_classes=len(le.classes_)\n",
    "class_names=le.classes_\n",
    "num_classes,class_names"
   ]
  },
  {
   "cell_type": "markdown",
   "id": "3af6bfb0",
   "metadata": {
    "papermill": {
     "duration": 0.068677,
     "end_time": "2022-01-20T05:51:48.312077",
     "exception": false,
     "start_time": "2022-01-20T05:51:48.243400",
     "status": "completed"
    },
    "tags": []
   },
   "source": [
    "<h3>  Model -> Naive Bayes Model </h3> <br>\n",
    "<h4> TF-IDF Multinomial Naive Bayes Classifier </h4>"
   ]
  },
  {
   "cell_type": "markdown",
   "id": "afb9f5fb",
   "metadata": {
    "papermill": {
     "duration": 0.068677,
     "end_time": "2022-01-20T05:51:48.312077",
     "exception": false,
     "start_time": "2022-01-20T05:51:48.243400",
     "status": "completed"
    },
    "tags": []
   },
   "source": [
    "<h3>  Model -> Naive Bayes Model </h3> <br>\n",
    "<h4> TF-IDF Multinomial Naive Bayes Classifier </h4>"
   ]
  },
  {
   "cell_type": "code",
   "execution_count": 20,
   "id": "60a64146",
   "metadata": {
    "execution": {
     "iopub.execute_input": "2022-01-20T05:51:48.454271Z",
     "iopub.status.busy": "2022-01-20T05:51:48.453636Z",
     "iopub.status.idle": "2022-01-20T05:51:53.727577Z",
     "shell.execute_reply": "2022-01-20T05:51:53.728134Z",
     "shell.execute_reply.started": "2022-01-18T17:14:29.687288Z"
    },
    "papermill": {
     "duration": 5.346759,
     "end_time": "2022-01-20T05:51:53.728287",
     "exception": false,
     "start_time": "2022-01-20T05:51:48.381528",
     "status": "completed"
    },
    "tags": []
   },
   "outputs": [
    {
     "data": {
      "text/plain": [
       "Pipeline(steps=[('tf-idf', TfidfVectorizer()), ('clf', MultinomialNB())])"
      ]
     },
     "execution_count": 20,
     "metadata": {},
     "output_type": "execute_result"
    }
   ],
   "source": [
    "# Turning them to tensors\n",
    "# Baseline Model\n",
    "# tfidf turns text into Numbers with the Formula\n",
    "from sklearn.feature_extraction.text import TfidfVectorizer\n",
    "from sklearn.naive_bayes import MultinomialNB\n",
    "from sklearn.pipeline import Pipeline\n",
    "# Creating a Pipeline\n",
    "# A pipeline takes Multiple Tuples\n",
    "model_0=Pipeline([\n",
    "    (\"tf-idf\",TfidfVectorizer()),\n",
    "    (\"clf\",MultinomialNB())\n",
    "    \n",
    "])\n",
    "model_0.fit(train_sentences,train_labels_encoded)"
   ]
  },
  {
   "cell_type": "code",
   "execution_count": 21,
   "id": "5d68fcba",
   "metadata": {
    "execution": {
     "iopub.execute_input": "2022-01-20T05:51:53.889784Z",
     "iopub.status.busy": "2022-01-20T05:51:53.884736Z",
     "iopub.status.idle": "2022-01-20T05:51:54.716027Z",
     "shell.execute_reply": "2022-01-20T05:51:54.715561Z",
     "shell.execute_reply.started": "2022-01-18T17:14:35.302357Z"
    },
    "papermill": {
     "duration": 0.918524,
     "end_time": "2022-01-20T05:51:54.716157",
     "exception": false,
     "start_time": "2022-01-20T05:51:53.797633",
     "status": "completed"
    },
    "tags": []
   },
   "outputs": [
    {
     "data": {
      "text/plain": [
       "0.7218323844829869"
      ]
     },
     "execution_count": 21,
     "metadata": {},
     "output_type": "execute_result"
    }
   ],
   "source": [
    "# Evaluation and Prediction\n",
    "# In scikit learn it is score for eval\n",
    "model_0.score(val_sentences,val_labels_encoded)"
   ]
  },
  {
   "cell_type": "code",
   "execution_count": 22,
   "id": "fcd49733",
   "metadata": {
    "execution": {
     "iopub.execute_input": "2022-01-20T05:51:54.897916Z",
     "iopub.status.busy": "2022-01-20T05:51:54.861021Z",
     "iopub.status.idle": "2022-01-20T05:51:55.666356Z",
     "shell.execute_reply": "2022-01-20T05:51:55.665677Z",
     "shell.execute_reply.started": "2022-01-18T17:14:36.378223Z"
    },
    "papermill": {
     "duration": 0.882013,
     "end_time": "2022-01-20T05:51:55.666492",
     "exception": false,
     "start_time": "2022-01-20T05:51:54.784479",
     "status": "completed"
    },
    "tags": []
   },
   "outputs": [
    {
     "data": {
      "text/plain": [
       "array([4, 1, 3, ..., 4, 4, 1])"
      ]
     },
     "execution_count": 22,
     "metadata": {},
     "output_type": "execute_result"
    }
   ],
   "source": [
    "# Make Predictions for the Baseline Model\n",
    "baseline_predictions=model_0.predict(val_sentences)\n",
    "baseline_predictions"
   ]
  },
  {
   "cell_type": "code",
   "execution_count": 23,
   "id": "bbb53aea",
   "metadata": {
    "execution": {
     "iopub.execute_input": "2022-01-20T05:51:55.810348Z",
     "iopub.status.busy": "2022-01-20T05:51:55.809425Z",
     "iopub.status.idle": "2022-01-20T05:51:55.811374Z",
     "shell.execute_reply": "2022-01-20T05:51:55.811820Z",
     "shell.execute_reply.started": "2022-01-18T17:14:37.395254Z"
    },
    "papermill": {
     "duration": 0.076729,
     "end_time": "2022-01-20T05:51:55.811998",
     "exception": false,
     "start_time": "2022-01-20T05:51:55.735269",
     "status": "completed"
    },
    "tags": []
   },
   "outputs": [],
   "source": [
    "from sklearn.metrics import accuracy_score\n",
    "from sklearn.metrics import precision_recall_fscore_support\n",
    "# Models for Calculating different evaluation metrics\n",
    "# Returns a dict of different metrics\n",
    "def calculate_results(y_true, y_pred):\n",
    "  # Calculate model accuracy\n",
    "  model_accuracy = accuracy_score(y_true, y_pred) * 100\n",
    "  # Calculate model precision, recall and f1 score using \"weighted average\n",
    "  model_precision, model_recall, model_f1, _ = precision_recall_fscore_support(y_true, y_pred, average=\"weighted\")\n",
    "  model_results = {\"accuracy\": model_accuracy,\n",
    "                  \"precision\": model_precision,\n",
    "                  \"recall\": model_recall,\n",
    "                  \"f1\": model_f1}\n",
    "  return model_results"
   ]
  },
  {
   "cell_type": "code",
   "execution_count": 24,
   "id": "a9ea5251",
   "metadata": {
    "execution": {
     "iopub.execute_input": "2022-01-20T05:51:55.959721Z",
     "iopub.status.busy": "2022-01-20T05:51:55.958800Z",
     "iopub.status.idle": "2022-01-20T05:51:55.974466Z",
     "shell.execute_reply": "2022-01-20T05:51:55.973881Z",
     "shell.execute_reply.started": "2022-01-18T17:14:37.404969Z"
    },
    "papermill": {
     "duration": 0.092858,
     "end_time": "2022-01-20T05:51:55.974595",
     "exception": false,
     "start_time": "2022-01-20T05:51:55.881737",
     "status": "completed"
    },
    "tags": []
   },
   "outputs": [
    {
     "data": {
      "text/plain": [
       "{'accuracy': 72.1832384482987,\n",
       " 'precision': 0.7186466952323352,\n",
       " 'recall': 0.7218323844829869,\n",
       " 'f1': 0.6989250353450294}"
      ]
     },
     "execution_count": 24,
     "metadata": {},
     "output_type": "execute_result"
    }
   ],
   "source": [
    "calculate_results(val_labels_encoded,baseline_predictions)\n"
   ]
  },
  {
   "cell_type": "markdown",
   "id": "e0b30c4d",
   "metadata": {
    "papermill": {
     "duration": 0.069123,
     "end_time": "2022-01-20T05:51:56.116054",
     "exception": false,
     "start_time": "2022-01-20T05:51:56.046931",
     "status": "completed"
    },
    "tags": []
   },
   "source": [
    "<h3> Conv 1D Model </h3>"
   ]
  },
  {
   "cell_type": "code",
   "execution_count": 35,
   "id": "586084e1",
   "metadata": {
    "execution": {
     "iopub.execute_input": "2022-01-20T05:51:56.260923Z",
     "iopub.status.busy": "2022-01-20T05:51:56.260148Z",
     "iopub.status.idle": "2022-01-20T05:51:57.441739Z",
     "shell.execute_reply": "2022-01-20T05:51:57.442289Z",
     "shell.execute_reply.started": "2022-01-18T17:14:37.431381Z"
    },
    "papermill": {
     "duration": 1.256199,
     "end_time": "2022-01-20T05:51:57.442471",
     "exception": false,
     "start_time": "2022-01-20T05:51:56.186272",
     "status": "completed"
    },
    "tags": []
   },
   "outputs": [
    {
     "data": {
      "text/plain": [
       "26.338269273494777"
      ]
     },
     "execution_count": 35,
     "metadata": {},
     "output_type": "execute_result"
    }
   ],
   "source": [
    "# Vectorize the text and then create Embeddings\n",
    "from tensorflow.keras import layers\n",
    "# How long is each sentence on average\n",
    "sent_lens=[len(sentence.split()) for sentence in train_sentences]\n",
    "avg_sent_lens=np.mean(sent_lens)\n",
    "avg_sent_lens\n",
    "# sent_lens\n",
    "#  So we will need Padding and Truncating as the input shapes must be maintained"
   ]
  },
  {
   "cell_type": "code",
   "execution_count": 36,
   "id": "17319cf4",
   "metadata": {
    "execution": {
     "iopub.execute_input": "2022-01-20T05:51:57.610416Z",
     "iopub.status.busy": "2022-01-20T05:51:57.606248Z",
     "iopub.status.idle": "2022-01-20T05:51:59.177708Z",
     "shell.execute_reply": "2022-01-20T05:51:59.178097Z",
     "shell.execute_reply.started": "2022-01-18T17:14:37.774538Z"
    },
    "papermill": {
     "duration": 1.655657,
     "end_time": "2022-01-20T05:51:59.178252",
     "exception": false,
     "start_time": "2022-01-20T05:51:57.522595",
     "status": "completed"
    },
    "tags": []
   },
   "outputs": [
    {
     "data": {
      "text/plain": [
       "(array([1.36848e+05, 3.91410e+04, 3.48700e+03, 4.52000e+02, 6.90000e+01,\n",
       "        2.30000e+01, 1.40000e+01, 4.00000e+00, 2.00000e+00]),\n",
       " array([  1.        ,  33.77777778,  66.55555556,  99.33333333,\n",
       "        132.11111111, 164.88888889, 197.66666667, 230.44444444,\n",
       "        263.22222222, 296.        ]),\n",
       " <a list of 9 Patch objects>)"
      ]
     },
     "execution_count": 36,
     "metadata": {},
     "output_type": "execute_result"
    },
    {
     "data": {
      "image/png": "[encoded data removed]",
      "text/plain": [
       "<Figure size 432x288 with 1 Axes>"
      ]
     },
     "metadata": {
      "needs_background": "light"
     },
     "output_type": "display_data"
    }
   ],
   "source": [
    "plt.hist(sent_lens,bins=9)"
   ]
  },
  {
   "cell_type": "code",
   "execution_count": 37,
   "id": "29f84326",
   "metadata": {
    "execution": {
     "iopub.execute_input": "2022-01-20T05:51:59.355548Z",
     "iopub.status.busy": "2022-01-20T05:51:59.354978Z",
     "iopub.status.idle": "2022-01-20T05:51:59.362951Z",
     "shell.execute_reply": "2022-01-20T05:51:59.362480Z",
     "shell.execute_reply.started": "2022-01-18T17:14:39.077048Z"
    },
    "papermill": {
     "duration": 0.115223,
     "end_time": "2022-01-20T05:51:59.363078",
     "exception": false,
     "start_time": "2022-01-20T05:51:59.247855",
     "status": "completed"
    },
    "tags": []
   },
   "outputs": [
    {
     "data": {
      "text/plain": [
       "55"
      ]
     },
     "execution_count": 37,
     "metadata": {},
     "output_type": "execute_result"
    }
   ],
   "source": [
    "# Calculate the percentile of length of sentences\n",
    "output_seq_len=int(np.percentile(sent_lens,95))\n",
    "output_seq_len\n",
    "# So 95% sentences are in length of 55"
   ]
  },
  {
   "cell_type": "code",
   "execution_count": 38,
   "id": "8c2e7ee7",
   "metadata": {
    "execution": {
     "iopub.execute_input": "2022-01-20T05:51:59.513600Z",
     "iopub.status.busy": "2022-01-20T05:51:59.513026Z",
     "iopub.status.idle": "2022-01-20T05:52:01.920467Z",
     "shell.execute_reply": "2022-01-20T05:52:01.921232Z",
     "shell.execute_reply.started": "2022-01-18T17:14:39.121102Z"
    },
    "papermill": {
     "duration": 2.487187,
     "end_time": "2022-01-20T05:52:01.921468",
     "exception": false,
     "start_time": "2022-01-20T05:51:59.434281",
     "status": "completed"
    },
    "tags": []
   },
   "outputs": [],
   "source": [
    "# Creating a text Vectorization Layer\n",
    "# Mapping our text from words to Numbers\n",
    "# An embedding is a relatively low-dimensional space into which you can translate high-dimensional vectors. \n",
    "# Vocabulary size in the Research Paper is 68000\n",
    "max_tokens=68000\n",
    "from tensorflow.keras.layers.experimental.preprocessing import TextVectorization\n",
    "text_vectorizer=TextVectorization(max_tokens=max_tokens,output_sequence_length=output_seq_len)\n"
   ]
  },
  {
   "cell_type": "code",
   "execution_count": 39,
   "id": "f07e9aee",
   "metadata": {
    "execution": {
     "iopub.execute_input": "2022-01-20T05:52:02.159379Z",
     "iopub.status.busy": "2022-01-20T05:52:02.158768Z",
     "iopub.status.idle": "2022-01-20T05:52:15.641856Z",
     "shell.execute_reply": "2022-01-20T05:52:15.642447Z",
     "shell.execute_reply.started": "2022-01-18T17:14:39.136385Z"
    },
    "papermill": {
     "duration": 13.594434,
     "end_time": "2022-01-20T05:52:15.642631",
     "exception": false,
     "start_time": "2022-01-20T05:52:02.048197",
     "status": "completed"
    },
    "tags": []
   },
   "outputs": [],
   "source": [
    "# Adapt the Text Vectorizer to the Training Data\n",
    "# We have to adapt it to only the training data so that val and test data are not seen\n",
    "# Later it can be fitted to the two latter\n",
    "text_vectorizer.adapt(train_sentences)"
   ]
  },
  {
   "cell_type": "code",
   "execution_count": 40,
   "id": "fac645ee",
   "metadata": {
    "execution": {
     "iopub.execute_input": "2022-01-20T05:52:15.790143Z",
     "iopub.status.busy": "2022-01-20T05:52:15.789273Z",
     "iopub.status.idle": "2022-01-20T05:52:15.991492Z",
     "shell.execute_reply": "2022-01-20T05:52:15.992199Z",
     "shell.execute_reply.started": "2022-01-18T17:14:51.490797Z"
    },
    "papermill": {
     "duration": 0.27829,
     "end_time": "2022-01-20T05:52:15.992354",
     "exception": false,
     "start_time": "2022-01-20T05:52:15.714064",
     "status": "completed"
    },
    "tags": []
   },
   "outputs": [
    {
     "name": "stdout",
     "output_type": "stream",
     "text": [
      "64841\n",
      "['', '[UNK]', 'the', 'and', 'of']\n",
      "['aainduced', 'aaigroup', 'aachener', 'aachen', 'aaacp']\n"
     ]
    }
   ],
   "source": [
    "# Finding out how many words are there  in the training vocabulary and which are  most common\n",
    "# Also text vectorizer works pretty straightforwardly, 1 to most common word, 2 to 2nd most common word and so on\n",
    "train_vocab=text_vectorizer.get_vocabulary()\n",
    "# Size of Vocab\n",
    "print(len(train_vocab))\n",
    "# 5 Most Common Words in the Vocab\n",
    "print(train_vocab[:5])\n",
    "# Least common 5 words in the vocab\n",
    "print(train_vocab[-5:])"
   ]
  },
  {
   "cell_type": "code",
   "execution_count": 41,
   "id": "89273308",
   "metadata": {
    "execution": {
     "iopub.execute_input": "2022-01-20T05:52:16.142499Z",
     "iopub.status.busy": "2022-01-20T05:52:16.141685Z",
     "iopub.status.idle": "2022-01-20T05:52:16.146270Z",
     "shell.execute_reply": "2022-01-20T05:52:16.145764Z",
     "shell.execute_reply.started": "2022-01-18T17:14:51.725223Z"
    },
    "papermill": {
     "duration": 0.081272,
     "end_time": "2022-01-20T05:52:16.146389",
     "exception": false,
     "start_time": "2022-01-20T05:52:16.065117",
     "status": "completed"
    },
    "tags": []
   },
   "outputs": [
    {
     "data": {
      "text/plain": [
       "{'name': 'text_vectorization',\n",
       " 'trainable': True,\n",
       " 'batch_input_shape': (None,),\n",
       " 'dtype': 'string',\n",
       " 'max_tokens': 68000,\n",
       " 'standardize': 'lower_and_strip_punctuation',\n",
       " 'split': 'whitespace',\n",
       " 'ngrams': None,\n",
       " 'output_mode': 'int',\n",
       " 'output_sequence_length': 55,\n",
       " 'pad_to_max_tokens': False}"
      ]
     },
     "execution_count": 41,
     "metadata": {},
     "output_type": "execute_result"
    }
   ],
   "source": [
    "# Get the config of our Text Vectorizer\n",
    "text_vectorizer.get_config()"
   ]
  },
  {
   "cell_type": "code",
   "execution_count": 42,
   "id": "9feec458",
   "metadata": {
    "execution": {
     "iopub.execute_input": "2022-01-20T05:52:16.301147Z",
     "iopub.status.busy": "2022-01-20T05:52:16.299405Z",
     "iopub.status.idle": "2022-01-20T05:52:16.301705Z",
     "shell.execute_reply": "2022-01-20T05:52:16.302136Z",
     "shell.execute_reply.started": "2022-01-18T17:14:51.737774Z"
    },
    "papermill": {
     "duration": 0.083357,
     "end_time": "2022-01-20T05:52:16.302287",
     "exception": false,
     "start_time": "2022-01-20T05:52:16.218930",
     "status": "completed"
    },
    "tags": []
   },
   "outputs": [],
   "source": [
    "# Create an Embedding Layer\n",
    "# More output dims , more emmbedding, more parameters to train\n",
    "# Masking the 0 considering themm as padding\n",
    "token_embed=layers.Embedding(input_dim=len(train_vocab),output_dim=128,mask_zero=True,name=\"token_embedding\")"
   ]
  },
  {
   "cell_type": "code",
   "execution_count": 43,
   "id": "11baa9be",
   "metadata": {
    "execution": {
     "iopub.execute_input": "2022-01-20T05:52:16.479612Z",
     "iopub.status.busy": "2022-01-20T05:52:16.474609Z",
     "iopub.status.idle": "2022-01-20T05:52:17.426783Z",
     "shell.execute_reply": "2022-01-20T05:52:17.427398Z",
     "shell.execute_reply.started": "2022-01-18T17:14:51.747839Z"
    },
    "papermill": {
     "duration": 1.052745,
     "end_time": "2022-01-20T05:52:17.427594",
     "exception": false,
     "start_time": "2022-01-20T05:52:16.374849",
     "status": "completed"
    },
    "tags": []
   },
   "outputs": [
    {
     "data": {
      "text/plain": [
       "<TensorSliceDataset shapes: ((), (5,)), types: (tf.string, tf.float64)>"
      ]
     },
     "execution_count": 43,
     "metadata": {},
     "output_type": "execute_result"
    }
   ],
   "source": [
    "# Creating a Fast Loadinng Dataset with tf data API\n",
    "# https://www.tensorflow.org/guide/data_performance\n",
    "# https://www.tensorflow.org/guide/data\n",
    "# Turn our data into Tensorflow datasets\n",
    "train_dataset=tf.data.Dataset.from_tensor_slices((train_sentences,train_labels_one_hot))\n",
    "val_dataset=tf.data.Dataset.from_tensor_slices((val_sentences,val_labels_one_hot))\n",
    "test_dataset=tf.data.Dataset.from_tensor_slices((test_sentences,test_labels_one_hot))\n",
    "train_dataset\n",
    "# <TensorSliceDataset shapes: ((), (5,)), types: (tf.string, tf.float64)>\n",
    "# Which indicates one Text Sample in first tuple, next tuple is (0,0,0,0,1) -> 1hc "
   ]
  },
  {
   "cell_type": "code",
   "execution_count": 87,
   "id": "87d518fd",
   "metadata": {
    "execution": {
     "iopub.execute_input": "2022-01-20T05:52:17.593747Z",
     "iopub.status.busy": "2022-01-20T05:52:17.592939Z",
     "iopub.status.idle": "2022-01-20T05:52:17.599948Z",
     "shell.execute_reply": "2022-01-20T05:52:17.599462Z",
     "shell.execute_reply.started": "2022-01-18T17:14:52.867483Z"
    },
    "papermill": {
     "duration": 0.085614,
     "end_time": "2022-01-20T05:52:17.600069",
     "exception": false,
     "start_time": "2022-01-20T05:52:17.514455",
     "status": "completed"
    },
    "tags": []
   },
   "outputs": [
    {
     "data": {
      "text/plain": [
       "<PrefetchDataset shapes: ((None, None), (None, None, 5)), types: (tf.string, tf.float64)>"
      ]
     },
     "execution_count": 87,
     "metadata": {},
     "output_type": "execute_result"
    }
   ],
   "source": [
    "# Pre fetching the data and making them into batches\n",
    "# Pre fetching reduces the Preparation time of Data taken by CPU\n",
    "# Pref-fetching in a Multi-threaded way Reduces time and Increases the amount of data as all cores can be utilized to Prepare the Data\n",
    "# The GPU will do the Computation\n",
    "train_dataset=train_dataset.batch(32).prefetch(tf.data.AUTOTUNE)\n",
    "val_dataset=val_dataset.batch(32).prefetch(tf.data.AUTOTUNE)\n",
    "test_dataset=test_dataset.batch(32).prefetch(tf.data.AUTOTUNE)\n",
    "train_dataset\n",
    "# Run the Previous steps as well this otherwie the Shapes will not be fixed\n",
    "# PrefetchDataset shapes: ((None,), (None, 5)), types: (tf.string, tf.float64)"
   ]
  },
  {
   "cell_type": "code",
   "execution_count": 90,
   "id": "400be963",
   "metadata": {},
   "outputs": [
    {
     "ename": "NotFoundError",
     "evalue": "dlopen(/opt/anaconda3/lib/python3.7/site-packages/tensorflow_text/python/ops/_normalize_ops.dylib, 6): Symbol not found: ____chkstk_darwin\n  Referenced from: /opt/anaconda3/lib/python3.7/site-packages/tensorflow_text/python/ops/_normalize_ops.dylib\n  Expected in: /usr/lib/libSystem.B.dylib\n in /opt/anaconda3/lib/python3.7/site-packages/tensorflow_text/python/ops/_normalize_ops.dylib",
     "output_type": "error",
     "traceback": [
      "\u001b[0;31m---------------------------------------------------------------------------\u001b[0m",
      "\u001b[0;31mNotFoundError\u001b[0m                             Traceback (most recent call last)",
      "\u001b[0;32m<ipython-input-90-3605948a0fbd>\u001b[0m in \u001b[0;36m<module>\u001b[0;34m\u001b[0m\n\u001b[1;32m      1\u001b[0m \u001b[0;31m#TRY\u001b[0m\u001b[0;34m\u001b[0m\u001b[0;34m\u001b[0m\u001b[0;34m\u001b[0m\u001b[0m\n\u001b[0;32m----> 2\u001b[0;31m \u001b[0;32mimport\u001b[0m \u001b[0mtensorflow_text\u001b[0m \u001b[0;32mas\u001b[0m \u001b[0mtext\u001b[0m\u001b[0;34m\u001b[0m\u001b[0;34m\u001b[0m\u001b[0m\n\u001b[0m\u001b[1;32m      3\u001b[0m \u001b[0;32mimport\u001b[0m \u001b[0mtensorflow_hub\u001b[0m \u001b[0;32mas\u001b[0m \u001b[0mhub\u001b[0m\u001b[0;34m\u001b[0m\u001b[0;34m\u001b[0m\u001b[0m\n\u001b[1;32m      4\u001b[0m \u001b[0;32mdef\u001b[0m \u001b[0mbuild_classifier_model\u001b[0m\u001b[0;34m(\u001b[0m\u001b[0;34m)\u001b[0m\u001b[0;34m:\u001b[0m\u001b[0;34m\u001b[0m\u001b[0;34m\u001b[0m\u001b[0m\n\u001b[1;32m      5\u001b[0m   \u001b[0mtext_input\u001b[0m \u001b[0;34m=\u001b[0m \u001b[0mtf\u001b[0m\u001b[0;34m.\u001b[0m\u001b[0mkeras\u001b[0m\u001b[0;34m.\u001b[0m\u001b[0mlayers\u001b[0m\u001b[0;34m.\u001b[0m\u001b[0mInput\u001b[0m\u001b[0;34m(\u001b[0m\u001b[0mshape\u001b[0m\u001b[0;34m=\u001b[0m\u001b[0;34m(\u001b[0m\u001b[0;34m)\u001b[0m\u001b[0;34m,\u001b[0m \u001b[0mdtype\u001b[0m\u001b[0;34m=\u001b[0m\u001b[0mtf\u001b[0m\u001b[0;34m.\u001b[0m\u001b[0mstring\u001b[0m\u001b[0;34m,\u001b[0m \u001b[0mname\u001b[0m\u001b[0;34m=\u001b[0m\u001b[0;34m'text'\u001b[0m\u001b[0;34m)\u001b[0m\u001b[0;34m\u001b[0m\u001b[0;34m\u001b[0m\u001b[0m\n",
      "\u001b[0;32m/opt/anaconda3/lib/python3.7/site-packages/tensorflow_text/__init__.py\u001b[0m in \u001b[0;36m<module>\u001b[0;34m\u001b[0m\n\u001b[1;32m     20\u001b[0m \u001b[0;32mfrom\u001b[0m \u001b[0mtensorflow_text\u001b[0m\u001b[0;34m.\u001b[0m\u001b[0mpython\u001b[0m \u001b[0;32mimport\u001b[0m \u001b[0mkeras\u001b[0m\u001b[0;34m\u001b[0m\u001b[0;34m\u001b[0m\u001b[0m\n\u001b[1;32m     21\u001b[0m \u001b[0;32mfrom\u001b[0m \u001b[0mtensorflow_text\u001b[0m\u001b[0;34m.\u001b[0m\u001b[0mpython\u001b[0m \u001b[0;32mimport\u001b[0m \u001b[0mmetrics\u001b[0m\u001b[0;34m\u001b[0m\u001b[0;34m\u001b[0m\u001b[0m\n\u001b[0;32m---> 22\u001b[0;31m \u001b[0;32mfrom\u001b[0m \u001b[0mtensorflow_text\u001b[0m\u001b[0;34m.\u001b[0m\u001b[0mpython\u001b[0m\u001b[0;34m.\u001b[0m\u001b[0mops\u001b[0m \u001b[0;32mimport\u001b[0m \u001b[0;34m*\u001b[0m\u001b[0;34m\u001b[0m\u001b[0;34m\u001b[0m\u001b[0m\n\u001b[0m\u001b[1;32m     23\u001b[0m \u001b[0;34m\u001b[0m\u001b[0m\n\u001b[1;32m     24\u001b[0m \u001b[0;34m\u001b[0m\u001b[0m\n",
      "\u001b[0;32m/opt/anaconda3/lib/python3.7/site-packages/tensorflow_text/python/ops/__init__.py\u001b[0m in \u001b[0;36m<module>\u001b[0;34m\u001b[0m\n\u001b[1;32m     21\u001b[0m \u001b[0;32mexcept\u001b[0m \u001b[0mImportError\u001b[0m\u001b[0;34m:\u001b[0m\u001b[0;34m\u001b[0m\u001b[0;34m\u001b[0m\u001b[0m\n\u001b[1;32m     22\u001b[0m   \u001b[0;32mpass\u001b[0m\u001b[0;34m\u001b[0m\u001b[0;34m\u001b[0m\u001b[0m\n\u001b[0;32m---> 23\u001b[0;31m \u001b[0;32mfrom\u001b[0m \u001b[0mtensorflow_text\u001b[0m\u001b[0;34m.\u001b[0m\u001b[0mpython\u001b[0m\u001b[0;34m.\u001b[0m\u001b[0mops\u001b[0m\u001b[0;34m.\u001b[0m\u001b[0mbert_tokenizer\u001b[0m \u001b[0;32mimport\u001b[0m \u001b[0mBertTokenizer\u001b[0m\u001b[0;34m\u001b[0m\u001b[0;34m\u001b[0m\u001b[0m\n\u001b[0m\u001b[1;32m     24\u001b[0m \u001b[0;32mfrom\u001b[0m \u001b[0mtensorflow_text\u001b[0m\u001b[0;34m.\u001b[0m\u001b[0mpython\u001b[0m\u001b[0;34m.\u001b[0m\u001b[0mops\u001b[0m\u001b[0;34m.\u001b[0m\u001b[0mcreate_feature_bitmask_op\u001b[0m \u001b[0;32mimport\u001b[0m \u001b[0mcreate_feature_bitmask\u001b[0m\u001b[0;34m\u001b[0m\u001b[0;34m\u001b[0m\u001b[0m\n\u001b[1;32m     25\u001b[0m \u001b[0;32mfrom\u001b[0m \u001b[0mtensorflow_text\u001b[0m\u001b[0;34m.\u001b[0m\u001b[0mpython\u001b[0m\u001b[0;34m.\u001b[0m\u001b[0mops\u001b[0m\u001b[0;34m.\u001b[0m\u001b[0mgreedy_constrained_sequence_op\u001b[0m \u001b[0;32mimport\u001b[0m \u001b[0mgreedy_constrained_sequence\u001b[0m\u001b[0;34m\u001b[0m\u001b[0;34m\u001b[0m\u001b[0m\n",
      "\u001b[0;32m/opt/anaconda3/lib/python3.7/site-packages/tensorflow_text/python/ops/bert_tokenizer.py\u001b[0m in \u001b[0;36m<module>\u001b[0;34m\u001b[0m\n\u001b[1;32m     27\u001b[0m \u001b[0;32mfrom\u001b[0m \u001b[0mtensorflow\u001b[0m\u001b[0;34m.\u001b[0m\u001b[0mpython\u001b[0m\u001b[0;34m.\u001b[0m\u001b[0mops\u001b[0m \u001b[0;32mimport\u001b[0m \u001b[0mstring_ops\u001b[0m\u001b[0;34m\u001b[0m\u001b[0;34m\u001b[0m\u001b[0m\n\u001b[1;32m     28\u001b[0m \u001b[0;32mfrom\u001b[0m \u001b[0mtensorflow_text\u001b[0m\u001b[0;34m.\u001b[0m\u001b[0mpython\u001b[0m\u001b[0;34m.\u001b[0m\u001b[0mops\u001b[0m \u001b[0;32mimport\u001b[0m \u001b[0mregex_split_ops\u001b[0m\u001b[0;34m\u001b[0m\u001b[0;34m\u001b[0m\u001b[0m\n\u001b[0;32m---> 29\u001b[0;31m \u001b[0;32mfrom\u001b[0m \u001b[0mtensorflow_text\u001b[0m\u001b[0;34m.\u001b[0m\u001b[0mpython\u001b[0m\u001b[0;34m.\u001b[0m\u001b[0mops\u001b[0m\u001b[0;34m.\u001b[0m\u001b[0mnormalize_ops\u001b[0m \u001b[0;32mimport\u001b[0m \u001b[0mcase_fold_utf8\u001b[0m\u001b[0;34m\u001b[0m\u001b[0;34m\u001b[0m\u001b[0m\n\u001b[0m\u001b[1;32m     30\u001b[0m \u001b[0;32mfrom\u001b[0m \u001b[0mtensorflow_text\u001b[0m\u001b[0;34m.\u001b[0m\u001b[0mpython\u001b[0m\u001b[0;34m.\u001b[0m\u001b[0mops\u001b[0m\u001b[0;34m.\u001b[0m\u001b[0mnormalize_ops\u001b[0m \u001b[0;32mimport\u001b[0m \u001b[0mnormalize_utf8\u001b[0m\u001b[0;34m\u001b[0m\u001b[0;34m\u001b[0m\u001b[0m\n\u001b[1;32m     31\u001b[0m \u001b[0;32mfrom\u001b[0m \u001b[0mtensorflow_text\u001b[0m\u001b[0;34m.\u001b[0m\u001b[0mpython\u001b[0m\u001b[0;34m.\u001b[0m\u001b[0mops\u001b[0m\u001b[0;34m.\u001b[0m\u001b[0mtokenization\u001b[0m \u001b[0;32mimport\u001b[0m \u001b[0mDetokenizer\u001b[0m\u001b[0;34m\u001b[0m\u001b[0;34m\u001b[0m\u001b[0m\n",
      "\u001b[0;32m/opt/anaconda3/lib/python3.7/site-packages/tensorflow_text/python/ops/normalize_ops.py\u001b[0m in \u001b[0;36m<module>\u001b[0;34m\u001b[0m\n\u001b[1;32m     29\u001b[0m \u001b[0;32mfrom\u001b[0m \u001b[0mtensorflow\u001b[0m\u001b[0;34m.\u001b[0m\u001b[0mpython\u001b[0m\u001b[0;34m.\u001b[0m\u001b[0mframework\u001b[0m \u001b[0;32mimport\u001b[0m \u001b[0mload_library\u001b[0m\u001b[0;34m\u001b[0m\u001b[0;34m\u001b[0m\u001b[0m\n\u001b[1;32m     30\u001b[0m \u001b[0;32mfrom\u001b[0m \u001b[0mtensorflow\u001b[0m\u001b[0;34m.\u001b[0m\u001b[0mpython\u001b[0m\u001b[0;34m.\u001b[0m\u001b[0mplatform\u001b[0m \u001b[0;32mimport\u001b[0m \u001b[0mresource_loader\u001b[0m\u001b[0;34m\u001b[0m\u001b[0;34m\u001b[0m\u001b[0m\n\u001b[0;32m---> 31\u001b[0;31m \u001b[0mgen_normalize_ops\u001b[0m \u001b[0;34m=\u001b[0m \u001b[0mload_library\u001b[0m\u001b[0;34m.\u001b[0m\u001b[0mload_op_library\u001b[0m\u001b[0;34m(\u001b[0m\u001b[0mresource_loader\u001b[0m\u001b[0;34m.\u001b[0m\u001b[0mget_path_to_datafile\u001b[0m\u001b[0;34m(\u001b[0m\u001b[0;34m'_normalize_ops.dylib'\u001b[0m\u001b[0;34m)\u001b[0m\u001b[0;34m)\u001b[0m\u001b[0;34m\u001b[0m\u001b[0;34m\u001b[0m\u001b[0m\n\u001b[0m\u001b[1;32m     32\u001b[0m \u001b[0;34m\u001b[0m\u001b[0m\n\u001b[1;32m     33\u001b[0m \u001b[0;34m\u001b[0m\u001b[0m\n",
      "\u001b[0;32m/opt/anaconda3/lib/python3.7/site-packages/tensorflow/python/framework/load_library.py\u001b[0m in \u001b[0;36mload_op_library\u001b[0;34m(library_filename)\u001b[0m\n\u001b[1;32m     56\u001b[0m     \u001b[0mRuntimeError\u001b[0m\u001b[0;34m:\u001b[0m \u001b[0mwhen\u001b[0m \u001b[0munable\u001b[0m \u001b[0mto\u001b[0m \u001b[0mload\u001b[0m \u001b[0mthe\u001b[0m \u001b[0mlibrary\u001b[0m \u001b[0;32mor\u001b[0m \u001b[0mget\u001b[0m \u001b[0mthe\u001b[0m \u001b[0mpython\u001b[0m \u001b[0mwrappers\u001b[0m\u001b[0;34m.\u001b[0m\u001b[0;34m\u001b[0m\u001b[0;34m\u001b[0m\u001b[0m\n\u001b[1;32m     57\u001b[0m   \"\"\"\n\u001b[0;32m---> 58\u001b[0;31m   \u001b[0mlib_handle\u001b[0m \u001b[0;34m=\u001b[0m \u001b[0mpy_tf\u001b[0m\u001b[0;34m.\u001b[0m\u001b[0mTF_LoadLibrary\u001b[0m\u001b[0;34m(\u001b[0m\u001b[0mlibrary_filename\u001b[0m\u001b[0;34m)\u001b[0m\u001b[0;34m\u001b[0m\u001b[0;34m\u001b[0m\u001b[0m\n\u001b[0m\u001b[1;32m     59\u001b[0m   \u001b[0;32mtry\u001b[0m\u001b[0;34m:\u001b[0m\u001b[0;34m\u001b[0m\u001b[0;34m\u001b[0m\u001b[0m\n\u001b[1;32m     60\u001b[0m     wrappers = _pywrap_python_op_gen.GetPythonWrappers(\n",
      "\u001b[0;31mNotFoundError\u001b[0m: dlopen(/opt/anaconda3/lib/python3.7/site-packages/tensorflow_text/python/ops/_normalize_ops.dylib, 6): Symbol not found: ____chkstk_darwin\n  Referenced from: /opt/anaconda3/lib/python3.7/site-packages/tensorflow_text/python/ops/_normalize_ops.dylib\n  Expected in: /usr/lib/libSystem.B.dylib\n in /opt/anaconda3/lib/python3.7/site-packages/tensorflow_text/python/ops/_normalize_ops.dylib"
     ]
    }
   ],
   "source": [
    "#TRY \n",
    "import tensorflow_text as text\n",
    "import tensorflow_hub as hub\n",
    "def build_classifier_model():\n",
    "  text_input = tf.keras.layers.Input(shape=(), dtype=tf.string, name='text')\n",
    "  preprocessing_layer = hub.KerasLayer(\n",
    "    \"https://tfhub.dev/tensorflow/bert_en_uncased_preprocess/3\")\n",
    "  encoder_inputs = preprocessing_layer(text_input)\n",
    "  encoder = hub.KerasLayer(\n",
    "    \"https://tfhub.dev/tensorflow/bert_en_uncased_L-12_H-768_A-12/3\",\n",
    "    trainable=True)\n",
    "  outputs = encoder(encoder_inputs)\n",
    "  net = outputs['pooled_output']\n",
    "  net = tf.keras.layers.Dropout(0.1)(net)\n",
    "  net = tf.keras.layers.Dense(5,activation=\"softmax\")(net)\n",
    "  return tf.keras.Model(text_input, net)"
   ]
  },
  {
   "cell_type": "code",
   "execution_count": 78,
   "id": "04e6b757",
   "metadata": {},
   "outputs": [
    {
     "ename": "FileNotFoundError",
     "evalue": "Op type not registered 'CaseFoldUTF8' in binary running on Lulus-MacBook-Pro-2.local. Make sure the Op and Kernel are registered in the binary running in this process. Note that if you are loading a saved graph which used ops from tf.contrib, accessing (e.g.) `tf.contrib.resampler` should be done before importing the graph, as contrib ops are lazily registered when the module is first accessed.\n If trying to load on a different device from the computational device, consider using setting the `experimental_io_device` option on tf.saved_model.LoadOptions to the io_device such as '/job:localhost'.",
     "output_type": "error",
     "traceback": [
      "\u001b[0;31m---------------------------------------------------------------------------\u001b[0m",
      "\u001b[0;31mKeyError\u001b[0m                                  Traceback (most recent call last)",
      "\u001b[0;32m/opt/anaconda3/lib/python3.7/site-packages/tensorflow/python/framework/ops.py\u001b[0m in \u001b[0;36m_get_op_def\u001b[0;34m(self, type)\u001b[0m\n\u001b[1;32m   3961\u001b[0m     \u001b[0;32mtry\u001b[0m\u001b[0;34m:\u001b[0m\u001b[0;34m\u001b[0m\u001b[0;34m\u001b[0m\u001b[0m\n\u001b[0;32m-> 3962\u001b[0;31m       \u001b[0;32mreturn\u001b[0m \u001b[0mself\u001b[0m\u001b[0;34m.\u001b[0m\u001b[0m_op_def_cache\u001b[0m\u001b[0;34m[\u001b[0m\u001b[0mtype\u001b[0m\u001b[0;34m]\u001b[0m\u001b[0;34m\u001b[0m\u001b[0;34m\u001b[0m\u001b[0m\n\u001b[0m\u001b[1;32m   3963\u001b[0m     \u001b[0;32mexcept\u001b[0m \u001b[0mKeyError\u001b[0m\u001b[0;34m:\u001b[0m\u001b[0;34m\u001b[0m\u001b[0;34m\u001b[0m\u001b[0m\n",
      "\u001b[0;31mKeyError\u001b[0m: 'CaseFoldUTF8'",
      "\nDuring handling of the above exception, another exception occurred:\n",
      "\u001b[0;31mNotFoundError\u001b[0m                             Traceback (most recent call last)",
      "\u001b[0;32m/opt/anaconda3/lib/python3.7/site-packages/tensorflow/python/saved_model/load.py\u001b[0m in \u001b[0;36mload_internal\u001b[0;34m(export_dir, tags, options, loader_cls, filters)\u001b[0m\n\u001b[1;32m    902\u001b[0m         loader = loader_cls(object_graph_proto, saved_model_proto, export_dir,\n\u001b[0;32m--> 903\u001b[0;31m                             ckpt_options, options, filters)\n\u001b[0m\u001b[1;32m    904\u001b[0m       \u001b[0;32mexcept\u001b[0m \u001b[0merrors\u001b[0m\u001b[0;34m.\u001b[0m\u001b[0mNotFoundError\u001b[0m \u001b[0;32mas\u001b[0m \u001b[0merr\u001b[0m\u001b[0;34m:\u001b[0m\u001b[0;34m\u001b[0m\u001b[0;34m\u001b[0m\u001b[0m\n",
      "\u001b[0;32m/opt/anaconda3/lib/python3.7/site-packages/tensorflow/python/saved_model/load.py\u001b[0m in \u001b[0;36m__init__\u001b[0;34m(self, object_graph_proto, saved_model_proto, export_dir, ckpt_options, save_options, filters)\u001b[0m\n\u001b[1;32m    137\u001b[0m         function_deserialization.load_function_def_library(\n\u001b[0;32m--> 138\u001b[0;31m             meta_graph.graph_def.library, wrapper_function=_WrapperFunction))\n\u001b[0m\u001b[1;32m    139\u001b[0m     \u001b[0mself\u001b[0m\u001b[0;34m.\u001b[0m\u001b[0m_checkpoint_options\u001b[0m \u001b[0;34m=\u001b[0m \u001b[0mckpt_options\u001b[0m\u001b[0;34m\u001b[0m\u001b[0;34m\u001b[0m\u001b[0m\n",
      "\u001b[0;32m/opt/anaconda3/lib/python3.7/site-packages/tensorflow/python/saved_model/function_deserialization.py\u001b[0m in \u001b[0;36mload_function_def_library\u001b[0;34m(library, load_shared_name_suffix, wrapper_function)\u001b[0m\n\u001b[1;32m    387\u001b[0m     \u001b[0;32mwith\u001b[0m \u001b[0mgraph\u001b[0m\u001b[0;34m.\u001b[0m\u001b[0mas_default\u001b[0m\u001b[0;34m(\u001b[0m\u001b[0;34m)\u001b[0m\u001b[0;34m:\u001b[0m\u001b[0;34m\u001b[0m\u001b[0;34m\u001b[0m\u001b[0m\n\u001b[0;32m--> 388\u001b[0;31m       \u001b[0mfunc_graph\u001b[0m \u001b[0;34m=\u001b[0m \u001b[0mfunction_def_lib\u001b[0m\u001b[0;34m.\u001b[0m\u001b[0mfunction_def_to_graph\u001b[0m\u001b[0;34m(\u001b[0m\u001b[0mcopy\u001b[0m\u001b[0;34m)\u001b[0m\u001b[0;34m\u001b[0m\u001b[0;34m\u001b[0m\u001b[0m\n\u001b[0m\u001b[1;32m    389\u001b[0m     \u001b[0;31m# Restores gradients for function-call ops (not the same as ops that use\u001b[0m\u001b[0;34m\u001b[0m\u001b[0;34m\u001b[0m\u001b[0;34m\u001b[0m\u001b[0m\n",
      "\u001b[0;32m/opt/anaconda3/lib/python3.7/site-packages/tensorflow/python/framework/function_def_to_graph.py\u001b[0m in \u001b[0;36mfunction_def_to_graph\u001b[0;34m(fdef, input_shapes)\u001b[0m\n\u001b[1;32m     63\u001b[0m   graph_def, nested_to_flat_tensor_name = function_def_to_graph_def(\n\u001b[0;32m---> 64\u001b[0;31m       fdef, input_shapes)\n\u001b[0m\u001b[1;32m     65\u001b[0m \u001b[0;34m\u001b[0m\u001b[0m\n",
      "\u001b[0;32m/opt/anaconda3/lib/python3.7/site-packages/tensorflow/python/framework/function_def_to_graph.py\u001b[0m in \u001b[0;36mfunction_def_to_graph_def\u001b[0;34m(fdef, input_shapes)\u001b[0m\n\u001b[1;32m    227\u001b[0m     \u001b[0;32melse\u001b[0m\u001b[0;34m:\u001b[0m\u001b[0;34m\u001b[0m\u001b[0;34m\u001b[0m\u001b[0m\n\u001b[0;32m--> 228\u001b[0;31m       \u001b[0mop_def\u001b[0m \u001b[0;34m=\u001b[0m \u001b[0mdefault_graph\u001b[0m\u001b[0;34m.\u001b[0m\u001b[0m_get_op_def\u001b[0m\u001b[0;34m(\u001b[0m\u001b[0mnode_def\u001b[0m\u001b[0;34m.\u001b[0m\u001b[0mop\u001b[0m\u001b[0;34m)\u001b[0m  \u001b[0;31m# pylint: disable=protected-access\u001b[0m\u001b[0;34m\u001b[0m\u001b[0;34m\u001b[0m\u001b[0m\n\u001b[0m\u001b[1;32m    229\u001b[0m \u001b[0;34m\u001b[0m\u001b[0m\n",
      "\u001b[0;32m/opt/anaconda3/lib/python3.7/site-packages/tensorflow/python/framework/ops.py\u001b[0m in \u001b[0;36m_get_op_def\u001b[0;34m(self, type)\u001b[0m\n\u001b[1;32m   3966\u001b[0m         pywrap_tf_session.TF_GraphGetOpDef(self._c_graph, compat.as_bytes(type),\n\u001b[0;32m-> 3967\u001b[0;31m                                            buf)\n\u001b[0m\u001b[1;32m   3968\u001b[0m         \u001b[0;31m# pylint: enable=protected-access\u001b[0m\u001b[0;34m\u001b[0m\u001b[0;34m\u001b[0m\u001b[0;34m\u001b[0m\u001b[0m\n",
      "\u001b[0;31mNotFoundError\u001b[0m: Op type not registered 'CaseFoldUTF8' in binary running on Lulus-MacBook-Pro-2.local. Make sure the Op and Kernel are registered in the binary running in this process. Note that if you are loading a saved graph which used ops from tf.contrib, accessing (e.g.) `tf.contrib.resampler` should be done before importing the graph, as contrib ops are lazily registered when the module is first accessed.",
      "\nDuring handling of the above exception, another exception occurred:\n",
      "\u001b[0;31mFileNotFoundError\u001b[0m                         Traceback (most recent call last)",
      "\u001b[0;32m<ipython-input-78-e8695cb56ede>\u001b[0m in \u001b[0;36m<module>\u001b[0;34m\u001b[0m\n\u001b[1;32m      1\u001b[0m \u001b[0mtext_test\u001b[0m \u001b[0;34m=\u001b[0m \u001b[0;34m[\u001b[0m\u001b[0;34m'this is such an amazing movie!'\u001b[0m\u001b[0;34m]\u001b[0m\u001b[0;34m\u001b[0m\u001b[0;34m\u001b[0m\u001b[0m\n\u001b[0;32m----> 2\u001b[0;31m \u001b[0mclassifier_model\u001b[0m \u001b[0;34m=\u001b[0m \u001b[0mbuild_classifier_model\u001b[0m\u001b[0;34m(\u001b[0m\u001b[0;34m)\u001b[0m\u001b[0;34m\u001b[0m\u001b[0;34m\u001b[0m\u001b[0m\n\u001b[0m\u001b[1;32m      3\u001b[0m \u001b[0mbert_raw_result\u001b[0m \u001b[0;34m=\u001b[0m \u001b[0mclassifier_model\u001b[0m\u001b[0;34m(\u001b[0m\u001b[0mtf\u001b[0m\u001b[0;34m.\u001b[0m\u001b[0mconstant\u001b[0m\u001b[0;34m(\u001b[0m\u001b[0mtext_test\u001b[0m\u001b[0;34m)\u001b[0m\u001b[0;34m)\u001b[0m\u001b[0;34m\u001b[0m\u001b[0;34m\u001b[0m\u001b[0m\n\u001b[1;32m      4\u001b[0m \u001b[0mprint\u001b[0m\u001b[0;34m(\u001b[0m\u001b[0mtf\u001b[0m\u001b[0;34m.\u001b[0m\u001b[0msigmoid\u001b[0m\u001b[0;34m(\u001b[0m\u001b[0mbert_raw_result\u001b[0m\u001b[0;34m)\u001b[0m\u001b[0;34m)\u001b[0m\u001b[0;34m\u001b[0m\u001b[0;34m\u001b[0m\u001b[0m\n",
      "\u001b[0;32m<ipython-input-75-90af9380420a>\u001b[0m in \u001b[0;36mbuild_classifier_model\u001b[0;34m()\u001b[0m\n\u001b[1;32m      3\u001b[0m \u001b[0;32mdef\u001b[0m \u001b[0mbuild_classifier_model\u001b[0m\u001b[0;34m(\u001b[0m\u001b[0;34m)\u001b[0m\u001b[0;34m:\u001b[0m\u001b[0;34m\u001b[0m\u001b[0;34m\u001b[0m\u001b[0m\n\u001b[1;32m      4\u001b[0m   \u001b[0mtext_input\u001b[0m \u001b[0;34m=\u001b[0m \u001b[0mtf\u001b[0m\u001b[0;34m.\u001b[0m\u001b[0mkeras\u001b[0m\u001b[0;34m.\u001b[0m\u001b[0mlayers\u001b[0m\u001b[0;34m.\u001b[0m\u001b[0mInput\u001b[0m\u001b[0;34m(\u001b[0m\u001b[0mshape\u001b[0m\u001b[0;34m=\u001b[0m\u001b[0;34m(\u001b[0m\u001b[0;34m)\u001b[0m\u001b[0;34m,\u001b[0m \u001b[0mdtype\u001b[0m\u001b[0;34m=\u001b[0m\u001b[0mtf\u001b[0m\u001b[0;34m.\u001b[0m\u001b[0mstring\u001b[0m\u001b[0;34m,\u001b[0m \u001b[0mname\u001b[0m\u001b[0;34m=\u001b[0m\u001b[0;34m'text'\u001b[0m\u001b[0;34m)\u001b[0m\u001b[0;34m\u001b[0m\u001b[0;34m\u001b[0m\u001b[0m\n\u001b[0;32m----> 5\u001b[0;31m   \u001b[0mpreprocessor\u001b[0m \u001b[0;34m=\u001b[0m \u001b[0mhub\u001b[0m\u001b[0;34m.\u001b[0m\u001b[0mload\u001b[0m\u001b[0;34m(\u001b[0m\u001b[0;34m\"https://tfhub.dev/tensorflow/bert_en_uncased_preprocess/3\"\u001b[0m\u001b[0;34m)\u001b[0m\u001b[0;34m\u001b[0m\u001b[0;34m\u001b[0m\u001b[0m\n\u001b[0m\u001b[1;32m      6\u001b[0m   \u001b[0mencoder_inputs\u001b[0m \u001b[0;34m=\u001b[0m \u001b[0mpreprocessing_layer\u001b[0m\u001b[0;34m(\u001b[0m\u001b[0mtext_input\u001b[0m\u001b[0;34m)\u001b[0m\u001b[0;34m\u001b[0m\u001b[0;34m\u001b[0m\u001b[0m\n\u001b[1;32m      7\u001b[0m   \u001b[0mencoder\u001b[0m \u001b[0;34m=\u001b[0m \u001b[0mhub\u001b[0m\u001b[0;34m.\u001b[0m\u001b[0mKerasLayer\u001b[0m\u001b[0;34m(\u001b[0m\u001b[0mtfhub_handle_encoder\u001b[0m\u001b[0;34m,\u001b[0m \u001b[0mtrainable\u001b[0m\u001b[0;34m=\u001b[0m\u001b[0;32mTrue\u001b[0m\u001b[0;34m,\u001b[0m \u001b[0mname\u001b[0m\u001b[0;34m=\u001b[0m\u001b[0;34m'BERT_encoder'\u001b[0m\u001b[0;34m)\u001b[0m\u001b[0;34m\u001b[0m\u001b[0;34m\u001b[0m\u001b[0m\n",
      "\u001b[0;32m/opt/anaconda3/lib/python3.7/site-packages/tensorflow_hub/module_v2.py\u001b[0m in \u001b[0;36mload\u001b[0;34m(handle, tags, options)\u001b[0m\n\u001b[1;32m    104\u001b[0m         module_path, tags=tags, options=options)\n\u001b[1;32m    105\u001b[0m   \u001b[0;32melse\u001b[0m\u001b[0;34m:\u001b[0m\u001b[0;34m\u001b[0m\u001b[0;34m\u001b[0m\u001b[0m\n\u001b[0;32m--> 106\u001b[0;31m     \u001b[0mobj\u001b[0m \u001b[0;34m=\u001b[0m \u001b[0mtf\u001b[0m\u001b[0;34m.\u001b[0m\u001b[0mcompat\u001b[0m\u001b[0;34m.\u001b[0m\u001b[0mv1\u001b[0m\u001b[0;34m.\u001b[0m\u001b[0msaved_model\u001b[0m\u001b[0;34m.\u001b[0m\u001b[0mload_v2\u001b[0m\u001b[0;34m(\u001b[0m\u001b[0mmodule_path\u001b[0m\u001b[0;34m,\u001b[0m \u001b[0mtags\u001b[0m\u001b[0;34m=\u001b[0m\u001b[0mtags\u001b[0m\u001b[0;34m)\u001b[0m\u001b[0;34m\u001b[0m\u001b[0;34m\u001b[0m\u001b[0m\n\u001b[0m\u001b[1;32m    107\u001b[0m   \u001b[0mobj\u001b[0m\u001b[0;34m.\u001b[0m\u001b[0m_is_hub_module_v1\u001b[0m \u001b[0;34m=\u001b[0m \u001b[0mis_hub_module_v1\u001b[0m  \u001b[0;31m# pylint: disable=protected-access\u001b[0m\u001b[0;34m\u001b[0m\u001b[0;34m\u001b[0m\u001b[0m\n\u001b[1;32m    108\u001b[0m   \u001b[0;32mreturn\u001b[0m \u001b[0mobj\u001b[0m\u001b[0;34m\u001b[0m\u001b[0;34m\u001b[0m\u001b[0m\n",
      "\u001b[0;32m/opt/anaconda3/lib/python3.7/site-packages/tensorflow/python/saved_model/load.py\u001b[0m in \u001b[0;36mload\u001b[0;34m(export_dir, tags, options)\u001b[0m\n\u001b[1;32m    862\u001b[0m   \"\"\"\n\u001b[1;32m    863\u001b[0m   \u001b[0mmetrics\u001b[0m\u001b[0;34m.\u001b[0m\u001b[0mIncrementReadApi\u001b[0m\u001b[0;34m(\u001b[0m\u001b[0m_LOAD_V2_LABEL\u001b[0m\u001b[0;34m)\u001b[0m\u001b[0;34m\u001b[0m\u001b[0;34m\u001b[0m\u001b[0m\n\u001b[0;32m--> 864\u001b[0;31m   \u001b[0mresult\u001b[0m \u001b[0;34m=\u001b[0m \u001b[0mload_internal\u001b[0m\u001b[0;34m(\u001b[0m\u001b[0mexport_dir\u001b[0m\u001b[0;34m,\u001b[0m \u001b[0mtags\u001b[0m\u001b[0;34m,\u001b[0m \u001b[0moptions\u001b[0m\u001b[0;34m)\u001b[0m\u001b[0;34m[\u001b[0m\u001b[0;34m\"root\"\u001b[0m\u001b[0;34m]\u001b[0m\u001b[0;34m\u001b[0m\u001b[0;34m\u001b[0m\u001b[0m\n\u001b[0m\u001b[1;32m    865\u001b[0m   \u001b[0mmetrics\u001b[0m\u001b[0;34m.\u001b[0m\u001b[0mIncrementRead\u001b[0m\u001b[0;34m(\u001b[0m\u001b[0;34m)\u001b[0m\u001b[0;34m\u001b[0m\u001b[0;34m\u001b[0m\u001b[0m\n\u001b[1;32m    866\u001b[0m   \u001b[0;32mreturn\u001b[0m \u001b[0mresult\u001b[0m\u001b[0;34m\u001b[0m\u001b[0;34m\u001b[0m\u001b[0m\n",
      "\u001b[0;32m/opt/anaconda3/lib/python3.7/site-packages/tensorflow/python/saved_model/load.py\u001b[0m in \u001b[0;36mload_internal\u001b[0;34m(export_dir, tags, options, loader_cls, filters)\u001b[0m\n\u001b[1;32m    904\u001b[0m       \u001b[0;32mexcept\u001b[0m \u001b[0merrors\u001b[0m\u001b[0;34m.\u001b[0m\u001b[0mNotFoundError\u001b[0m \u001b[0;32mas\u001b[0m \u001b[0merr\u001b[0m\u001b[0;34m:\u001b[0m\u001b[0;34m\u001b[0m\u001b[0;34m\u001b[0m\u001b[0m\n\u001b[1;32m    905\u001b[0m         raise FileNotFoundError(\n\u001b[0;32m--> 906\u001b[0;31m             \u001b[0mstr\u001b[0m\u001b[0;34m(\u001b[0m\u001b[0merr\u001b[0m\u001b[0;34m)\u001b[0m \u001b[0;34m+\u001b[0m \u001b[0;34m\"\\n If trying to load on a different device from the \"\u001b[0m\u001b[0;34m\u001b[0m\u001b[0;34m\u001b[0m\u001b[0m\n\u001b[0m\u001b[1;32m    907\u001b[0m             \u001b[0;34m\"computational device, consider using setting the \"\u001b[0m\u001b[0;34m\u001b[0m\u001b[0;34m\u001b[0m\u001b[0m\n\u001b[1;32m    908\u001b[0m             \u001b[0;34m\"`experimental_io_device` option on tf.saved_model.LoadOptions \"\u001b[0m\u001b[0;34m\u001b[0m\u001b[0;34m\u001b[0m\u001b[0m\n",
      "\u001b[0;31mFileNotFoundError\u001b[0m: Op type not registered 'CaseFoldUTF8' in binary running on Lulus-MacBook-Pro-2.local. Make sure the Op and Kernel are registered in the binary running in this process. Note that if you are loading a saved graph which used ops from tf.contrib, accessing (e.g.) `tf.contrib.resampler` should be done before importing the graph, as contrib ops are lazily registered when the module is first accessed.\n If trying to load on a different device from the computational device, consider using setting the `experimental_io_device` option on tf.saved_model.LoadOptions to the io_device such as '/job:localhost'."
     ]
    }
   ],
   "source": [
    "text_test = ['this is such an amazing movie!']\n",
    "classifier_model = build_classifier_model()\n",
    "bert_raw_result = classifier_model(tf.constant(text_test))\n",
    "print(tf.sigmoid(bert_raw_result))"
   ]
  },
  {
   "cell_type": "code",
   "execution_count": 35,
   "id": "90f8c33a",
   "metadata": {
    "execution": {
     "iopub.execute_input": "2022-01-20T05:52:17.753569Z",
     "iopub.status.busy": "2022-01-20T05:52:17.753027Z",
     "iopub.status.idle": "2022-01-20T05:52:17.826926Z",
     "shell.execute_reply": "2022-01-20T05:52:17.826416Z",
     "shell.execute_reply.started": "2022-01-18T17:14:52.884097Z"
    },
    "papermill": {
     "duration": 0.154148,
     "end_time": "2022-01-20T05:52:17.827059",
     "exception": false,
     "start_time": "2022-01-20T05:52:17.672911",
     "status": "completed"
    },
    "tags": []
   },
   "outputs": [],
   "source": [
    "# Creating the Model\n",
    "inputs=layers.Input(shape=(1,),dtype=tf.string)\n",
    "text_vectors=text_vectorizer(inputs)\n",
    "token_embedding=token_embed(text_vectors)\n",
    "x=layers.Conv1D(64,kernel_size=5,padding=\"same\",activation=\"relu\")(token_embedding)\n",
    "x=layers.GlobalAveragePooling1D()(x)\n",
    "outputs=layers.Dense(num_classes,activation=\"softmax\")(x)\n",
    "# Indirect way of creating the Modelling the op ip\n",
    "model_1=tf.keras.Model(inputs,outputs)\n",
    "# Compiling the Model\n",
    "model_1.compile(loss=\"categorical_crossentropy\",optimizer=tf.keras.optimizers.Adam(),metrics=[\"accuracy\"])\n",
    "\n"
   ]
  },
  {
   "cell_type": "code",
   "execution_count": 36,
   "id": "6381592c",
   "metadata": {
    "execution": {
     "iopub.execute_input": "2022-01-20T05:52:17.976972Z",
     "iopub.status.busy": "2022-01-20T05:52:17.975997Z",
     "iopub.status.idle": "2022-01-20T05:52:17.981480Z",
     "shell.execute_reply": "2022-01-20T05:52:17.981067Z",
     "shell.execute_reply.started": "2022-01-18T17:14:52.963017Z"
    },
    "papermill": {
     "duration": 0.083283,
     "end_time": "2022-01-20T05:52:17.981600",
     "exception": false,
     "start_time": "2022-01-20T05:52:17.898317",
     "status": "completed"
    },
    "tags": []
   },
   "outputs": [
    {
     "name": "stdout",
     "output_type": "stream",
     "text": [
      "Model: \"model\"\n",
      "_________________________________________________________________\n",
      "Layer (type)                 Output Shape              Param #   \n",
      "=================================================================\n",
      "input_1 (InputLayer)         [(None, 1)]               0         \n",
      "_________________________________________________________________\n",
      "text_vectorization (TextVect (None, 55)                0         \n",
      "_________________________________________________________________\n",
      "token_embedding (Embedding)  (None, 55, 128)           8299648   \n",
      "_________________________________________________________________\n",
      "conv1d (Conv1D)              (None, 55, 64)            41024     \n",
      "_________________________________________________________________\n",
      "global_average_pooling1d (Gl (None, 64)                0         \n",
      "_________________________________________________________________\n",
      "dense (Dense)                (None, 5)                 325       \n",
      "=================================================================\n",
      "Total params: 8,340,997\n",
      "Trainable params: 8,340,997\n",
      "Non-trainable params: 0\n",
      "_________________________________________________________________\n"
     ]
    }
   ],
   "source": [
    "model_1.summary()"
   ]
  },
  {
   "cell_type": "code",
   "execution_count": 37,
   "id": "38df6d41",
   "metadata": {
    "execution": {
     "iopub.execute_input": "2022-01-20T05:52:18.133869Z",
     "iopub.status.busy": "2022-01-20T05:52:18.133336Z",
     "iopub.status.idle": "2022-01-20T05:55:30.340362Z",
     "shell.execute_reply": "2022-01-20T05:55:30.339705Z",
     "shell.execute_reply.started": "2022-01-18T17:14:52.979389Z"
    },
    "papermill": {
     "duration": 192.285469,
     "end_time": "2022-01-20T05:55:30.340563",
     "exception": false,
     "start_time": "2022-01-20T05:52:18.055094",
     "status": "completed"
    },
    "tags": []
   },
   "outputs": [
    {
     "name": "stdout",
     "output_type": "stream",
     "text": [
      "Epoch 1/5\n"
     ]
    },
    {
     "name": "stderr",
     "output_type": "stream",
     "text": [
      "2022-01-20 05:52:19.432371: I tensorflow/stream_executor/cuda/cuda_dnn.cc:369] Loaded cuDNN version 8005\n"
     ]
    },
    {
     "name": "stdout",
     "output_type": "stream",
     "text": [
      "5627/5627 [==============================] - 40s 6ms/step - loss: 0.6131 - accuracy: 0.7769 - val_loss: 0.5332 - val_accuracy: 0.8103\n",
      "Epoch 2/5\n",
      "5627/5627 [==============================] - 34s 6ms/step - loss: 0.4489 - accuracy: 0.8428 - val_loss: 0.5354 - val_accuracy: 0.8102\n",
      "Epoch 3/5\n",
      "5627/5627 [==============================] - 35s 6ms/step - loss: 0.3680 - accuracy: 0.8742 - val_loss: 0.5650 - val_accuracy: 0.8077\n",
      "Epoch 4/5\n",
      "5627/5627 [==============================] - 34s 6ms/step - loss: 0.3037 - accuracy: 0.8990 - val_loss: 0.6278 - val_accuracy: 0.8009\n",
      "Epoch 5/5\n",
      "5627/5627 [==============================] - 35s 6ms/step - loss: 0.2502 - accuracy: 0.9188 - val_loss: 0.7064 - val_accuracy: 0.7949\n"
     ]
    }
   ],
   "source": [
    "history_model_1=model_1.fit(train_dataset,epochs=5,validation_data=val_dataset)"
   ]
  },
  {
   "cell_type": "code",
   "execution_count": 38,
   "id": "ae976522",
   "metadata": {
    "execution": {
     "iopub.execute_input": "2022-01-20T05:55:32.537973Z",
     "iopub.status.busy": "2022-01-20T05:55:32.537169Z",
     "iopub.status.idle": "2022-01-20T05:55:35.188947Z",
     "shell.execute_reply": "2022-01-20T05:55:35.188480Z",
     "shell.execute_reply.started": "2022-01-18T17:14:52.989101Z"
    },
    "papermill": {
     "duration": 3.602617,
     "end_time": "2022-01-20T05:55:35.189077",
     "exception": false,
     "start_time": "2022-01-20T05:55:31.586460",
     "status": "completed"
    },
    "tags": []
   },
   "outputs": [
    {
     "name": "stdout",
     "output_type": "stream",
     "text": [
      "945/945 [==============================] - 3s 3ms/step - loss: 0.7064 - accuracy: 0.7949\n"
     ]
    },
    {
     "data": {
      "text/plain": [
       "[0.7064499855041504, 0.7948828339576721]"
      ]
     },
     "execution_count": 38,
     "metadata": {},
     "output_type": "execute_result"
    }
   ],
   "source": [
    "model_1.evaluate(val_dataset)"
   ]
  },
  {
   "cell_type": "code",
   "execution_count": 39,
   "id": "b776bd72",
   "metadata": {
    "execution": {
     "iopub.execute_input": "2022-01-20T05:55:36.923087Z",
     "iopub.status.busy": "2022-01-20T05:55:36.922234Z",
     "iopub.status.idle": "2022-01-20T05:55:38.974084Z",
     "shell.execute_reply": "2022-01-20T05:55:38.974533Z",
     "shell.execute_reply.started": "2022-01-18T17:14:52.997866Z"
    },
    "papermill": {
     "duration": 2.927139,
     "end_time": "2022-01-20T05:55:38.974703",
     "exception": false,
     "start_time": "2022-01-20T05:55:36.047564",
     "status": "completed"
    },
    "tags": []
   },
   "outputs": [
    {
     "data": {
      "text/plain": [
       "array([[4.81434107e-01, 1.60569864e-04, 4.69450057e-01, 1.83521342e-02,\n",
       "        3.06031238e-02],\n",
       "       [3.78654480e-01, 4.56161685e-02, 2.04011961e-03, 5.68641067e-01,\n",
       "        5.04817721e-03],\n",
       "       [4.07513082e-02, 4.00878809e-04, 2.30424409e-03, 9.56508338e-01,\n",
       "        3.52271891e-05],\n",
       "       ...,\n",
       "       [1.19482895e-08, 3.57755113e-07, 4.13434725e-04, 8.85003182e-09,\n",
       "        9.99586165e-01],\n",
       "       [3.99910398e-02, 2.26488099e-01, 6.38549507e-01, 5.84102469e-03,\n",
       "        8.91303793e-02],\n",
       "       [1.21392448e-04, 9.99447405e-01, 3.92146700e-04, 6.34812466e-07,\n",
       "        3.83526312e-05]], dtype=float32)"
      ]
     },
     "execution_count": 39,
     "metadata": {},
     "output_type": "execute_result"
    }
   ],
   "source": [
    "# Making Predictions In terms of Probabilities\n",
    "model_1_prediction_probability=model_1.predict(val_dataset)\n",
    "model_1_prediction_probability\n",
    "# For all 30k statements our Model will output a 5 len list of Prediction Probability\n",
    "# And out of the 5 the index that is higher is the one in which our class thinks the \n",
    "# Sentence belongs"
   ]
  },
  {
   "cell_type": "code",
   "execution_count": 40,
   "id": "a73229b0",
   "metadata": {
    "execution": {
     "iopub.execute_input": "2022-01-20T05:55:40.749444Z",
     "iopub.status.busy": "2022-01-20T05:55:40.748653Z",
     "iopub.status.idle": "2022-01-20T05:55:40.752526Z",
     "shell.execute_reply": "2022-01-20T05:55:40.752918Z",
     "shell.execute_reply.started": "2022-01-18T17:14:53.008106Z"
    },
    "papermill": {
     "duration": 0.896035,
     "end_time": "2022-01-20T05:55:40.753067",
     "exception": false,
     "start_time": "2022-01-20T05:55:39.857032",
     "status": "completed"
    },
    "tags": []
   },
   "outputs": [
    {
     "data": {
      "text/plain": [
       "<tf.Tensor: shape=(30212,), dtype=int64, numpy=array([0, 3, 3, ..., 4, 2, 1])>"
      ]
     },
     "execution_count": 40,
     "metadata": {},
     "output_type": "execute_result"
    }
   ],
   "source": [
    "# Now converting the Probabilities to classes\n",
    "model_1_prediction=tf.argmax(model_1_prediction_probability,axis=1)\n",
    "model_1_prediction"
   ]
  },
  {
   "cell_type": "code",
   "execution_count": 41,
   "id": "02c82f87",
   "metadata": {
    "execution": {
     "iopub.execute_input": "2022-01-20T05:55:42.878749Z",
     "iopub.status.busy": "2022-01-20T05:55:42.877905Z",
     "iopub.status.idle": "2022-01-20T05:55:42.893605Z",
     "shell.execute_reply": "2022-01-20T05:55:42.894105Z",
     "shell.execute_reply.started": "2022-01-18T17:14:53.021907Z"
    },
    "papermill": {
     "duration": 1.09998,
     "end_time": "2022-01-20T05:55:42.894273",
     "exception": false,
     "start_time": "2022-01-20T05:55:41.794293",
     "status": "completed"
    },
    "tags": []
   },
   "outputs": [
    {
     "data": {
      "text/plain": [
       "{'accuracy': 79.48828280153582,\n",
       " 'precision': 0.7917066319030011,\n",
       " 'recall': 0.7948828280153581,\n",
       " 'f1': 0.7921590483096603}"
      ]
     },
     "execution_count": 41,
     "metadata": {},
     "output_type": "execute_result"
    }
   ],
   "source": [
    "model_1_results=calculate_results(y_true=val_labels_encoded,y_pred=model_1_prediction)\n",
    "model_1_results"
   ]
  },
  {
   "cell_type": "markdown",
   "id": "6ecad2e2",
   "metadata": {
    "papermill": {
     "duration": 0.879937,
     "end_time": "2022-01-20T05:55:44.655536",
     "exception": false,
     "start_time": "2022-01-20T05:55:43.775599",
     "status": "completed"
    },
    "tags": []
   },
   "source": [
    "<h3> Tensorflow Hub Pre trained Embedding and Feature Extractor </h3>"
   ]
  },
  {
   "cell_type": "code",
   "execution_count": 42,
   "id": "8c3d4d40",
   "metadata": {
    "execution": {
     "iopub.execute_input": "2022-01-20T05:55:46.412363Z",
     "iopub.status.busy": "2022-01-20T05:55:46.411557Z",
     "iopub.status.idle": "2022-01-20T05:55:55.862429Z",
     "shell.execute_reply": "2022-01-20T05:55:55.861898Z",
     "shell.execute_reply.started": "2022-01-18T17:14:53.032804Z"
    },
    "papermill": {
     "duration": 10.330726,
     "end_time": "2022-01-20T05:55:55.862556",
     "exception": false,
     "start_time": "2022-01-20T05:55:45.531830",
     "status": "completed"
    },
    "tags": []
   },
   "outputs": [
    {
     "name": "stdout",
     "output_type": "stream",
     "text": [
      "Collecting huggingface\r\n",
      "  Downloading huggingface-0.0.1-py3-none-any.whl (2.5 kB)\r\n",
      "Installing collected packages: huggingface\r\n",
      "Successfully installed huggingface-0.0.1\r\n",
      "\u001b[33mWARNING: Running pip as the 'root' user can result in broken permissions and conflicting behaviour with the system package manager. It is recommended to use a virtual environment instead: https://pip.pypa.io/warnings/venv\u001b[0m\r\n"
     ]
    }
   ],
   "source": [
    "\n",
    "!pip install huggingface"
   ]
  },
  {
   "cell_type": "code",
   "execution_count": 85,
   "id": "dbbdc427",
   "metadata": {
    "execution": {
     "iopub.execute_input": "2022-01-20T05:55:57.652589Z",
     "iopub.status.busy": "2022-01-20T05:55:57.651745Z",
     "iopub.status.idle": "2022-01-20T05:56:13.032379Z",
     "shell.execute_reply": "2022-01-20T05:56:13.032846Z",
     "shell.execute_reply.started": "2022-01-18T17:15:03.006868Z"
    },
    "papermill": {
     "duration": 16.287964,
     "end_time": "2022-01-20T05:56:13.033052",
     "exception": false,
     "start_time": "2022-01-20T05:55:56.745088",
     "status": "completed"
    },
    "tags": []
   },
   "outputs": [],
   "source": [
    "# Model 2: Feature Extractor with pretrained token Embeddings\n",
    "# This is done to leverage the power of Transfer Learning\n",
    "import tensorflow_hub as hub\n",
    "tf_hub_embedding_layers=hub.KerasLayer(\"https://tfhub.dev/google/universal-sentence-encoder/4\",trainable=False,name=\"universal_sentence_encoder\")"
   ]
  },
  {
   "cell_type": "code",
   "execution_count": 86,
   "id": "208e7153",
   "metadata": {
    "execution": {
     "iopub.execute_input": "2022-01-20T05:56:15.040756Z",
     "iopub.status.busy": "2022-01-20T05:56:15.039777Z",
     "iopub.status.idle": "2022-01-20T05:56:15.681137Z",
     "shell.execute_reply": "2022-01-20T05:56:15.682086Z",
     "shell.execute_reply.started": "2022-01-18T17:15:08.566509Z"
    },
    "papermill": {
     "duration": 1.749317,
     "end_time": "2022-01-20T05:56:15.682285",
     "exception": false,
     "start_time": "2022-01-20T05:56:13.932968",
     "status": "completed"
    },
    "tags": []
   },
   "outputs": [
    {
     "name": "stdout",
     "output_type": "stream",
     "text": [
      "Model: \"model_2_transfer_learning\"\n",
      "_________________________________________________________________\n",
      "Layer (type)                 Output Shape              Param #   \n",
      "=================================================================\n",
      "input_2 (InputLayer)         [(None,)]                 0         \n",
      "_________________________________________________________________\n",
      "universal_sentence_encoder ( (None, 512)               256797824 \n",
      "_________________________________________________________________\n",
      "dense (Dense)                (None, 128)               65664     \n",
      "_________________________________________________________________\n",
      "dense_1 (Dense)              (None, 128)               16512     \n",
      "_________________________________________________________________\n",
      "dense_2 (Dense)              (None, 5)                 645       \n",
      "=================================================================\n",
      "Total params: 256,880,645\n",
      "Trainable params: 82,821\n",
      "Non-trainable params: 256,797,824\n",
      "_________________________________________________________________\n"
     ]
    }
   ],
   "source": [
    "# Creating the Model\n",
    "# For the Tensorflow embedding we are using the input shape needs to be in the form of an empty list\n",
    "inputs = layers.Input(shape=[], dtype=tf.string)\n",
    "pretrained_embedding = tf_hub_embedding_layers(inputs)\n",
    "x=layers.Dense(128,activation=\"relu\")(pretrained_embedding)\n",
    "x=layers.Dense(128,activation=\"relu\")(x)\n",
    "# Softmax because we are doing multiclass \n",
    "outputs=layers.Dense(5,activation=\"softmax\")(x)\n",
    "model_2=tf.keras.Model(inputs,outputs,name=\"model_2_transfer_learning\")\n",
    "# Compiling the Model\n",
    "model_2.compile(loss=\"categorical_crossentropy\",optimizer=tf.keras.optimizers.Adam(),metrics=[\"accuracy\"])\n",
    "model_2.summary()"
   ]
  },
  {
   "cell_type": "code",
   "execution_count": 45,
   "id": "64b18fdf",
   "metadata": {
    "execution": {
     "iopub.execute_input": "2022-01-20T05:56:17.502779Z",
     "iopub.status.busy": "2022-01-20T05:56:17.501928Z",
     "iopub.status.idle": "2022-01-20T06:12:29.043043Z",
     "shell.execute_reply": "2022-01-20T06:12:29.043687Z",
     "shell.execute_reply.started": "2022-01-18T17:15:08.830473Z"
    },
    "papermill": {
     "duration": 972.41231,
     "end_time": "2022-01-20T06:12:29.043894",
     "exception": false,
     "start_time": "2022-01-20T05:56:16.631584",
     "status": "completed"
    },
    "tags": []
   },
   "outputs": [
    {
     "name": "stdout",
     "output_type": "stream",
     "text": [
      "Epoch 1/9\n",
      "5627/5627 [==============================] - 80s 14ms/step - loss: 0.6920 - accuracy: 0.7338 - val_loss: 0.6264 - val_accuracy: 0.7595\n",
      "Epoch 2/9\n",
      "5627/5627 [==============================] - 79s 14ms/step - loss: 0.6048 - accuracy: 0.7693 - val_loss: 0.6021 - val_accuracy: 0.7701\n",
      "Epoch 3/9\n",
      "5627/5627 [==============================] - 83s 15ms/step - loss: 0.5707 - accuracy: 0.7834 - val_loss: 0.5999 - val_accuracy: 0.7713\n",
      "Epoch 4/9\n",
      "5627/5627 [==============================] - 82s 15ms/step - loss: 0.5471 - accuracy: 0.7931 - val_loss: 0.6041 - val_accuracy: 0.7718\n",
      "Epoch 5/9\n",
      "5627/5627 [==============================] - 80s 14ms/step - loss: 0.5288 - accuracy: 0.8004 - val_loss: 0.6083 - val_accuracy: 0.7716\n",
      "Epoch 6/9\n",
      "5627/5627 [==============================] - 83s 15ms/step - loss: 0.5126 - accuracy: 0.8071 - val_loss: 0.6164 - val_accuracy: 0.7697\n",
      "Epoch 7/9\n",
      "5627/5627 [==============================] - 82s 15ms/step - loss: 0.4986 - accuracy: 0.8123 - val_loss: 0.6247 - val_accuracy: 0.7682\n",
      "Epoch 8/9\n",
      "5627/5627 [==============================] - 83s 15ms/step - loss: 0.4862 - accuracy: 0.8175 - val_loss: 0.6330 - val_accuracy: 0.7668\n",
      "Epoch 9/9\n",
      "5627/5627 [==============================] - 74s 13ms/step - loss: 0.4746 - accuracy: 0.8215 - val_loss: 0.6411 - val_accuracy: 0.7668\n"
     ]
    }
   ],
   "source": [
    "# Fitting the Model\n",
    "history_model_2=model_2.fit(train_dataset,epochs=9,validation_data=val_dataset)"
   ]
  },
  {
   "cell_type": "code",
   "execution_count": 46,
   "id": "bb23c128",
   "metadata": {
    "execution": {
     "iopub.execute_input": "2022-01-20T06:12:37.257074Z",
     "iopub.status.busy": "2022-01-20T06:12:37.256043Z",
     "iopub.status.idle": "2022-01-20T06:12:47.538157Z",
     "shell.execute_reply": "2022-01-20T06:12:47.537599Z",
     "shell.execute_reply.started": "2022-01-18T17:15:08.837634Z"
    },
    "papermill": {
     "duration": 14.549018,
     "end_time": "2022-01-20T06:12:47.538295",
     "exception": false,
     "start_time": "2022-01-20T06:12:32.989277",
     "status": "completed"
    },
    "tags": []
   },
   "outputs": [
    {
     "name": "stdout",
     "output_type": "stream",
     "text": [
      "945/945 [==============================] - 10s 11ms/step - loss: 0.6411 - accuracy: 0.7668\n"
     ]
    },
    {
     "data": {
      "text/plain": [
       "[0.6410989761352539, 0.7668476104736328]"
      ]
     },
     "execution_count": 46,
     "metadata": {},
     "output_type": "execute_result"
    }
   ],
   "source": [
    "# Evaluating on the Validation Set\n",
    "model_2.evaluate(val_dataset)"
   ]
  },
  {
   "cell_type": "code",
   "execution_count": 47,
   "id": "eb451175",
   "metadata": {
    "execution": {
     "iopub.execute_input": "2022-01-20T06:12:56.205610Z",
     "iopub.status.busy": "2022-01-20T06:12:56.201782Z",
     "iopub.status.idle": "2022-01-20T06:13:04.960936Z",
     "shell.execute_reply": "2022-01-20T06:13:04.960104Z",
     "shell.execute_reply.started": "2022-01-18T17:15:08.849329Z"
    },
    "papermill": {
     "duration": 13.506616,
     "end_time": "2022-01-20T06:13:04.961107",
     "exception": false,
     "start_time": "2022-01-20T06:12:51.454491",
     "status": "completed"
    },
    "tags": []
   },
   "outputs": [
    {
     "data": {
      "text/plain": [
       "array([[4.0803531e-01, 4.4367206e-01, 1.1133185e-05, 1.4820391e-01,\n",
       "        7.7500437e-05],\n",
       "       [5.9673101e-01, 2.2461630e-01, 1.1339488e-03, 1.7705977e-01,\n",
       "        4.5888723e-04],\n",
       "       [5.3690177e-01, 2.8190683e-03, 1.0214814e-02, 4.4736972e-01,\n",
       "        2.6946557e-03],\n",
       "       ...,\n",
       "       [5.7643006e-06, 1.5147015e-05, 4.6100465e-04, 7.3555617e-07,\n",
       "        9.9951732e-01],\n",
       "       [5.0325323e-02, 3.3659038e-01, 2.5338400e-02, 7.5343540e-03,\n",
       "        5.8021152e-01],\n",
       "       [2.8704636e-04, 9.9971002e-01, 7.3130508e-07, 6.1276452e-08,\n",
       "        1.9786214e-06]], dtype=float32)"
      ]
     },
     "execution_count": 47,
     "metadata": {},
     "output_type": "execute_result"
    }
   ],
   "source": [
    "# Making Predictions In terms of Probabilities\n",
    "model_2_prediction_probability=model_2.predict(val_dataset)\n",
    "model_2_prediction_probability\n",
    "# For all 30k statements our Model will output a 5 len list of Prediction Probability\n",
    "# And out of the 5 the index that is higher is the one in which our class thinks the \n",
    "# Sentence belongs"
   ]
  },
  {
   "cell_type": "code",
   "execution_count": 48,
   "id": "c074015b",
   "metadata": {
    "execution": {
     "iopub.execute_input": "2022-01-20T06:13:13.276709Z",
     "iopub.status.busy": "2022-01-20T06:13:13.275457Z",
     "iopub.status.idle": "2022-01-20T06:13:13.279401Z",
     "shell.execute_reply": "2022-01-20T06:13:13.279828Z",
     "shell.execute_reply.started": "2022-01-18T17:15:08.860717Z"
    },
    "papermill": {
     "duration": 3.994477,
     "end_time": "2022-01-20T06:13:13.279987",
     "exception": false,
     "start_time": "2022-01-20T06:13:09.285510",
     "status": "completed"
    },
    "tags": []
   },
   "outputs": [
    {
     "data": {
      "text/plain": [
       "<tf.Tensor: shape=(30212,), dtype=int64, numpy=array([1, 0, 0, ..., 4, 4, 1])>"
      ]
     },
     "execution_count": 48,
     "metadata": {},
     "output_type": "execute_result"
    }
   ],
   "source": [
    "# Now converting the Probabilities to classes\n",
    "model_2_prediction=tf.argmax(model_2_prediction_probability,axis=1)\n",
    "model_2_prediction"
   ]
  },
  {
   "cell_type": "code",
   "execution_count": 49,
   "id": "f2e90fee",
   "metadata": {
    "execution": {
     "iopub.execute_input": "2022-01-20T06:13:21.602900Z",
     "iopub.status.busy": "2022-01-20T06:13:21.601931Z",
     "iopub.status.idle": "2022-01-20T06:13:21.617594Z",
     "shell.execute_reply": "2022-01-20T06:13:21.618052Z",
     "shell.execute_reply.started": "2022-01-18T17:15:08.875536Z"
    },
    "papermill": {
     "duration": 4.299434,
     "end_time": "2022-01-20T06:13:21.618204",
     "exception": false,
     "start_time": "2022-01-20T06:13:17.318770",
     "status": "completed"
    },
    "tags": []
   },
   "outputs": [
    {
     "data": {
      "text/plain": [
       "{'accuracy': 76.68476102211042,\n",
       " 'precision': 0.7665239601351793,\n",
       " 'recall': 0.7668476102211041,\n",
       " 'f1': 0.7643445637182193}"
      ]
     },
     "execution_count": 49,
     "metadata": {},
     "output_type": "execute_result"
    }
   ],
   "source": [
    "model_2_results=calculate_results(y_true=val_labels_encoded,y_pred=model_2_prediction)\n",
    "model_2_results"
   ]
  },
  {
   "cell_type": "markdown",
   "id": "df151902",
   "metadata": {
    "papermill": {
     "duration": 4.442162,
     "end_time": "2022-01-20T06:13:30.637494",
     "exception": false,
     "start_time": "2022-01-20T06:13:26.195332",
     "status": "completed"
    },
    "tags": []
   },
   "source": [
    "<h3> Building a Model with Character level Embeddings </h3>"
   ]
  },
  {
   "cell_type": "code",
   "execution_count": 92,
   "id": "63543039",
   "metadata": {
    "execution": {
     "iopub.execute_input": "2022-01-20T06:13:38.813205Z",
     "iopub.status.busy": "2022-01-20T06:13:38.812366Z",
     "iopub.status.idle": "2022-01-20T06:13:40.052009Z",
     "shell.execute_reply": "2022-01-20T06:13:40.052829Z",
     "shell.execute_reply.started": "2022-01-18T17:15:08.886389Z"
    },
    "papermill": {
     "duration": 5.415577,
     "end_time": "2022-01-20T06:13:40.053061",
     "exception": false,
     "start_time": "2022-01-20T06:13:34.637484",
     "status": "completed"
    },
    "tags": []
   },
   "outputs": [
    {
     "data": {
      "text/plain": [
       "['t o   i n v e s t i g a t e   t h e   e f f i c a c y   o f   @   w e e k s   o f   d a i l y   l o w - d o s e   o r a l   p r e d n i s o l o n e   i n   i m p r o v i n g   p a i n   ,   m o b i l i t y   ,   a n d   s y s t e m i c   l o w - g r a d e   i n f l a m m a t i o n   i n   t h e   s h o r t   t e r m   a n d   w h e t h e r   t h e   e f f e c t   w o u l d   b e   s u s t a i n e d   a t   @   w e e k s   i n   o l d e r   a d u l t s   w i t h   m o d e r a t e   t o   s e v e r e   k n e e   o s t e o a r t h r i t i s   (   o a   )   .',\n",
       " 'a   t o t a l   o f   @   p a t i e n t s   w i t h   p r i m a r y   k n e e   o a   w e r e   r a n d o m i z e d   @ : @   ;   @   r e c e i v e d   @   m g / d a y   o f   p r e d n i s o l o n e   a n d   @   r e c e i v e d   p l a c e b o   f o r   @   w e e k s   .',\n",
       " 'o u t c o m e   m e a s u r e s   i n c l u d e d   p a i n   r e d u c t i o n   a n d   i m p r o v e m e n t   i n   f u n c t i o n   s c o r e s   a n d   s y s t e m i c   i n f l a m m a t i o n   m a r k e r s   .',\n",
       " 'p a i n   w a s   a s s e s s e d   u s i n g   t h e   v i s u a l   a n a l o g   p a i n   s c a l e   (   @ - @   m m   )   .',\n",
       " 's e c o n d a r y   o u t c o m e   m e a s u r e s   i n c l u d e d   t h e   w e s t e r n   o n t a r i o   a n d   m c m a s t e r   u n i v e r s i t i e s   o s t e o a r t h r i t i s   i n d e x   s c o r e s   ,   p a t i e n t   g l o b a l   a s s e s s m e n t   (   p g a   )   o f   t h e   s e v e r i t y   o f   k n e e   o a   ,   a n d   @ - m i n   w a l k   d i s t a n c e   (   @ m w d   )   .']"
      ]
     },
     "execution_count": 92,
     "metadata": {},
     "output_type": "execute_result"
    }
   ],
   "source": [
    "# So we first need to build a Character Layer Tokenizer \n",
    "def split_chars(text):\n",
    "    return \" \".join(list(text))\n",
    "# Text Splitting \n",
    "train_chars=[split_chars(sentence) for sentence in train_sentences]\n",
    "train_chars[:5]"
   ]
  },
  {
   "cell_type": "code",
   "execution_count": 93,
   "id": "01aa8b1e",
   "metadata": {
    "execution": {
     "iopub.execute_input": "2022-01-20T06:13:48.304785Z",
     "iopub.status.busy": "2022-01-20T06:13:48.299983Z",
     "iopub.status.idle": "2022-01-20T06:13:48.610938Z",
     "shell.execute_reply": "2022-01-20T06:13:48.610391Z",
     "shell.execute_reply.started": "2022-01-18T17:15:10.174507Z"
    },
    "papermill": {
     "duration": 4.42256,
     "end_time": "2022-01-20T06:13:48.611069",
     "exception": false,
     "start_time": "2022-01-20T06:13:44.188509",
     "status": "completed"
    },
    "tags": []
   },
   "outputs": [],
   "source": [
    "val_chars=[split_chars(sentence) for sentence in val_sentences]\n",
    "test_chars=[split_chars(sentence) for sentence in test_sentences]"
   ]
  },
  {
   "cell_type": "code",
   "execution_count": 94,
   "id": "957139c5",
   "metadata": {
    "execution": {
     "iopub.execute_input": "2022-01-20T06:13:56.992155Z",
     "iopub.status.busy": "2022-01-20T06:13:56.991323Z",
     "iopub.status.idle": "2022-01-20T06:13:56.997441Z",
     "shell.execute_reply": "2022-01-20T06:13:56.996795Z",
     "shell.execute_reply.started": "2022-01-18T17:15:10.536922Z"
    },
    "papermill": {
     "duration": 4.053136,
     "end_time": "2022-01-20T06:13:56.997577",
     "exception": false,
     "start_time": "2022-01-20T06:13:52.944441",
     "status": "completed"
    },
    "tags": []
   },
   "outputs": [
    {
     "data": {
      "text/plain": [
       "149.3662574983337"
      ]
     },
     "execution_count": 94,
     "metadata": {},
     "output_type": "execute_result"
    }
   ],
   "source": [
    "# Finding the Average Character Length\n",
    "char_lens=[len(sentence) for sentence in train_sentences]\n",
    "mean_char_len=np.mean(char_lens)\n",
    "mean_char_len"
   ]
  },
  {
   "cell_type": "code",
   "execution_count": 95,
   "id": "deb9a5c5",
   "metadata": {
    "execution": {
     "iopub.execute_input": "2022-01-20T06:14:06.009764Z",
     "iopub.status.busy": "2022-01-20T06:14:05.981974Z",
     "iopub.status.idle": "2022-01-20T06:14:07.198501Z",
     "shell.execute_reply": "2022-01-20T06:14:07.197861Z",
     "shell.execute_reply.started": "2022-01-18T17:15:10.621356Z"
    },
    "papermill": {
     "duration": 5.587655,
     "end_time": "2022-01-20T06:14:07.198635",
     "exception": false,
     "start_time": "2022-01-20T06:14:01.610980",
     "status": "completed"
    },
    "tags": []
   },
   "outputs": [
    {
     "data": {
      "text/plain": [
       "290"
      ]
     },
     "execution_count": 95,
     "metadata": {},
     "output_type": "execute_result"
    },
    {
     "data": {
      "image/png": "[encoded data removed]",
      "text/plain": [
       "<Figure size 432x288 with 1 Axes>"
      ]
     },
     "metadata": {
      "needs_background": "light"
     },
     "output_type": "display_data"
    }
   ],
   "source": [
    "# The meann is not the best way to gauge so we need a distribution and should take 95% CI\n",
    "plt.hist(char_lens,bins=6)\n",
    "\n",
    "# Finding the 95% CI Length\n",
    "ci_char_len=int(np.percentile(char_lens,95))\n",
    "ci_char_len\n",
    "# So 300 Characters must work"
   ]
  },
  {
   "cell_type": "code",
   "execution_count": 96,
   "id": "e478dac9",
   "metadata": {
    "execution": {
     "iopub.execute_input": "2022-01-20T06:14:15.752369Z",
     "iopub.status.busy": "2022-01-20T06:14:15.751457Z",
     "iopub.status.idle": "2022-01-20T06:14:15.754442Z",
     "shell.execute_reply": "2022-01-20T06:14:15.754896Z",
     "shell.execute_reply.started": "2022-01-18T17:15:11.993795Z"
    },
    "papermill": {
     "duration": 4.438491,
     "end_time": "2022-01-20T06:14:15.755049",
     "exception": false,
     "start_time": "2022-01-20T06:14:11.316558",
     "status": "completed"
    },
    "tags": []
   },
   "outputs": [
    {
     "data": {
      "text/plain": [
       "'abcdefghijklmnopqrstuvwxyz0123456789!\"#$%&\\'()*+,-./:;<=>?@[\\\\]^_`{|}~'"
      ]
     },
     "execution_count": 96,
     "metadata": {},
     "output_type": "execute_result"
    }
   ],
   "source": [
    "# Setting up a Text Vectorization Layer\n",
    "# Getting the vocab size\n",
    "import string\n",
    "alphanumeric=string.ascii_lowercase+string.digits+string.punctuation\n",
    "alphanumeric"
   ]
  },
  {
   "cell_type": "code",
   "execution_count": 97,
   "id": "d853e8ba",
   "metadata": {
    "execution": {
     "iopub.execute_input": "2022-01-20T06:14:24.279752Z",
     "iopub.status.busy": "2022-01-20T06:14:24.278736Z",
     "iopub.status.idle": "2022-01-20T06:14:40.537256Z",
     "shell.execute_reply": "2022-01-20T06:14:40.536718Z",
     "shell.execute_reply.started": "2022-01-18T17:15:12.005345Z"
    },
    "papermill": {
     "duration": 20.620618,
     "end_time": "2022-01-20T06:14:40.537401",
     "exception": false,
     "start_time": "2022-01-20T06:14:19.916783",
     "status": "completed"
    },
    "tags": []
   },
   "outputs": [],
   "source": [
    "# +2 for space and OOV UNK Token\n",
    "max_char_vocab=len(alphanumeric)+2\n",
    "char_vectorizer=TextVectorization(max_tokens=max_char_vocab,output_sequence_length=ci_char_len+10,name=\"char_vectorizer\")\n",
    "# Adapt it to the Training set of sequences\n",
    "char_vectorizer.adapt(train_chars)"
   ]
  },
  {
   "cell_type": "code",
   "execution_count": 98,
   "id": "8dcc235c",
   "metadata": {
    "execution": {
     "iopub.execute_input": "2022-01-20T06:14:48.890097Z",
     "iopub.status.busy": "2022-01-20T06:14:48.889173Z",
     "iopub.status.idle": "2022-01-20T06:14:48.897048Z",
     "shell.execute_reply": "2022-01-20T06:14:48.897639Z",
     "shell.execute_reply.started": "2022-01-18T17:15:25.635717Z"
    },
    "papermill": {
     "duration": 4.325652,
     "end_time": "2022-01-20T06:14:48.897827",
     "exception": false,
     "start_time": "2022-01-20T06:14:44.572175",
     "status": "completed"
    },
    "tags": []
   },
   "outputs": [
    {
     "name": "stdout",
     "output_type": "stream",
     "text": [
      "28\n"
     ]
    },
    {
     "data": {
      "text/plain": [
       "(['', '[UNK]', 'e', 't', 'i'], ['k', 'x', 'z', 'q', 'j'])"
      ]
     },
     "execution_count": 98,
     "metadata": {},
     "output_type": "execute_result"
    }
   ],
   "source": [
    "char_vocab=char_vectorizer.get_vocabulary()\n",
    "print(len(char_vocab))\n",
    "char_vocab[:5],char_vocab[-5:]"
   ]
  },
  {
   "cell_type": "code",
   "execution_count": 99,
   "id": "0cd3f24c",
   "metadata": {
    "execution": {
     "iopub.execute_input": "2022-01-20T06:14:57.295020Z",
     "iopub.status.busy": "2022-01-20T06:14:57.294319Z",
     "iopub.status.idle": "2022-01-20T06:14:57.296801Z",
     "shell.execute_reply": "2022-01-20T06:14:57.297237Z",
     "shell.execute_reply.started": "2022-01-18T17:15:25.651752Z"
    },
    "papermill": {
     "duration": 4.285786,
     "end_time": "2022-01-20T06:14:57.297388",
     "exception": false,
     "start_time": "2022-01-20T06:14:53.011602",
     "status": "completed"
    },
    "tags": []
   },
   "outputs": [],
   "source": [
    "# Make an Embedding Layer\n",
    "# As per the paper we have to make a 25 dim long Feature vector for Output dims\n",
    "# Each character gets embedded into a size 25 Feature Vector\n",
    "# Dont Mask Model \n",
    "char_embed=layers.Embedding(input_dim=len(char_vocab),output_dim=25,mask_zero=False,name=\"character_embedding\")\n",
    " "
   ]
  },
  {
   "cell_type": "code",
   "execution_count": 100,
   "id": "1ea627cf",
   "metadata": {
    "execution": {
     "iopub.execute_input": "2022-01-20T06:15:06.222640Z",
     "iopub.status.busy": "2022-01-20T06:15:06.186790Z",
     "iopub.status.idle": "2022-01-20T06:15:07.515670Z",
     "shell.execute_reply": "2022-01-20T06:15:07.516748Z",
     "shell.execute_reply.started": "2022-01-18T17:15:25.661604Z"
    },
    "papermill": {
     "duration": 6.061626,
     "end_time": "2022-01-20T06:15:07.517293",
     "exception": false,
     "start_time": "2022-01-20T06:15:01.455667",
     "status": "completed"
    },
    "tags": []
   },
   "outputs": [],
   "source": [
    "# Creating character level Fast Loading Datasets\n",
    "train_char_dataset = tf.data.Dataset.from_tensor_slices((train_chars, train_labels_one_hot)).batch(32).prefetch(tf.data.AUTOTUNE)\n",
    "val_char_dataset = tf.data.Dataset.from_tensor_slices((val_chars, val_labels_one_hot)).batch(32).prefetch(tf.data.AUTOTUNE)\n",
    "val_char_dataset=tf.data.Dataset.from_tensor_slices((val_chars,val_labels_one_hot)).batch(32).prefetch(tf.data.AUTOTUNE)\n"
   ]
  },
  {
   "cell_type": "code",
   "execution_count": 101,
   "id": "cacaf1da",
   "metadata": {
    "execution": {
     "iopub.execute_input": "2022-01-20T06:15:15.750546Z",
     "iopub.status.busy": "2022-01-20T06:15:15.749268Z",
     "iopub.status.idle": "2022-01-20T06:15:15.753150Z",
     "shell.execute_reply": "2022-01-20T06:15:15.752659Z",
     "shell.execute_reply.started": "2022-01-18T17:15:26.989593Z"
    },
    "papermill": {
     "duration": 4.03697,
     "end_time": "2022-01-20T06:15:15.753275",
     "exception": false,
     "start_time": "2022-01-20T06:15:11.716305",
     "status": "completed"
    },
    "tags": []
   },
   "outputs": [
    {
     "data": {
      "text/plain": [
       "<PrefetchDataset shapes: ((None,), (None, 5)), types: (tf.string, tf.float64)>"
      ]
     },
     "execution_count": 101,
     "metadata": {},
     "output_type": "execute_result"
    }
   ],
   "source": [
    "train_char_dataset"
   ]
  },
  {
   "cell_type": "code",
   "execution_count": 102,
   "id": "39cd6b5d",
   "metadata": {
    "execution": {
     "iopub.execute_input": "2022-01-20T06:15:24.122575Z",
     "iopub.status.busy": "2022-01-20T06:15:24.121565Z",
     "iopub.status.idle": "2022-01-20T06:15:24.173956Z",
     "shell.execute_reply": "2022-01-20T06:15:24.173447Z",
     "shell.execute_reply.started": "2022-01-18T17:15:26.998983Z"
    },
    "papermill": {
     "duration": 4.091116,
     "end_time": "2022-01-20T06:15:24.174090",
     "exception": false,
     "start_time": "2022-01-20T06:15:20.082974",
     "status": "completed"
    },
    "tags": []
   },
   "outputs": [],
   "source": [
    "# Building a BI-LSTM Model with the Character Level Embeddings\n",
    "# Also experimenting with a Conv1D with Char level Embeddings\n",
    "# Make Conv1D on chars only\n",
    "inputs = layers.Input(shape=(1,), dtype=\"string\")\n",
    "char_vectors = char_vectorizer(inputs)\n",
    "char_embeddings = char_embed(char_vectors)\n",
    "x = layers.Conv1D(64, kernel_size=5, padding=\"same\", activation=\"relu\")(char_embeddings)\n",
    "x = layers.GlobalMaxPool1D()(x)\n",
    "outputs = layers.Dense(num_classes, activation=\"softmax\")(x)\n",
    "model_3 = tf.keras.Model(inputs=inputs,\n",
    "                         outputs=outputs,\n",
    "                         name=\"model_3_conv1D_char_embedding\")\n",
    "# Compile model\n",
    "model_3.compile(loss=\"categorical_crossentropy\",\n",
    "                optimizer=tf.keras.optimizers.Adam(),\n",
    "                metrics=[\"accuracy\"])"
   ]
  },
  {
   "cell_type": "code",
   "execution_count": 103,
   "id": "fcb62508",
   "metadata": {
    "execution": {
     "iopub.execute_input": "2022-01-20T06:15:32.344332Z",
     "iopub.status.busy": "2022-01-20T06:15:32.343489Z",
     "iopub.status.idle": "2022-01-20T06:15:32.350091Z",
     "shell.execute_reply": "2022-01-20T06:15:32.350513Z",
     "shell.execute_reply.started": "2022-01-18T17:15:27.078213Z"
    },
    "papermill": {
     "duration": 4.14819,
     "end_time": "2022-01-20T06:15:32.350660",
     "exception": false,
     "start_time": "2022-01-20T06:15:28.202470",
     "status": "completed"
    },
    "tags": []
   },
   "outputs": [
    {
     "name": "stdout",
     "output_type": "stream",
     "text": [
      "Model: \"model_3_conv1D_char_embedding\"\n",
      "_________________________________________________________________\n",
      "Layer (type)                 Output Shape              Param #   \n",
      "=================================================================\n",
      "input_4 (InputLayer)         [(None, 1)]               0         \n",
      "_________________________________________________________________\n",
      "char_vectorizer (TextVectori (None, 300)               0         \n",
      "_________________________________________________________________\n",
      "character_embedding (Embeddi (None, 300, 25)           700       \n",
      "_________________________________________________________________\n",
      "conv1d (Conv1D)              (None, 300, 64)           8064      \n",
      "_________________________________________________________________\n",
      "global_max_pooling1d (Global (None, 64)                0         \n",
      "_________________________________________________________________\n",
      "dense_3 (Dense)              (None, 5)                 325       \n",
      "=================================================================\n",
      "Total params: 9,089\n",
      "Trainable params: 9,089\n",
      "Non-trainable params: 0\n",
      "_________________________________________________________________\n"
     ]
    }
   ],
   "source": [
    "model_3.summary()"
   ]
  },
  {
   "cell_type": "code",
   "execution_count": 62,
   "id": "5f002a83",
   "metadata": {
    "execution": {
     "iopub.execute_input": "2022-01-20T06:15:40.653584Z",
     "iopub.status.busy": "2022-01-20T06:15:40.652605Z",
     "iopub.status.idle": "2022-01-20T06:19:08.791285Z",
     "shell.execute_reply": "2022-01-20T06:19:08.790736Z",
     "shell.execute_reply.started": "2022-01-18T17:15:27.103152Z"
    },
    "papermill": {
     "duration": 212.558207,
     "end_time": "2022-01-20T06:19:08.791428",
     "exception": false,
     "start_time": "2022-01-20T06:15:36.233221",
     "status": "completed"
    },
    "tags": []
   },
   "outputs": [
    {
     "name": "stdout",
     "output_type": "stream",
     "text": [
      "Epoch 1/6\n",
      "5627/5627 [==============================] - 30s 5ms/step - loss: 0.8907 - accuracy: 0.6513 - val_loss: 0.7705 - val_accuracy: 0.7015\n",
      "Epoch 2/6\n",
      "5627/5627 [==============================] - 30s 5ms/step - loss: 0.7431 - accuracy: 0.7167 - val_loss: 0.7285 - val_accuracy: 0.7224\n",
      "Epoch 3/6\n",
      "5627/5627 [==============================] - 33s 6ms/step - loss: 0.7074 - accuracy: 0.7315 - val_loss: 0.7168 - val_accuracy: 0.7248\n",
      "Epoch 4/6\n",
      "5627/5627 [==============================] - 30s 5ms/step - loss: 0.6896 - accuracy: 0.7394 - val_loss: 0.7049 - val_accuracy: 0.7330\n",
      "Epoch 5/6\n",
      "5627/5627 [==============================] - 33s 6ms/step - loss: 0.6777 - accuracy: 0.7444 - val_loss: 0.7012 - val_accuracy: 0.7341\n",
      "Epoch 6/6\n",
      "5627/5627 [==============================] - 30s 5ms/step - loss: 0.6692 - accuracy: 0.7477 - val_loss: 0.6978 - val_accuracy: 0.7364\n"
     ]
    }
   ],
   "source": [
    "model_3_history = model_3.fit(train_char_dataset,\n",
    "                               epochs=6,\n",
    "                               validation_data=val_char_dataset)"
   ]
  },
  {
   "cell_type": "markdown",
   "id": "f3cf3ed6",
   "metadata": {
    "papermill": {
     "duration": 4.747146,
     "end_time": "2022-01-20T06:19:18.458452",
     "exception": false,
     "start_time": "2022-01-20T06:19:13.711306",
     "status": "completed"
    },
    "tags": []
   },
   "source": [
    "In the paper they have further used this BI-LSTM and then concatenated and then again passed it through another BILSTM Model."
   ]
  },
  {
   "cell_type": "code",
   "execution_count": 63,
   "id": "186d1cac",
   "metadata": {
    "execution": {
     "iopub.execute_input": "2022-01-20T06:19:28.282789Z",
     "iopub.status.busy": "2022-01-20T06:19:28.281894Z",
     "iopub.status.idle": "2022-01-20T06:19:33.411971Z",
     "shell.execute_reply": "2022-01-20T06:19:33.411417Z",
     "shell.execute_reply.started": "2022-01-18T17:15:27.110679Z"
    },
    "papermill": {
     "duration": 9.987766,
     "end_time": "2022-01-20T06:19:33.412105",
     "exception": false,
     "start_time": "2022-01-20T06:19:23.424339",
     "status": "completed"
    },
    "tags": []
   },
   "outputs": [
    {
     "name": "stdout",
     "output_type": "stream",
     "text": [
      "945/945 [==============================] - 4s 4ms/step - loss: 0.6978 - accuracy: 0.7364\n"
     ]
    },
    {
     "data": {
      "text/plain": [
       "[0.6977959275245667, 0.7364292144775391]"
      ]
     },
     "execution_count": 63,
     "metadata": {},
     "output_type": "execute_result"
    }
   ],
   "source": [
    "model_3.evaluate(val_char_dataset)"
   ]
  },
  {
   "cell_type": "code",
   "execution_count": 64,
   "id": "b1fd511e",
   "metadata": {
    "execution": {
     "iopub.execute_input": "2022-01-20T06:19:43.160772Z",
     "iopub.status.busy": "2022-01-20T06:19:43.158758Z",
     "iopub.status.idle": "2022-01-20T06:19:45.177792Z",
     "shell.execute_reply": "2022-01-20T06:19:45.178243Z",
     "shell.execute_reply.started": "2022-01-18T17:15:27.121219Z"
    },
    "papermill": {
     "duration": 7.011039,
     "end_time": "2022-01-20T06:19:45.178409",
     "exception": false,
     "start_time": "2022-01-20T06:19:38.167370",
     "status": "completed"
    },
    "tags": []
   },
   "outputs": [
    {
     "data": {
      "text/plain": [
       "array([[1.23507604e-01, 1.60980761e-01, 3.22536588e-01, 2.96243221e-01,\n",
       "        9.67318490e-02],\n",
       "       [6.89956471e-02, 9.13373411e-01, 4.39224794e-04, 1.54243885e-02,\n",
       "        1.76722882e-03],\n",
       "       [2.38851190e-01, 2.50393618e-02, 2.48533264e-02, 7.05088615e-01,\n",
       "        6.16744719e-03],\n",
       "       ...,\n",
       "       [5.99018131e-05, 1.01888808e-03, 8.63253139e-04, 3.83623919e-05,\n",
       "        9.98019576e-01],\n",
       "       [1.62447821e-02, 4.22598049e-02, 5.67976236e-02, 9.71288420e-03,\n",
       "        8.74984920e-01],\n",
       "       [3.74004394e-02, 7.80454099e-01, 1.16809085e-01, 6.04681065e-03,\n",
       "        5.92896044e-02]], dtype=float32)"
      ]
     },
     "execution_count": 64,
     "metadata": {},
     "output_type": "execute_result"
    }
   ],
   "source": [
    "# Making Predictions In terms of Probabilities\n",
    "model_3_prediction_probability=model_3.predict(val_char_dataset)\n",
    "model_3_prediction_probability\n",
    "# For all 30k statements our Model will output a 5 len list of Prediction Probability\n",
    "# And out of the 5 the index that is higher is the one in which our class thinks the \n",
    "# Sentence belongs"
   ]
  },
  {
   "cell_type": "code",
   "execution_count": 65,
   "id": "324249ee",
   "metadata": {
    "execution": {
     "iopub.execute_input": "2022-01-20T06:19:54.913510Z",
     "iopub.status.busy": "2022-01-20T06:19:54.912614Z",
     "iopub.status.idle": "2022-01-20T06:19:54.916898Z",
     "shell.execute_reply": "2022-01-20T06:19:54.916454Z",
     "shell.execute_reply.started": "2022-01-18T17:15:27.131563Z"
    },
    "papermill": {
     "duration": 4.965736,
     "end_time": "2022-01-20T06:19:54.917024",
     "exception": false,
     "start_time": "2022-01-20T06:19:49.951288",
     "status": "completed"
    },
    "tags": []
   },
   "outputs": [
    {
     "data": {
      "text/plain": [
       "<tf.Tensor: shape=(30212,), dtype=int64, numpy=array([2, 1, 3, ..., 4, 4, 1])>"
      ]
     },
     "execution_count": 65,
     "metadata": {},
     "output_type": "execute_result"
    }
   ],
   "source": [
    "# Now converting the Probabilities to classes\n",
    "model_3_prediction=tf.argmax(model_3_prediction_probability,axis=1)\n",
    "model_3_prediction"
   ]
  },
  {
   "cell_type": "code",
   "execution_count": 66,
   "id": "dd0c4eeb",
   "metadata": {
    "execution": {
     "iopub.execute_input": "2022-01-20T06:20:05.131657Z",
     "iopub.status.busy": "2022-01-20T06:20:05.130772Z",
     "iopub.status.idle": "2022-01-20T06:20:05.146399Z",
     "shell.execute_reply": "2022-01-20T06:20:05.146772Z",
     "shell.execute_reply.started": "2022-01-18T17:15:27.148412Z"
    },
    "papermill": {
     "duration": 5.458269,
     "end_time": "2022-01-20T06:20:05.146954",
     "exception": false,
     "start_time": "2022-01-20T06:19:59.688685",
     "status": "completed"
    },
    "tags": []
   },
   "outputs": [
    {
     "data": {
      "text/plain": [
       "{'accuracy': 73.64292334171853,\n",
       " 'precision': 0.7331572568768552,\n",
       " 'recall': 0.7364292334171852,\n",
       " 'f1': 0.7295907658237308}"
      ]
     },
     "execution_count": 66,
     "metadata": {},
     "output_type": "execute_result"
    }
   ],
   "source": [
    "model_3_results=calculate_results(y_true=val_labels_encoded,y_pred=model_3_prediction)\n",
    "model_3_results"
   ]
  },
  {
   "cell_type": "markdown",
   "id": "9359352b",
   "metadata": {
    "papermill": {
     "duration": 4.623085,
     "end_time": "2022-01-20T06:20:14.500019",
     "exception": false,
     "start_time": "2022-01-20T06:20:09.876934",
     "status": "completed"
    },
    "tags": []
   },
   "source": [
    "<h3> Building a Model with Token + Character Embedding Model </h3>\n",
    "<h4> Concatenating Models "
   ]
  },
  {
   "cell_type": "markdown",
   "id": "bcb5a8d9",
   "metadata": {
    "papermill": {
     "duration": 4.715691,
     "end_time": "2022-01-20T06:20:24.242705",
     "exception": false,
     "start_time": "2022-01-20T06:20:19.527014",
     "status": "completed"
    },
    "tags": []
   },
   "source": [
    "During training, some number of layer outputs are randomly ignored or “dropped out.” This has the effect of making the layer look-like and be treated-like a layer with a different number of nodes and connectivity to the prior layer. In effect, each update to a layer during training is performed with a different “view” of the configured layer."
   ]
  },
  {
   "cell_type": "code",
   "execution_count": 67,
   "id": "b38e3273",
   "metadata": {
    "execution": {
     "iopub.execute_input": "2022-01-20T06:20:33.970427Z",
     "iopub.status.busy": "2022-01-20T06:20:33.969548Z",
     "iopub.status.idle": "2022-01-20T06:20:36.225114Z",
     "shell.execute_reply": "2022-01-20T06:20:36.224619Z",
     "shell.execute_reply.started": "2022-01-18T17:15:27.158446Z"
    },
    "papermill": {
     "duration": 6.974327,
     "end_time": "2022-01-20T06:20:36.225251",
     "exception": false,
     "start_time": "2022-01-20T06:20:29.250924",
     "status": "completed"
    },
    "tags": []
   },
   "outputs": [],
   "source": [
    "# Building a Tf Dataset to load it faster\n",
    "# Combine chars and tokens into a dataset\n",
    "train_char_token_data = tf.data.Dataset.from_tensor_slices((train_sentences, train_chars)) # make data\n",
    "train_char_token_labels = tf.data.Dataset.from_tensor_slices(train_labels_one_hot) # make labels\n",
    "train_char_token_dataset = tf.data.Dataset.zip((train_char_token_data, train_char_token_labels)) # combine data and labels\n",
    "\n",
    "# Prefetch and batch train data\n",
    "train_char_token_dataset = train_char_token_dataset.batch(32).prefetch(tf.data.AUTOTUNE) \n",
    "# Preparing the same for Validation set\n",
    "val_char_token_data = tf.data.Dataset.from_tensor_slices((val_sentences, val_chars))\n",
    "val_char_token_labels = tf.data.Dataset.from_tensor_slices(val_labels_one_hot)\n",
    "val_char_token_dataset = tf.data.Dataset.zip((val_char_token_data, val_char_token_labels))\n",
    "val_char_token_dataset = val_char_token_dataset.batch(32).prefetch(tf.data.AUTOTUNE)"
   ]
  },
  {
   "cell_type": "code",
   "execution_count": 68,
   "id": "55bf4fe1",
   "metadata": {
    "execution": {
     "iopub.execute_input": "2022-01-20T06:20:46.017532Z",
     "iopub.status.busy": "2022-01-20T06:20:46.016730Z",
     "iopub.status.idle": "2022-01-20T06:20:46.095224Z",
     "shell.execute_reply": "2022-01-20T06:20:46.094735Z",
     "shell.execute_reply.started": "2022-01-18T17:15:29.320331Z"
    },
    "papermill": {
     "duration": 4.81757,
     "end_time": "2022-01-20T06:20:46.095361",
     "exception": false,
     "start_time": "2022-01-20T06:20:41.277791",
     "status": "completed"
    },
    "tags": []
   },
   "outputs": [],
   "source": [
    "# Buidling a Multi Input Model that can accpet multiple data streams\n",
    "# So we will build two BI-LSTM Models one with char embeddings and token Embeddings\n",
    "# Also there is going to be a dropout introduced \n",
    "# One more difference is we will be using the functional API instead or Sequential API\n",
    "# What it does is that it will go through steps together and not sequentially\n",
    "# So first we will crate a Token Model\n",
    "token_inputs=layers.Input(shape=[],dtype=tf.string,name=\"token_input\")\n",
    "token_embeddings = tf_hub_embedding_layers(token_inputs)\n",
    "token_output = layers.Dense(128, activation=\"relu\")(token_embeddings)\n",
    "token_model = tf.keras.Model(token_inputs,token_output)"
   ]
  },
  {
   "cell_type": "code",
   "execution_count": 69,
   "id": "21603438",
   "metadata": {
    "execution": {
     "iopub.execute_input": "2022-01-20T06:20:55.761146Z",
     "iopub.status.busy": "2022-01-20T06:20:55.760498Z",
     "iopub.status.idle": "2022-01-20T06:20:56.466283Z",
     "shell.execute_reply": "2022-01-20T06:20:56.465789Z",
     "shell.execute_reply.started": "2022-01-18T17:15:29.438214Z"
    },
    "papermill": {
     "duration": 5.442211,
     "end_time": "2022-01-20T06:20:56.466416",
     "exception": false,
     "start_time": "2022-01-20T06:20:51.024205",
     "status": "completed"
    },
    "tags": []
   },
   "outputs": [],
   "source": [
    "# Then we will create a Character Model\n",
    "char_inputs = layers.Input(shape=(1,), dtype=tf.string, name=\"char_input\")\n",
    "char_vectors = char_vectorizer(char_inputs)\n",
    "char_embeddings = char_embed(char_vectors)\n",
    "# The one with the char embeddings is passed through a BI-LSTM Model acc. to the Paper\n",
    "char_bi_lstm = layers.Bidirectional(layers.LSTM(25))(char_embeddings) \n",
    "char_model = tf.keras.Model(inputs=char_inputs, outputs=char_bi_lstm)"
   ]
  },
  {
   "cell_type": "code",
   "execution_count": 70,
   "id": "93d9f5f4",
   "metadata": {
    "execution": {
     "iopub.execute_input": "2022-01-20T06:21:06.206923Z",
     "iopub.status.busy": "2022-01-20T06:21:06.206058Z",
     "iopub.status.idle": "2022-01-20T06:21:06.208103Z",
     "shell.execute_reply": "2022-01-20T06:21:06.208524Z",
     "shell.execute_reply.started": "2022-01-18T17:15:30.029333Z"
    },
    "papermill": {
     "duration": 4.713502,
     "end_time": "2022-01-20T06:21:06.208667",
     "exception": false,
     "start_time": "2022-01-20T06:21:01.495165",
     "status": "completed"
    },
    "tags": []
   },
   "outputs": [],
   "source": [
    "# Concatenating both the Models as mentioned\n",
    "token_char_concat = layers.Concatenate(name=\"token_char_hybrid\")([token_model.output,char_model.output])"
   ]
  },
  {
   "cell_type": "code",
   "execution_count": 71,
   "id": "4248d83d",
   "metadata": {
    "execution": {
     "iopub.execute_input": "2022-01-20T06:21:16.407587Z",
     "iopub.status.busy": "2022-01-20T06:21:16.406716Z",
     "iopub.status.idle": "2022-01-20T06:21:16.426122Z",
     "shell.execute_reply": "2022-01-20T06:21:16.425656Z",
     "shell.execute_reply.started": "2022-01-18T17:15:30.045182Z"
    },
    "papermill": {
     "duration": 4.808055,
     "end_time": "2022-01-20T06:21:16.426254",
     "exception": false,
     "start_time": "2022-01-20T06:21:11.618199",
     "status": "completed"
    },
    "tags": []
   },
   "outputs": [],
   "source": [
    "# Creating Combined Dropout and a dense Layer and then some dropout\n",
    "combined_dropout = layers.Dropout(0.5)(token_char_concat)\n",
    "combined_dense = layers.Dense(200, activation=\"relu\")(combined_dropout) \n",
    "final_dropout = layers.Dropout(0.5)(combined_dense)\n",
    "# Final Output, Label Pediction Layers\n",
    "output_layer = layers.Dense(num_classes, activation=\"softmax\")(final_dropout)"
   ]
  },
  {
   "cell_type": "code",
   "execution_count": 72,
   "id": "8917b853",
   "metadata": {
    "execution": {
     "iopub.execute_input": "2022-01-20T06:21:26.086831Z",
     "iopub.status.busy": "2022-01-20T06:21:26.085947Z",
     "iopub.status.idle": "2022-01-20T06:21:26.091466Z",
     "shell.execute_reply": "2022-01-20T06:21:26.091044Z",
     "shell.execute_reply.started": "2022-01-18T17:15:30.077404Z"
    },
    "papermill": {
     "duration": 4.935986,
     "end_time": "2022-01-20T06:21:26.091589",
     "exception": false,
     "start_time": "2022-01-20T06:21:21.155603",
     "status": "completed"
    },
    "tags": []
   },
   "outputs": [],
   "source": [
    "# 5. Construct model with char and token inputs\n",
    "# 2 Inputs Token Model Input and Char Model Input \n",
    "model_4 = tf.keras.Model(inputs=[token_model.input, char_model.input],outputs=output_layer,name=\"model_4_token_and_char_embeddings\")"
   ]
  },
  {
   "cell_type": "code",
   "execution_count": 73,
   "id": "204d4fa3",
   "metadata": {
    "execution": {
     "iopub.execute_input": "2022-01-20T06:21:35.827599Z",
     "iopub.status.busy": "2022-01-20T06:21:35.816256Z",
     "iopub.status.idle": "2022-01-20T06:21:35.832056Z",
     "shell.execute_reply": "2022-01-20T06:21:35.831454Z",
     "shell.execute_reply.started": "2022-01-18T17:15:30.090637Z"
    },
    "papermill": {
     "duration": 4.982609,
     "end_time": "2022-01-20T06:21:35.832219",
     "exception": false,
     "start_time": "2022-01-20T06:21:30.849610",
     "status": "completed"
    },
    "tags": []
   },
   "outputs": [
    {
     "name": "stdout",
     "output_type": "stream",
     "text": [
      "Model: \"model_4_token_and_char_embeddings\"\n",
      "__________________________________________________________________________________________________\n",
      "Layer (type)                    Output Shape         Param #     Connected to                     \n",
      "==================================================================================================\n",
      "char_input (InputLayer)         [(None, 1)]          0                                            \n",
      "__________________________________________________________________________________________________\n",
      "token_input (InputLayer)        [(None,)]            0                                            \n",
      "__________________________________________________________________________________________________\n",
      "char_vectorizer (TextVectorizat (None, 300)          0           char_input[0][0]                 \n",
      "__________________________________________________________________________________________________\n",
      "universal_sentence_encoder (Ker (None, 512)          256797824   token_input[0][0]                \n",
      "__________________________________________________________________________________________________\n",
      "character_embedding (Embedding) (None, 300, 25)      700         char_vectorizer[1][0]            \n",
      "__________________________________________________________________________________________________\n",
      "dense_5 (Dense)                 (None, 128)          65664       universal_sentence_encoder[1][0] \n",
      "__________________________________________________________________________________________________\n",
      "bidirectional (Bidirectional)   (None, 50)           10200       character_embedding[1][0]        \n",
      "__________________________________________________________________________________________________\n",
      "token_char_hybrid (Concatenate) (None, 178)          0           dense_5[0][0]                    \n",
      "                                                                 bidirectional[0][0]              \n",
      "__________________________________________________________________________________________________\n",
      "dropout (Dropout)               (None, 178)          0           token_char_hybrid[0][0]          \n",
      "__________________________________________________________________________________________________\n",
      "dense_6 (Dense)                 (None, 200)          35800       dropout[0][0]                    \n",
      "__________________________________________________________________________________________________\n",
      "dropout_1 (Dropout)             (None, 200)          0           dense_6[0][0]                    \n",
      "__________________________________________________________________________________________________\n",
      "dense_7 (Dense)                 (None, 5)            1005        dropout_1[0][0]                  \n",
      "==================================================================================================\n",
      "Total params: 256,911,193\n",
      "Trainable params: 113,369\n",
      "Non-trainable params: 256,797,824\n",
      "__________________________________________________________________________________________________\n"
     ]
    }
   ],
   "source": [
    "model_4.summary()"
   ]
  },
  {
   "cell_type": "code",
   "execution_count": 74,
   "id": "9aad3cbc",
   "metadata": {
    "execution": {
     "iopub.execute_input": "2022-01-20T06:21:46.017336Z",
     "iopub.status.busy": "2022-01-20T06:21:46.016318Z",
     "iopub.status.idle": "2022-01-20T06:21:46.895078Z",
     "shell.execute_reply": "2022-01-20T06:21:46.894631Z",
     "shell.execute_reply.started": "2022-01-18T17:15:30.120048Z"
    },
    "papermill": {
     "duration": 5.847293,
     "end_time": "2022-01-20T06:21:46.895207",
     "exception": false,
     "start_time": "2022-01-20T06:21:41.047914",
     "status": "completed"
    },
    "tags": []
   },
   "outputs": [
    {
     "data": {
      "image/png": "[encoded data removed]",
      "text/plain": [
       "<IPython.core.display.Image object>"
      ]
     },
     "execution_count": 74,
     "metadata": {},
     "output_type": "execute_result"
    }
   ],
   "source": [
    "# Plot hybrid token and character model and check if it has replicated the Paper\n",
    "from tensorflow.keras.utils import plot_model\n",
    "plot_model(model_4,show_shapes=True)"
   ]
  },
  {
   "cell_type": "code",
   "execution_count": 75,
   "id": "b356a0f4",
   "metadata": {
    "execution": {
     "iopub.execute_input": "2022-01-20T06:21:56.694502Z",
     "iopub.status.busy": "2022-01-20T06:21:56.693585Z",
     "iopub.status.idle": "2022-01-20T06:21:56.698811Z",
     "shell.execute_reply": "2022-01-20T06:21:56.698351Z",
     "shell.execute_reply.started": "2022-01-18T17:15:30.422734Z"
    },
    "papermill": {
     "duration": 5.02478,
     "end_time": "2022-01-20T06:21:56.698961",
     "exception": false,
     "start_time": "2022-01-20T06:21:51.674181",
     "status": "completed"
    },
    "tags": []
   },
   "outputs": [],
   "source": [
    "# Compiling the Model\n",
    "# None is the batch size in the shapes\n",
    "model_4.compile(loss=\"categorical_crossentropy\",optimizer=tf.keras.optimizers.SGD(),metrics=[\"accuracy\"])"
   ]
  },
  {
   "cell_type": "code",
   "execution_count": 76,
   "id": "20320db8",
   "metadata": {
    "execution": {
     "iopub.execute_input": "2022-01-20T06:22:06.312715Z",
     "iopub.status.busy": "2022-01-20T06:22:06.311900Z",
     "iopub.status.idle": "2022-01-20T06:43:14.803064Z",
     "shell.execute_reply": "2022-01-20T06:43:14.802565Z",
     "shell.execute_reply.started": "2022-01-18T17:15:30.441358Z"
    },
    "papermill": {
     "duration": 1273.374872,
     "end_time": "2022-01-20T06:43:14.803205",
     "exception": false,
     "start_time": "2022-01-20T06:22:01.428333",
     "status": "completed"
    },
    "tags": []
   },
   "outputs": [
    {
     "name": "stdout",
     "output_type": "stream",
     "text": [
      "Epoch 1/5\n",
      "5627/5627 [==============================] - 217s 38ms/step - loss: 1.2378 - accuracy: 0.4913 - val_loss: 0.8963 - val_accuracy: 0.6393\n",
      "Epoch 2/5\n",
      "5627/5627 [==============================] - 217s 39ms/step - loss: 0.9188 - accuracy: 0.6329 - val_loss: 0.8115 - val_accuracy: 0.6834\n",
      "Epoch 3/5\n",
      "5627/5627 [==============================] - 220s 39ms/step - loss: 0.8553 - accuracy: 0.6661 - val_loss: 0.7729 - val_accuracy: 0.7026\n",
      "Epoch 4/5\n",
      "5627/5627 [==============================] - 216s 38ms/step - loss: 0.8187 - accuracy: 0.6836 - val_loss: 0.7435 - val_accuracy: 0.7170\n",
      "Epoch 5/5\n",
      "5627/5627 [==============================] - 218s 39ms/step - loss: 0.7938 - accuracy: 0.6946 - val_loss: 0.7246 - val_accuracy: 0.7240\n"
     ]
    }
   ],
   "source": [
    "# Fit the model on tokens and chars\n",
    "model_4_history = model_4.fit(train_char_token_dataset,epochs=5,validation_data=val_char_token_dataset)"
   ]
  },
  {
   "cell_type": "code",
   "execution_count": 77,
   "id": "406f0c21",
   "metadata": {
    "execution": {
     "iopub.execute_input": "2022-01-20T06:43:32.359094Z",
     "iopub.status.busy": "2022-01-20T06:43:32.357516Z",
     "iopub.status.idle": "2022-01-20T06:43:32.359636Z",
     "shell.execute_reply": "2022-01-20T06:43:32.360055Z",
     "shell.execute_reply.started": "2022-01-18T17:15:30.452158Z"
    },
    "papermill": {
     "duration": 8.570617,
     "end_time": "2022-01-20T06:43:32.360198",
     "exception": false,
     "start_time": "2022-01-20T06:43:23.789581",
     "status": "completed"
    },
    "tags": []
   },
   "outputs": [],
   "source": [
    "# Caryying out similar exercise for Model 4\n",
    "# model_4_prediction_probability=model_4.predict(val_char_dataset)\n",
    "# model_4_prediction_probability\n",
    "# model_4_prediction=tf.argmax(model_4_prediction_probability,axis=1)\n",
    "# model_4_prediction\n",
    "# model_4_results=calculate_results(y_true=val_labels_encoded,y_pred=model_4_prediction)\n",
    "# model_4_results"
   ]
  },
  {
   "cell_type": "markdown",
   "id": "3cdcb333",
   "metadata": {
    "papermill": {
     "duration": 8.885463,
     "end_time": "2022-01-20T06:43:50.494494",
     "exception": false,
     "start_time": "2022-01-20T06:43:41.609031",
     "status": "completed"
    },
    "tags": []
   },
   "source": [
    "<h3>Pretained Token Embeddings + Character Emebeddings + Positional Embeddings </h3>"
   ]
  },
  {
   "cell_type": "code",
   "execution_count": 78,
   "id": "6135b9ba",
   "metadata": {
    "execution": {
     "iopub.execute_input": "2022-01-20T06:44:08.019565Z",
     "iopub.status.busy": "2022-01-20T06:44:08.018667Z",
     "iopub.status.idle": "2022-01-20T06:44:08.022919Z",
     "shell.execute_reply": "2022-01-20T06:44:08.022501Z",
     "shell.execute_reply.started": "2022-01-18T17:15:30.464169Z"
    },
    "papermill": {
     "duration": 8.800367,
     "end_time": "2022-01-20T06:44:08.023042",
     "exception": false,
     "start_time": "2022-01-20T06:43:59.222675",
     "status": "completed"
    },
    "tags": []
   },
   "outputs": [
    {
     "data": {
      "text/plain": [
       "0     15000\n",
       "1     15000\n",
       "2     15000\n",
       "3     15000\n",
       "4     14992\n",
       "5     14949\n",
       "6     14758\n",
       "7     14279\n",
       "8     13346\n",
       "9     11981\n",
       "10    10041\n",
       "11     7892\n",
       "12     5853\n",
       "13     4152\n",
       "14     2835\n",
       "15     1861\n",
       "16     1188\n",
       "17      751\n",
       "18      462\n",
       "19      286\n",
       "20      162\n",
       "21      101\n",
       "22       66\n",
       "23       33\n",
       "24       22\n",
       "25       14\n",
       "26        7\n",
       "27        4\n",
       "28        3\n",
       "29        1\n",
       "30        1\n",
       "Name: line_number, dtype: int64"
      ]
     },
     "execution_count": 78,
     "metadata": {},
     "output_type": "execute_result"
    }
   ],
   "source": [
    "# Feature Engineering\n",
    "# Here we will take non obvious features from the Data and encoding them Numerically to aid the model\n",
    "# The order of Objectives, Methods, Results conclusion sequence is a non obvious feature\n",
    "# So we need to inject them into the Model and this is a part of the Feature Engineering\n",
    "# Encoding the Line Numbers\n",
    "# Engineering features incorporated need to be avaialable at test time\n",
    "# Positional Embeddings\n",
    "train_df[\"line_number\"].value_counts()\n",
    "# Almost 10K Abstracts have 10 + Lines"
   ]
  },
  {
   "cell_type": "code",
   "execution_count": 79,
   "id": "0382a829",
   "metadata": {
    "execution": {
     "iopub.execute_input": "2022-01-20T06:44:25.933944Z",
     "iopub.status.busy": "2022-01-20T06:44:25.933205Z",
     "iopub.status.idle": "2022-01-20T06:44:25.943928Z",
     "shell.execute_reply": "2022-01-20T06:44:25.944411Z",
     "shell.execute_reply.started": "2022-01-18T17:16:41.795802Z"
    },
    "papermill": {
     "duration": 8.598543,
     "end_time": "2022-01-20T06:44:25.944582",
     "exception": false,
     "start_time": "2022-01-20T06:44:17.346039",
     "status": "completed"
    },
    "tags": []
   },
   "outputs": [
    {
     "data": {
      "text/plain": [
       "(<tf.Tensor: shape=(10, 15), dtype=float32, numpy=\n",
       " array([[1., 0., 0., 0., 0., 0., 0., 0., 0., 0., 0., 0., 0., 0., 0.],\n",
       "        [0., 1., 0., 0., 0., 0., 0., 0., 0., 0., 0., 0., 0., 0., 0.],\n",
       "        [0., 0., 1., 0., 0., 0., 0., 0., 0., 0., 0., 0., 0., 0., 0.],\n",
       "        [0., 0., 0., 1., 0., 0., 0., 0., 0., 0., 0., 0., 0., 0., 0.],\n",
       "        [0., 0., 0., 0., 1., 0., 0., 0., 0., 0., 0., 0., 0., 0., 0.],\n",
       "        [0., 0., 0., 0., 0., 1., 0., 0., 0., 0., 0., 0., 0., 0., 0.],\n",
       "        [0., 0., 0., 0., 0., 0., 1., 0., 0., 0., 0., 0., 0., 0., 0.],\n",
       "        [0., 0., 0., 0., 0., 0., 0., 1., 0., 0., 0., 0., 0., 0., 0.],\n",
       "        [0., 0., 0., 0., 0., 0., 0., 0., 1., 0., 0., 0., 0., 0., 0.],\n",
       "        [0., 0., 0., 0., 0., 0., 0., 0., 0., 1., 0., 0., 0., 0., 0.]],\n",
       "       dtype=float32)>,\n",
       " TensorShape([180040, 15]))"
      ]
     },
     "execution_count": 79,
     "metadata": {},
     "output_type": "execute_result"
    }
   ],
   "source": [
    "# Distribution\n",
    "# Using TF To create one hot encoded tensors of Line Numbers\n",
    "# They can be also used as it is the Lines they are but 1HC is better\n",
    "train_line_numbers_one_hot=tf.one_hot(train_df[\"line_number\"].to_numpy(),depth=15)\n",
    "val_line_numbers_one_hot=tf.one_hot(val_df[\"line_number\"].to_numpy(),depth=15)\n",
    "test_line_numbers_one_hot=tf.one_hot(test_df[\"line_number\"].to_numpy(),depth=15)\n",
    "train_line_numbers_one_hot[:10],train_line_numbers_one_hot.shape"
   ]
  },
  {
   "cell_type": "code",
   "execution_count": 80,
   "id": "2e407604",
   "metadata": {
    "execution": {
     "iopub.execute_input": "2022-01-20T06:44:43.501567Z",
     "iopub.status.busy": "2022-01-20T06:44:43.499110Z",
     "iopub.status.idle": "2022-01-20T06:44:43.504760Z",
     "shell.execute_reply": "2022-01-20T06:44:43.504355Z",
     "shell.execute_reply.started": "2022-01-18T17:18:00.128566Z"
    },
    "papermill": {
     "duration": 8.714769,
     "end_time": "2022-01-20T06:44:43.504902",
     "exception": false,
     "start_time": "2022-01-20T06:44:34.790133",
     "status": "completed"
    },
    "tags": []
   },
   "outputs": [
    {
     "data": {
      "text/plain": [
       "11    24468\n",
       "10    23639\n",
       "12    22113\n",
       "9     19400\n",
       "13    18438\n",
       "14    14610\n",
       "8     12285\n",
       "15    10768\n",
       "7      7464\n",
       "16     7429\n",
       "17     5202\n",
       "6      3353\n",
       "18     3344\n",
       "19     2480\n",
       "20     1281\n",
       "5      1146\n",
       "21      770\n",
       "22      759\n",
       "23      264\n",
       "4       215\n",
       "24      200\n",
       "25      182\n",
       "26       81\n",
       "28       58\n",
       "3        32\n",
       "30       31\n",
       "27       28\n",
       "Name: total_lines, dtype: int64"
      ]
     },
     "execution_count": 80,
     "metadata": {},
     "output_type": "execute_result"
    }
   ],
   "source": [
    "# We need to this similarly for Total Lines\n",
    "train_df[\"total_lines\"].value_counts()\n",
    "# We can take the Cutoff to e 20"
   ]
  },
  {
   "cell_type": "code",
   "execution_count": 81,
   "id": "98d354d0",
   "metadata": {
    "execution": {
     "iopub.execute_input": "2022-01-20T06:45:01.813015Z",
     "iopub.status.busy": "2022-01-20T06:45:01.812062Z",
     "iopub.status.idle": "2022-01-20T06:45:01.821551Z",
     "shell.execute_reply": "2022-01-20T06:45:01.821097Z",
     "shell.execute_reply.started": "2022-01-18T17:19:55.935113Z"
    },
    "papermill": {
     "duration": 8.964698,
     "end_time": "2022-01-20T06:45:01.821678",
     "exception": false,
     "start_time": "2022-01-20T06:44:52.856980",
     "status": "completed"
    },
    "tags": []
   },
   "outputs": [
    {
     "data": {
      "text/plain": [
       "(<tf.Tensor: shape=(180040, 20), dtype=float32, numpy=\n",
       " array([[0., 0., 0., ..., 0., 0., 0.],\n",
       "        [0., 0., 0., ..., 0., 0., 0.],\n",
       "        [0., 0., 0., ..., 0., 0., 0.],\n",
       "        ...,\n",
       "        [0., 0., 0., ..., 0., 0., 0.],\n",
       "        [0., 0., 0., ..., 0., 0., 0.],\n",
       "        [0., 0., 0., ..., 0., 0., 0.]], dtype=float32)>,\n",
       " TensorShape([180040, 20]))"
      ]
     },
     "execution_count": 81,
     "metadata": {},
     "output_type": "execute_result"
    }
   ],
   "source": [
    "train_total_lines_one_hot=tf.one_hot(train_df[\"total_lines\"].to_numpy(),depth=20)\n",
    "val_total_lines_one_hot=tf.one_hot(val_df[\"total_lines\"].to_numpy(),depth=20)\n",
    "test_total_lines_one_hot=tf.one_hot(test_df[\"total_lines\"].to_numpy(),depth=20)\n",
    "train_total_lines_one_hot,train_total_lines_one_hot.shape"
   ]
  },
  {
   "cell_type": "code",
   "execution_count": 82,
   "id": "83163b8d",
   "metadata": {
    "execution": {
     "iopub.execute_input": "2022-01-20T06:45:19.345628Z",
     "iopub.status.busy": "2022-01-20T06:45:19.344581Z",
     "iopub.status.idle": "2022-01-20T06:45:20.138269Z",
     "shell.execute_reply": "2022-01-20T06:45:20.137778Z",
     "shell.execute_reply.started": "2022-01-18T17:47:38.649203Z"
    },
    "papermill": {
     "duration": 9.741506,
     "end_time": "2022-01-20T06:45:20.138410",
     "exception": false,
     "start_time": "2022-01-20T06:45:10.396904",
     "status": "completed"
    },
    "tags": []
   },
   "outputs": [],
   "source": [
    "# Buidling the Model\n",
    "# Token Level Model + Character Level Model + Positional Models (2) -> Line Numbers and Total Lines\n",
    "# Then we will Concatenate Model 1 and Model 2 \n",
    "# Then Combine 3,4 and Combination of 1&2 \n",
    "# Create an Output Layer\n",
    "# # # Model 1 # # #\n",
    "token_inputs=layers.Input(shape=[],dtype=tf.string,name=\"token_inputs\")\n",
    "token_embeddings=tf_hub_embedding_layers(token_inputs)\n",
    "token_outputs=layers.Dense(128,activation=\"relu\")(token_embeddings)\n",
    "token_model=tf.keras.Model(token_inputs,token_outputs)\n",
    "# Model 2 \n",
    "char_inputs=layers.Input(shape=(1,),dtype=tf.string,name=\"char_inputs\")\n",
    "char_vectors=char_vectorizer(char_inputs)\n",
    "char_embeddings=char_embed(char_vectors)\n",
    "# 24 cos 25-26 is the vocab size and we need multiples of 8\n",
    "char_bilstm=layers.Bidirectional(layers.LSTM(24))(char_embeddings)\n",
    "char_model=tf.keras.Model(char_inputs,char_bilstm)\n",
    "\n",
    "#  Model 3 and Model 4\n",
    "# shape =(15,) as we have taken depth or size of line number till 15\n",
    "line_number_inputs=layers.Input(shape=(15,),dtype=tf.float32,name=\"line_number_inputs\")\n",
    "x=layers.Dense(32,activation=\"relu\")(line_number_inputs)\n",
    "line_number_model=tf.keras.Model(line_number_inputs,x)\n",
    "\n",
    "total_lines_inputs=layers.Input(shape=(20,),dtype=tf.float32,name=\"total_lines_inputs\")\n",
    "y=layers.Dense(32,activation=\"relu\")(total_lines_inputs)\n",
    "total_lines_model=tf.keras.Model(total_lines_inputs,y)\n",
    "\n",
    "# Concatenating the 1st and 2nd Model\n",
    "combined_embeddings=layers.Concatenate(name=\"Hybrid_Merge_12\")([token_model.output,char_model.output])\n",
    "# Applying the Dropouts\n",
    "z=layers.Dense(256,activation=\"relu\")(combined_embeddings)\n",
    "z=layers.Dropout(0.5)(z)\n",
    "\n",
    "# Combining all of the above \n",
    "final_embeddings=layers.Concatenate(name=\"char_token_positional_embeddings\")([line_number_model.output,total_lines_model.output,z])\n",
    "\n",
    "# Creating the Output Layer for accepting the above layers and giving Probabilities\n",
    "\n",
    "output_layer=layers.Dense(5,activation=\"softmax\",name=\"output_layer\")(final_embeddings)\n",
    "# Creating the Model\n",
    "model_5=tf.keras.Model([line_number_model.input,total_lines_model.input,token_model.input,char_model.input],output_layer,name=\"model_5_tribrid_embedding_model\")"
   ]
  },
  {
   "cell_type": "code",
   "execution_count": 83,
   "id": "f9f7803d",
   "metadata": {
    "execution": {
     "iopub.execute_input": "2022-01-20T06:45:37.845742Z",
     "iopub.status.busy": "2022-01-20T06:45:37.844835Z",
     "iopub.status.idle": "2022-01-20T06:45:37.855968Z",
     "shell.execute_reply": "2022-01-20T06:45:37.856547Z",
     "shell.execute_reply.started": "2022-01-18T17:47:42.184501Z"
    },
    "papermill": {
     "duration": 8.882793,
     "end_time": "2022-01-20T06:45:37.856748",
     "exception": false,
     "start_time": "2022-01-20T06:45:28.973955",
     "status": "completed"
    },
    "tags": []
   },
   "outputs": [
    {
     "name": "stdout",
     "output_type": "stream",
     "text": [
      "Model: \"model_5_tribrid_embedding_model\"\n",
      "__________________________________________________________________________________________________\n",
      "Layer (type)                    Output Shape         Param #     Connected to                     \n",
      "==================================================================================================\n",
      "char_inputs (InputLayer)        [(None, 1)]          0                                            \n",
      "__________________________________________________________________________________________________\n",
      "token_inputs (InputLayer)       [(None,)]            0                                            \n",
      "__________________________________________________________________________________________________\n",
      "char_vectorizer (TextVectorizat (None, 300)          0           char_inputs[0][0]                \n",
      "__________________________________________________________________________________________________\n",
      "universal_sentence_encoder (Ker (None, 512)          256797824   token_inputs[0][0]               \n",
      "__________________________________________________________________________________________________\n",
      "character_embedding (Embedding) (None, 300, 25)      700         char_vectorizer[2][0]            \n",
      "__________________________________________________________________________________________________\n",
      "dense_8 (Dense)                 (None, 128)          65664       universal_sentence_encoder[2][0] \n",
      "__________________________________________________________________________________________________\n",
      "bidirectional_1 (Bidirectional) (None, 48)           9600        character_embedding[2][0]        \n",
      "__________________________________________________________________________________________________\n",
      "Hybrid_Merge_12 (Concatenate)   (None, 176)          0           dense_8[0][0]                    \n",
      "                                                                 bidirectional_1[0][0]            \n",
      "__________________________________________________________________________________________________\n",
      "line_number_inputs (InputLayer) [(None, 15)]         0                                            \n",
      "__________________________________________________________________________________________________\n",
      "total_lines_inputs (InputLayer) [(None, 20)]         0                                            \n",
      "__________________________________________________________________________________________________\n",
      "dense_11 (Dense)                (None, 256)          45312       Hybrid_Merge_12[0][0]            \n",
      "__________________________________________________________________________________________________\n",
      "dense_9 (Dense)                 (None, 32)           512         line_number_inputs[0][0]         \n",
      "__________________________________________________________________________________________________\n",
      "dense_10 (Dense)                (None, 32)           672         total_lines_inputs[0][0]         \n",
      "__________________________________________________________________________________________________\n",
      "dropout_2 (Dropout)             (None, 256)          0           dense_11[0][0]                   \n",
      "__________________________________________________________________________________________________\n",
      "char_token_positional_embedding (None, 320)          0           dense_9[0][0]                    \n",
      "                                                                 dense_10[0][0]                   \n",
      "                                                                 dropout_2[0][0]                  \n",
      "__________________________________________________________________________________________________\n",
      "output_layer (Dense)            (None, 5)            1605        char_token_positional_embeddings[\n",
      "==================================================================================================\n",
      "Total params: 256,921,889\n",
      "Trainable params: 124,065\n",
      "Non-trainable params: 256,797,824\n",
      "__________________________________________________________________________________________________\n"
     ]
    }
   ],
   "source": [
    "# comma pachi je hoy e batch size maate hoy shapes ma\n",
    "model_5.summary()"
   ]
  },
  {
   "cell_type": "code",
   "execution_count": 84,
   "id": "9386d10d",
   "metadata": {
    "execution": {
     "iopub.execute_input": "2022-01-20T06:45:55.686229Z",
     "iopub.status.busy": "2022-01-20T06:45:55.685385Z",
     "iopub.status.idle": "2022-01-20T06:45:56.113205Z",
     "shell.execute_reply": "2022-01-20T06:45:56.112720Z",
     "shell.execute_reply.started": "2022-01-18T17:48:12.52702Z"
    },
    "papermill": {
     "duration": 9.42754,
     "end_time": "2022-01-20T06:45:56.113330",
     "exception": false,
     "start_time": "2022-01-20T06:45:46.685790",
     "status": "completed"
    },
    "tags": []
   },
   "outputs": [
    {
     "data": {
      "image/png": "[encoded data removed]",
      "text/plain": [
       "<IPython.core.display.Image object>"
      ]
     },
     "execution_count": 84,
     "metadata": {},
     "output_type": "execute_result"
    }
   ],
   "source": [
    "# Plot hybrid token and character model and check if it has replicated the Paper\n",
    "from tensorflow.keras.utils import plot_model\n",
    "plot_model(model_5,show_shapes=True)"
   ]
  },
  {
   "cell_type": "code",
   "execution_count": 85,
   "id": "8e5a2cd5",
   "metadata": {
    "execution": {
     "iopub.execute_input": "2022-01-20T06:46:13.555321Z",
     "iopub.status.busy": "2022-01-20T06:46:13.554199Z",
     "iopub.status.idle": "2022-01-20T06:46:13.562805Z",
     "shell.execute_reply": "2022-01-20T06:46:13.562409Z",
     "shell.execute_reply.started": "2022-01-18T17:55:20.002311Z"
    },
    "papermill": {
     "duration": 8.793107,
     "end_time": "2022-01-20T06:46:13.562957",
     "exception": false,
     "start_time": "2022-01-20T06:46:04.769850",
     "status": "completed"
    },
    "tags": []
   },
   "outputs": [],
   "source": [
    "model_5.compile(loss=tf.keras.losses.CategoricalCrossentropy(label_smoothing=0.2),\n",
    "               optimizer=tf.keras.optimizers.SGD(),\n",
    "               metrics=[\"accuracy\"])\n",
    "# Label Smoothing is a regularization technique that introduces noise for the labels."
   ]
  },
  {
   "cell_type": "code",
   "execution_count": 86,
   "id": "9a1ff692",
   "metadata": {
    "execution": {
     "iopub.execute_input": "2022-01-20T06:46:31.605959Z",
     "iopub.status.busy": "2022-01-20T06:46:31.590607Z",
     "iopub.status.idle": "2022-01-20T06:46:33.925534Z",
     "shell.execute_reply": "2022-01-20T06:46:33.924869Z",
     "shell.execute_reply.started": "2022-01-18T18:08:19.913713Z"
    },
    "papermill": {
     "duration": 11.589572,
     "end_time": "2022-01-20T06:46:33.925669",
     "exception": false,
     "start_time": "2022-01-20T06:46:22.336097",
     "status": "completed"
    },
    "tags": []
   },
   "outputs": [],
   "source": [
    "# Creating Fast Loading Datasets for Model 5 with tf.data API\n",
    "# ##### IMP IMP IMP IMP IMP IMP IMP IMP IMP IMP ###########\n",
    "# The orders of line number, total lines, tokens, chars has been and must be maintained throughout the Model Operations\n",
    "train_char_token_pos_data=tf.data.Dataset.from_tensor_slices((train_line_numbers_one_hot,train_total_lines_one_hot,train_sentences,train_chars))\n",
    "train_char_token_pos_labels=tf.data.Dataset.from_tensor_slices(train_labels_one_hot)\n",
    "train_char_token_pos_dataset=tf.data.Dataset.zip((train_char_token_pos_data,train_char_token_pos_labels))\n",
    "train_char_token_pos_dataset=train_char_token_pos_dataset.batch(32).prefetch(tf.data.AUTOTUNE)\n",
    "\n",
    "val_char_token_pos_data=tf.data.Dataset.from_tensor_slices((val_line_numbers_one_hot,val_total_lines_one_hot,val_sentences,val_chars))\n",
    "val_char_token_pos_labels=tf.data.Dataset.from_tensor_slices(val_labels_one_hot)\n",
    "val_char_token_pos_dataset=tf.data.Dataset.zip((val_char_token_pos_data,val_char_token_pos_labels))\n",
    "val_char_token_pos_dataset=val_char_token_pos_dataset.batch(32).prefetch(tf.data.AUTOTUNE)\n",
    "\n",
    "test_char_token_pos_data=tf.data.Dataset.from_tensor_slices((test_line_numbers_one_hot,test_total_lines_one_hot,test_sentences,test_chars))\n",
    "test_char_token_pos_labels=tf.data.Dataset.from_tensor_slices(test_labels_one_hot)\n",
    "test_char_token_pos_dataset=tf.data.Dataset.zip((test_char_token_pos_data,test_char_token_pos_labels))\n",
    "test_char_token_pos_dataset=test_char_token_pos_dataset.batch(32).prefetch(tf.data.AUTOTUNE)\n"
   ]
  },
  {
   "cell_type": "code",
   "execution_count": 87,
   "id": "df67191f",
   "metadata": {
    "execution": {
     "iopub.execute_input": "2022-01-20T06:46:51.405711Z",
     "iopub.status.busy": "2022-01-20T06:46:51.404573Z",
     "iopub.status.idle": "2022-01-20T06:46:51.408162Z",
     "shell.execute_reply": "2022-01-20T06:46:51.407716Z",
     "shell.execute_reply.started": "2022-01-18T18:09:03.614146Z"
    },
    "papermill": {
     "duration": 8.728025,
     "end_time": "2022-01-20T06:46:51.408305",
     "exception": false,
     "start_time": "2022-01-20T06:46:42.680280",
     "status": "completed"
    },
    "tags": []
   },
   "outputs": [
    {
     "data": {
      "text/plain": [
       "<PrefetchDataset shapes: (((None, 15), (None, 20), (None,), (None,)), (None, 5)), types: ((tf.float32, tf.float32, tf.string, tf.string), tf.float64)>"
      ]
     },
     "execution_count": 87,
     "metadata": {},
     "output_type": "execute_result"
    }
   ],
   "source": [
    "train_char_token_pos_dataset"
   ]
  },
  {
   "cell_type": "code",
   "execution_count": 88,
   "id": "4eb0e9ed",
   "metadata": {
    "execution": {
     "iopub.execute_input": "2022-01-20T06:47:09.141902Z",
     "iopub.status.busy": "2022-01-20T06:47:09.141067Z",
     "iopub.status.idle": "2022-01-20T07:22:42.503767Z",
     "shell.execute_reply": "2022-01-20T07:22:42.504194Z",
     "shell.execute_reply.started": "2022-01-18T18:32:42.868882Z"
    },
    "papermill": {
     "duration": 2142.075862,
     "end_time": "2022-01-20T07:22:42.504368",
     "exception": false,
     "start_time": "2022-01-20T06:47:00.428506",
     "status": "completed"
    },
    "tags": []
   },
   "outputs": [
    {
     "name": "stdout",
     "output_type": "stream",
     "text": [
      "Epoch 1/9\n",
      "5627/5627 [==============================] - 218s 38ms/step - loss: 1.2489 - accuracy: 0.6074 - val_loss: 1.0439 - val_accuracy: 0.7580\n",
      "Epoch 2/9\n",
      "5627/5627 [==============================] - 220s 39ms/step - loss: 1.0300 - accuracy: 0.7676 - val_loss: 0.9973 - val_accuracy: 0.7907\n",
      "Epoch 3/9\n",
      "5627/5627 [==============================] - 214s 38ms/step - loss: 1.0020 - accuracy: 0.7878 - val_loss: 0.9797 - val_accuracy: 0.8030\n",
      "Epoch 4/9\n",
      "5627/5627 [==============================] - 220s 39ms/step - loss: 0.9875 - accuracy: 0.7994 - val_loss: 0.9684 - val_accuracy: 0.8122\n",
      "Epoch 5/9\n",
      "5627/5627 [==============================] - 215s 38ms/step - loss: 0.9771 - accuracy: 0.8079 - val_loss: 0.9606 - val_accuracy: 0.8192\n",
      "Epoch 6/9\n",
      "5627/5627 [==============================] - 216s 38ms/step - loss: 0.9699 - accuracy: 0.8137 - val_loss: 0.9550 - val_accuracy: 0.8224\n",
      "Epoch 7/9\n",
      "5627/5627 [==============================] - 224s 40ms/step - loss: 0.9643 - accuracy: 0.8170 - val_loss: 0.9507 - val_accuracy: 0.8248\n",
      "Epoch 8/9\n",
      "5627/5627 [==============================] - 217s 39ms/step - loss: 0.9593 - accuracy: 0.8212 - val_loss: 0.9464 - val_accuracy: 0.8273\n",
      "Epoch 9/9\n",
      "5627/5627 [==============================] - 217s 39ms/step - loss: 0.9557 - accuracy: 0.8238 - val_loss: 0.9441 - val_accuracy: 0.8285\n"
     ]
    }
   ],
   "source": [
    "history_model_5 = model_5.fit(train_char_token_pos_dataset,\n",
    "                              epochs=9,\n",
    "                              validation_data=val_char_token_pos_dataset)\n"
   ]
  },
  {
   "cell_type": "code",
   "execution_count": 89,
   "id": "a685b7a8",
   "metadata": {
    "execution": {
     "iopub.execute_input": "2022-01-20T07:23:14.908144Z",
     "iopub.status.busy": "2022-01-20T07:23:14.907501Z",
     "iopub.status.idle": "2022-01-20T07:23:15.239700Z",
     "shell.execute_reply": "2022-01-20T07:23:15.239147Z"
    },
    "papermill": {
     "duration": 16.112024,
     "end_time": "2022-01-20T07:23:15.239972",
     "exception": true,
     "start_time": "2022-01-20T07:22:59.127948",
     "status": "failed"
    },
    "tags": []
   },
   "outputs": [
    {
     "ename": "ValueError",
     "evalue": "in user code:\n\n    /opt/conda/lib/python3.7/site-packages/keras/engine/training.py:1586 predict_function  *\n        return step_function(self, iterator)\n    /opt/conda/lib/python3.7/site-packages/keras/engine/training.py:1576 step_function  **\n        outputs = model.distribute_strategy.run(run_step, args=(data,))\n    /opt/conda/lib/python3.7/site-packages/tensorflow/python/distribute/distribute_lib.py:1286 run\n        return self._extended.call_for_each_replica(fn, args=args, kwargs=kwargs)\n    /opt/conda/lib/python3.7/site-packages/tensorflow/python/distribute/distribute_lib.py:2849 call_for_each_replica\n        return self._call_for_each_replica(fn, args, kwargs)\n    /opt/conda/lib/python3.7/site-packages/tensorflow/python/distribute/distribute_lib.py:3632 _call_for_each_replica\n        return fn(*args, **kwargs)\n    /opt/conda/lib/python3.7/site-packages/keras/engine/training.py:1569 run_step  **\n        outputs = model.predict_step(data)\n    /opt/conda/lib/python3.7/site-packages/keras/engine/training.py:1537 predict_step\n        return self(x, training=False)\n    /opt/conda/lib/python3.7/site-packages/keras/engine/base_layer.py:1020 __call__\n        input_spec.assert_input_compatibility(self.input_spec, inputs, self.name)\n    /opt/conda/lib/python3.7/site-packages/keras/engine/input_spec.py:202 assert_input_compatibility\n        ' input tensors. Inputs received: ' + str(inputs))\n\n    ValueError: Layer model_5_tribrid_embedding_model expects 4 input(s), but it received 1 input tensors. Inputs received: [<tf.Tensor 'ExpandDims:0' shape=(None, 1) dtype=string>]\n",
     "output_type": "error",
     "traceback": [
      "\u001b[0;31m---------------------------------------------------------------------------\u001b[0m",
      "\u001b[0;31mValueError\u001b[0m                                Traceback (most recent call last)",
      "\u001b[0;32m/tmp/ipykernel_25/2201902431.py\u001b[0m in \u001b[0;36m<module>\u001b[0;34m\u001b[0m\n\u001b[1;32m      1\u001b[0m \u001b[0;31m# Caryying out similar exercise for Model 4\u001b[0m\u001b[0;34m\u001b[0m\u001b[0;34m\u001b[0m\u001b[0;34m\u001b[0m\u001b[0m\n\u001b[0;32m----> 2\u001b[0;31m \u001b[0mmodel_5_prediction_probability\u001b[0m\u001b[0;34m=\u001b[0m\u001b[0mmodel_5\u001b[0m\u001b[0;34m.\u001b[0m\u001b[0mpredict\u001b[0m\u001b[0;34m(\u001b[0m\u001b[0mval_char_dataset\u001b[0m\u001b[0;34m)\u001b[0m\u001b[0;34m\u001b[0m\u001b[0;34m\u001b[0m\u001b[0m\n\u001b[0m\u001b[1;32m      3\u001b[0m \u001b[0mmodel_5_prediction_probability\u001b[0m\u001b[0;34m\u001b[0m\u001b[0;34m\u001b[0m\u001b[0m\n\u001b[1;32m      4\u001b[0m \u001b[0mmodel_5_prediction\u001b[0m\u001b[0;34m=\u001b[0m\u001b[0mtf\u001b[0m\u001b[0;34m.\u001b[0m\u001b[0margmax\u001b[0m\u001b[0;34m(\u001b[0m\u001b[0mmodel_5_prediction_probability\u001b[0m\u001b[0;34m,\u001b[0m\u001b[0maxis\u001b[0m\u001b[0;34m=\u001b[0m\u001b[0;36m1\u001b[0m\u001b[0;34m)\u001b[0m\u001b[0;34m\u001b[0m\u001b[0;34m\u001b[0m\u001b[0m\n\u001b[1;32m      5\u001b[0m \u001b[0mmodel_5_prediction\u001b[0m\u001b[0;34m\u001b[0m\u001b[0;34m\u001b[0m\u001b[0m\n",
      "\u001b[0;32m/opt/conda/lib/python3.7/site-packages/keras/engine/training.py\u001b[0m in \u001b[0;36mpredict\u001b[0;34m(self, x, batch_size, verbose, steps, callbacks, max_queue_size, workers, use_multiprocessing)\u001b[0m\n\u001b[1;32m   1749\u001b[0m           \u001b[0;32mfor\u001b[0m \u001b[0mstep\u001b[0m \u001b[0;32min\u001b[0m \u001b[0mdata_handler\u001b[0m\u001b[0;34m.\u001b[0m\u001b[0msteps\u001b[0m\u001b[0;34m(\u001b[0m\u001b[0;34m)\u001b[0m\u001b[0;34m:\u001b[0m\u001b[0;34m\u001b[0m\u001b[0;34m\u001b[0m\u001b[0m\n\u001b[1;32m   1750\u001b[0m             \u001b[0mcallbacks\u001b[0m\u001b[0;34m.\u001b[0m\u001b[0mon_predict_batch_begin\u001b[0m\u001b[0;34m(\u001b[0m\u001b[0mstep\u001b[0m\u001b[0;34m)\u001b[0m\u001b[0;34m\u001b[0m\u001b[0;34m\u001b[0m\u001b[0m\n\u001b[0;32m-> 1751\u001b[0;31m             \u001b[0mtmp_batch_outputs\u001b[0m \u001b[0;34m=\u001b[0m \u001b[0mself\u001b[0m\u001b[0;34m.\u001b[0m\u001b[0mpredict_function\u001b[0m\u001b[0;34m(\u001b[0m\u001b[0miterator\u001b[0m\u001b[0;34m)\u001b[0m\u001b[0;34m\u001b[0m\u001b[0;34m\u001b[0m\u001b[0m\n\u001b[0m\u001b[1;32m   1752\u001b[0m             \u001b[0;32mif\u001b[0m \u001b[0mdata_handler\u001b[0m\u001b[0;34m.\u001b[0m\u001b[0mshould_sync\u001b[0m\u001b[0;34m:\u001b[0m\u001b[0;34m\u001b[0m\u001b[0;34m\u001b[0m\u001b[0m\n\u001b[1;32m   1753\u001b[0m               \u001b[0mcontext\u001b[0m\u001b[0;34m.\u001b[0m\u001b[0masync_wait\u001b[0m\u001b[0;34m(\u001b[0m\u001b[0;34m)\u001b[0m\u001b[0;34m\u001b[0m\u001b[0;34m\u001b[0m\u001b[0m\n",
      "\u001b[0;32m/opt/conda/lib/python3.7/site-packages/tensorflow/python/eager/def_function.py\u001b[0m in \u001b[0;36m__call__\u001b[0;34m(self, *args, **kwds)\u001b[0m\n\u001b[1;32m    883\u001b[0m \u001b[0;34m\u001b[0m\u001b[0m\n\u001b[1;32m    884\u001b[0m       \u001b[0;32mwith\u001b[0m \u001b[0mOptionalXlaContext\u001b[0m\u001b[0;34m(\u001b[0m\u001b[0mself\u001b[0m\u001b[0;34m.\u001b[0m\u001b[0m_jit_compile\u001b[0m\u001b[0;34m)\u001b[0m\u001b[0;34m:\u001b[0m\u001b[0;34m\u001b[0m\u001b[0;34m\u001b[0m\u001b[0m\n\u001b[0;32m--> 885\u001b[0;31m         \u001b[0mresult\u001b[0m \u001b[0;34m=\u001b[0m \u001b[0mself\u001b[0m\u001b[0;34m.\u001b[0m\u001b[0m_call\u001b[0m\u001b[0;34m(\u001b[0m\u001b[0;34m*\u001b[0m\u001b[0margs\u001b[0m\u001b[0;34m,\u001b[0m \u001b[0;34m**\u001b[0m\u001b[0mkwds\u001b[0m\u001b[0;34m)\u001b[0m\u001b[0;34m\u001b[0m\u001b[0;34m\u001b[0m\u001b[0m\n\u001b[0m\u001b[1;32m    886\u001b[0m \u001b[0;34m\u001b[0m\u001b[0m\n\u001b[1;32m    887\u001b[0m       \u001b[0mnew_tracing_count\u001b[0m \u001b[0;34m=\u001b[0m \u001b[0mself\u001b[0m\u001b[0;34m.\u001b[0m\u001b[0mexperimental_get_tracing_count\u001b[0m\u001b[0;34m(\u001b[0m\u001b[0;34m)\u001b[0m\u001b[0;34m\u001b[0m\u001b[0;34m\u001b[0m\u001b[0m\n",
      "\u001b[0;32m/opt/conda/lib/python3.7/site-packages/tensorflow/python/eager/def_function.py\u001b[0m in \u001b[0;36m_call\u001b[0;34m(self, *args, **kwds)\u001b[0m\n\u001b[1;32m    931\u001b[0m       \u001b[0;31m# This is the first call of __call__, so we have to initialize.\u001b[0m\u001b[0;34m\u001b[0m\u001b[0;34m\u001b[0m\u001b[0;34m\u001b[0m\u001b[0m\n\u001b[1;32m    932\u001b[0m       \u001b[0minitializers\u001b[0m \u001b[0;34m=\u001b[0m \u001b[0;34m[\u001b[0m\u001b[0;34m]\u001b[0m\u001b[0;34m\u001b[0m\u001b[0;34m\u001b[0m\u001b[0m\n\u001b[0;32m--> 933\u001b[0;31m       \u001b[0mself\u001b[0m\u001b[0;34m.\u001b[0m\u001b[0m_initialize\u001b[0m\u001b[0;34m(\u001b[0m\u001b[0margs\u001b[0m\u001b[0;34m,\u001b[0m \u001b[0mkwds\u001b[0m\u001b[0;34m,\u001b[0m \u001b[0madd_initializers_to\u001b[0m\u001b[0;34m=\u001b[0m\u001b[0minitializers\u001b[0m\u001b[0;34m)\u001b[0m\u001b[0;34m\u001b[0m\u001b[0;34m\u001b[0m\u001b[0m\n\u001b[0m\u001b[1;32m    934\u001b[0m     \u001b[0;32mfinally\u001b[0m\u001b[0;34m:\u001b[0m\u001b[0;34m\u001b[0m\u001b[0;34m\u001b[0m\u001b[0m\n\u001b[1;32m    935\u001b[0m       \u001b[0;31m# At this point we know that the initialization is complete (or less\u001b[0m\u001b[0;34m\u001b[0m\u001b[0;34m\u001b[0m\u001b[0;34m\u001b[0m\u001b[0m\n",
      "\u001b[0;32m/opt/conda/lib/python3.7/site-packages/tensorflow/python/eager/def_function.py\u001b[0m in \u001b[0;36m_initialize\u001b[0;34m(self, args, kwds, add_initializers_to)\u001b[0m\n\u001b[1;32m    758\u001b[0m     self._concrete_stateful_fn = (\n\u001b[1;32m    759\u001b[0m         self._stateful_fn._get_concrete_function_internal_garbage_collected(  # pylint: disable=protected-access\n\u001b[0;32m--> 760\u001b[0;31m             *args, **kwds))\n\u001b[0m\u001b[1;32m    761\u001b[0m \u001b[0;34m\u001b[0m\u001b[0m\n\u001b[1;32m    762\u001b[0m     \u001b[0;32mdef\u001b[0m \u001b[0minvalid_creator_scope\u001b[0m\u001b[0;34m(\u001b[0m\u001b[0;34m*\u001b[0m\u001b[0munused_args\u001b[0m\u001b[0;34m,\u001b[0m \u001b[0;34m**\u001b[0m\u001b[0munused_kwds\u001b[0m\u001b[0;34m)\u001b[0m\u001b[0;34m:\u001b[0m\u001b[0;34m\u001b[0m\u001b[0;34m\u001b[0m\u001b[0m\n",
      "\u001b[0;32m/opt/conda/lib/python3.7/site-packages/tensorflow/python/eager/function.py\u001b[0m in \u001b[0;36m_get_concrete_function_internal_garbage_collected\u001b[0;34m(self, *args, **kwargs)\u001b[0m\n\u001b[1;32m   3064\u001b[0m       \u001b[0margs\u001b[0m\u001b[0;34m,\u001b[0m \u001b[0mkwargs\u001b[0m \u001b[0;34m=\u001b[0m \u001b[0;32mNone\u001b[0m\u001b[0;34m,\u001b[0m \u001b[0;32mNone\u001b[0m\u001b[0;34m\u001b[0m\u001b[0;34m\u001b[0m\u001b[0m\n\u001b[1;32m   3065\u001b[0m     \u001b[0;32mwith\u001b[0m \u001b[0mself\u001b[0m\u001b[0;34m.\u001b[0m\u001b[0m_lock\u001b[0m\u001b[0;34m:\u001b[0m\u001b[0;34m\u001b[0m\u001b[0;34m\u001b[0m\u001b[0m\n\u001b[0;32m-> 3066\u001b[0;31m       \u001b[0mgraph_function\u001b[0m\u001b[0;34m,\u001b[0m \u001b[0m_\u001b[0m \u001b[0;34m=\u001b[0m \u001b[0mself\u001b[0m\u001b[0;34m.\u001b[0m\u001b[0m_maybe_define_function\u001b[0m\u001b[0;34m(\u001b[0m\u001b[0margs\u001b[0m\u001b[0;34m,\u001b[0m \u001b[0mkwargs\u001b[0m\u001b[0;34m)\u001b[0m\u001b[0;34m\u001b[0m\u001b[0;34m\u001b[0m\u001b[0m\n\u001b[0m\u001b[1;32m   3067\u001b[0m     \u001b[0;32mreturn\u001b[0m \u001b[0mgraph_function\u001b[0m\u001b[0;34m\u001b[0m\u001b[0;34m\u001b[0m\u001b[0m\n\u001b[1;32m   3068\u001b[0m \u001b[0;34m\u001b[0m\u001b[0m\n",
      "\u001b[0;32m/opt/conda/lib/python3.7/site-packages/tensorflow/python/eager/function.py\u001b[0m in \u001b[0;36m_maybe_define_function\u001b[0;34m(self, args, kwargs)\u001b[0m\n\u001b[1;32m   3461\u001b[0m \u001b[0;34m\u001b[0m\u001b[0m\n\u001b[1;32m   3462\u001b[0m           \u001b[0mself\u001b[0m\u001b[0;34m.\u001b[0m\u001b[0m_function_cache\u001b[0m\u001b[0;34m.\u001b[0m\u001b[0mmissed\u001b[0m\u001b[0;34m.\u001b[0m\u001b[0madd\u001b[0m\u001b[0;34m(\u001b[0m\u001b[0mcall_context_key\u001b[0m\u001b[0;34m)\u001b[0m\u001b[0;34m\u001b[0m\u001b[0;34m\u001b[0m\u001b[0m\n\u001b[0;32m-> 3463\u001b[0;31m           \u001b[0mgraph_function\u001b[0m \u001b[0;34m=\u001b[0m \u001b[0mself\u001b[0m\u001b[0;34m.\u001b[0m\u001b[0m_create_graph_function\u001b[0m\u001b[0;34m(\u001b[0m\u001b[0margs\u001b[0m\u001b[0;34m,\u001b[0m \u001b[0mkwargs\u001b[0m\u001b[0;34m)\u001b[0m\u001b[0;34m\u001b[0m\u001b[0;34m\u001b[0m\u001b[0m\n\u001b[0m\u001b[1;32m   3464\u001b[0m           \u001b[0mself\u001b[0m\u001b[0;34m.\u001b[0m\u001b[0m_function_cache\u001b[0m\u001b[0;34m.\u001b[0m\u001b[0mprimary\u001b[0m\u001b[0;34m[\u001b[0m\u001b[0mcache_key\u001b[0m\u001b[0;34m]\u001b[0m \u001b[0;34m=\u001b[0m \u001b[0mgraph_function\u001b[0m\u001b[0;34m\u001b[0m\u001b[0;34m\u001b[0m\u001b[0m\n\u001b[1;32m   3465\u001b[0m \u001b[0;34m\u001b[0m\u001b[0m\n",
      "\u001b[0;32m/opt/conda/lib/python3.7/site-packages/tensorflow/python/eager/function.py\u001b[0m in \u001b[0;36m_create_graph_function\u001b[0;34m(self, args, kwargs, override_flat_arg_shapes)\u001b[0m\n\u001b[1;32m   3306\u001b[0m             \u001b[0marg_names\u001b[0m\u001b[0;34m=\u001b[0m\u001b[0marg_names\u001b[0m\u001b[0;34m,\u001b[0m\u001b[0;34m\u001b[0m\u001b[0;34m\u001b[0m\u001b[0m\n\u001b[1;32m   3307\u001b[0m             \u001b[0moverride_flat_arg_shapes\u001b[0m\u001b[0;34m=\u001b[0m\u001b[0moverride_flat_arg_shapes\u001b[0m\u001b[0;34m,\u001b[0m\u001b[0;34m\u001b[0m\u001b[0;34m\u001b[0m\u001b[0m\n\u001b[0;32m-> 3308\u001b[0;31m             capture_by_value=self._capture_by_value),\n\u001b[0m\u001b[1;32m   3309\u001b[0m         \u001b[0mself\u001b[0m\u001b[0;34m.\u001b[0m\u001b[0m_function_attributes\u001b[0m\u001b[0;34m,\u001b[0m\u001b[0;34m\u001b[0m\u001b[0;34m\u001b[0m\u001b[0m\n\u001b[1;32m   3310\u001b[0m         \u001b[0mfunction_spec\u001b[0m\u001b[0;34m=\u001b[0m\u001b[0mself\u001b[0m\u001b[0;34m.\u001b[0m\u001b[0mfunction_spec\u001b[0m\u001b[0;34m,\u001b[0m\u001b[0;34m\u001b[0m\u001b[0;34m\u001b[0m\u001b[0m\n",
      "\u001b[0;32m/opt/conda/lib/python3.7/site-packages/tensorflow/python/framework/func_graph.py\u001b[0m in \u001b[0;36mfunc_graph_from_py_func\u001b[0;34m(name, python_func, args, kwargs, signature, func_graph, autograph, autograph_options, add_control_dependencies, arg_names, op_return_value, collections, capture_by_value, override_flat_arg_shapes, acd_record_initial_resource_uses)\u001b[0m\n\u001b[1;32m   1005\u001b[0m         \u001b[0m_\u001b[0m\u001b[0;34m,\u001b[0m \u001b[0moriginal_func\u001b[0m \u001b[0;34m=\u001b[0m \u001b[0mtf_decorator\u001b[0m\u001b[0;34m.\u001b[0m\u001b[0munwrap\u001b[0m\u001b[0;34m(\u001b[0m\u001b[0mpython_func\u001b[0m\u001b[0;34m)\u001b[0m\u001b[0;34m\u001b[0m\u001b[0;34m\u001b[0m\u001b[0m\n\u001b[1;32m   1006\u001b[0m \u001b[0;34m\u001b[0m\u001b[0m\n\u001b[0;32m-> 1007\u001b[0;31m       \u001b[0mfunc_outputs\u001b[0m \u001b[0;34m=\u001b[0m \u001b[0mpython_func\u001b[0m\u001b[0;34m(\u001b[0m\u001b[0;34m*\u001b[0m\u001b[0mfunc_args\u001b[0m\u001b[0;34m,\u001b[0m \u001b[0;34m**\u001b[0m\u001b[0mfunc_kwargs\u001b[0m\u001b[0;34m)\u001b[0m\u001b[0;34m\u001b[0m\u001b[0;34m\u001b[0m\u001b[0m\n\u001b[0m\u001b[1;32m   1008\u001b[0m \u001b[0;34m\u001b[0m\u001b[0m\n\u001b[1;32m   1009\u001b[0m       \u001b[0;31m# invariant: `func_outputs` contains only Tensors, CompositeTensors,\u001b[0m\u001b[0;34m\u001b[0m\u001b[0;34m\u001b[0m\u001b[0;34m\u001b[0m\u001b[0m\n",
      "\u001b[0;32m/opt/conda/lib/python3.7/site-packages/tensorflow/python/eager/def_function.py\u001b[0m in \u001b[0;36mwrapped_fn\u001b[0;34m(*args, **kwds)\u001b[0m\n\u001b[1;32m    666\u001b[0m         \u001b[0;31m# the function a weak reference to itself to avoid a reference cycle.\u001b[0m\u001b[0;34m\u001b[0m\u001b[0;34m\u001b[0m\u001b[0;34m\u001b[0m\u001b[0m\n\u001b[1;32m    667\u001b[0m         \u001b[0;32mwith\u001b[0m \u001b[0mOptionalXlaContext\u001b[0m\u001b[0;34m(\u001b[0m\u001b[0mcompile_with_xla\u001b[0m\u001b[0;34m)\u001b[0m\u001b[0;34m:\u001b[0m\u001b[0;34m\u001b[0m\u001b[0;34m\u001b[0m\u001b[0m\n\u001b[0;32m--> 668\u001b[0;31m           \u001b[0mout\u001b[0m \u001b[0;34m=\u001b[0m \u001b[0mweak_wrapped_fn\u001b[0m\u001b[0;34m(\u001b[0m\u001b[0;34m)\u001b[0m\u001b[0;34m.\u001b[0m\u001b[0m__wrapped__\u001b[0m\u001b[0;34m(\u001b[0m\u001b[0;34m*\u001b[0m\u001b[0margs\u001b[0m\u001b[0;34m,\u001b[0m \u001b[0;34m**\u001b[0m\u001b[0mkwds\u001b[0m\u001b[0;34m)\u001b[0m\u001b[0;34m\u001b[0m\u001b[0;34m\u001b[0m\u001b[0m\n\u001b[0m\u001b[1;32m    669\u001b[0m         \u001b[0;32mreturn\u001b[0m \u001b[0mout\u001b[0m\u001b[0;34m\u001b[0m\u001b[0;34m\u001b[0m\u001b[0m\n\u001b[1;32m    670\u001b[0m \u001b[0;34m\u001b[0m\u001b[0m\n",
      "\u001b[0;32m/opt/conda/lib/python3.7/site-packages/tensorflow/python/framework/func_graph.py\u001b[0m in \u001b[0;36mwrapper\u001b[0;34m(*args, **kwargs)\u001b[0m\n\u001b[1;32m    992\u001b[0m           \u001b[0;32mexcept\u001b[0m \u001b[0mException\u001b[0m \u001b[0;32mas\u001b[0m \u001b[0me\u001b[0m\u001b[0;34m:\u001b[0m  \u001b[0;31m# pylint:disable=broad-except\u001b[0m\u001b[0;34m\u001b[0m\u001b[0;34m\u001b[0m\u001b[0m\n\u001b[1;32m    993\u001b[0m             \u001b[0;32mif\u001b[0m \u001b[0mhasattr\u001b[0m\u001b[0;34m(\u001b[0m\u001b[0me\u001b[0m\u001b[0;34m,\u001b[0m \u001b[0;34m\"ag_error_metadata\"\u001b[0m\u001b[0;34m)\u001b[0m\u001b[0;34m:\u001b[0m\u001b[0;34m\u001b[0m\u001b[0;34m\u001b[0m\u001b[0m\n\u001b[0;32m--> 994\u001b[0;31m               \u001b[0;32mraise\u001b[0m \u001b[0me\u001b[0m\u001b[0;34m.\u001b[0m\u001b[0mag_error_metadata\u001b[0m\u001b[0;34m.\u001b[0m\u001b[0mto_exception\u001b[0m\u001b[0;34m(\u001b[0m\u001b[0me\u001b[0m\u001b[0;34m)\u001b[0m\u001b[0;34m\u001b[0m\u001b[0;34m\u001b[0m\u001b[0m\n\u001b[0m\u001b[1;32m    995\u001b[0m             \u001b[0;32melse\u001b[0m\u001b[0;34m:\u001b[0m\u001b[0;34m\u001b[0m\u001b[0;34m\u001b[0m\u001b[0m\n\u001b[1;32m    996\u001b[0m               \u001b[0;32mraise\u001b[0m\u001b[0;34m\u001b[0m\u001b[0;34m\u001b[0m\u001b[0m\n",
      "\u001b[0;31mValueError\u001b[0m: in user code:\n\n    /opt/conda/lib/python3.7/site-packages/keras/engine/training.py:1586 predict_function  *\n        return step_function(self, iterator)\n    /opt/conda/lib/python3.7/site-packages/keras/engine/training.py:1576 step_function  **\n        outputs = model.distribute_strategy.run(run_step, args=(data,))\n    /opt/conda/lib/python3.7/site-packages/tensorflow/python/distribute/distribute_lib.py:1286 run\n        return self._extended.call_for_each_replica(fn, args=args, kwargs=kwargs)\n    /opt/conda/lib/python3.7/site-packages/tensorflow/python/distribute/distribute_lib.py:2849 call_for_each_replica\n        return self._call_for_each_replica(fn, args, kwargs)\n    /opt/conda/lib/python3.7/site-packages/tensorflow/python/distribute/distribute_lib.py:3632 _call_for_each_replica\n        return fn(*args, **kwargs)\n    /opt/conda/lib/python3.7/site-packages/keras/engine/training.py:1569 run_step  **\n        outputs = model.predict_step(data)\n    /opt/conda/lib/python3.7/site-packages/keras/engine/training.py:1537 predict_step\n        return self(x, training=False)\n    /opt/conda/lib/python3.7/site-packages/keras/engine/base_layer.py:1020 __call__\n        input_spec.assert_input_compatibility(self.input_spec, inputs, self.name)\n    /opt/conda/lib/python3.7/site-packages/keras/engine/input_spec.py:202 assert_input_compatibility\n        ' input tensors. Inputs received: ' + str(inputs))\n\n    ValueError: Layer model_5_tribrid_embedding_model expects 4 input(s), but it received 1 input tensors. Inputs received: [<tf.Tensor 'ExpandDims:0' shape=(None, 1) dtype=string>]\n"
     ]
    }
   ],
   "source": [
    "# Caryying out similar exercise for Model 4\n",
    "model_5_prediction_probability=model_5.predict(val_char_dataset)\n",
    "model_5_prediction_probability\n",
    "model_5_prediction=tf.argmax(model_5_prediction_probability,axis=1)\n",
    "model_5_prediction\n",
    "model_5_results=calculate_results(y_true=val_labels_encoded,y_pred=model_5_prediction)\n",
    "model_5_results"
   ]
  }
 ],
 "metadata": {
  "kernelspec": {
   "display_name": "Python 3 (ipykernel)",
   "language": "python",
   "name": "python3"
  },
  "language_info": {
   "codemirror_mode": {
    "name": "ipython",
    "version": 3
   },
   "file_extension": ".py",
   "mimetype": "text/x-python",
   "name": "python",
   "nbconvert_exporter": "python",
   "pygments_lexer": "ipython3",
   "version": "3.9.12"
  },
  "papermill": {
   "default_parameters": {},
   "duration": 5525.354395,
   "end_time": "2022-01-20T07:23:35.232302",
   "environment_variables": {},
   "exception": true,
   "input_path": "__notebook__.ipynb",
   "output_path": "__notebook__.ipynb",
   "parameters": {},
   "start_time": "2022-01-20T05:51:29.877907",
   "version": "2.3.3"
  }
 },
 "nbformat": 4,
 "nbformat_minor": 5
}
